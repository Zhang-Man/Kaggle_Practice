{
 "cells": [
  {
   "cell_type": "code",
   "execution_count": 1,
   "id": "deda1bb8",
   "metadata": {
    "_cell_guid": "b1076dfc-b9ad-4769-8c92-a6c4dae69d19",
    "_uuid": "8f2839f25d086af736a60e9eeb907d3b93b6e0e5",
    "execution": {
     "iopub.execute_input": "2021-11-20T17:44:18.809868Z",
     "iopub.status.busy": "2021-11-20T17:44:18.808150Z",
     "iopub.status.idle": "2021-11-20T17:44:20.917664Z",
     "shell.execute_reply": "2021-11-20T17:44:20.918117Z",
     "shell.execute_reply.started": "2021-11-20T17:32:58.662722Z"
    },
    "papermill": {
     "duration": 2.159614,
     "end_time": "2021-11-20T17:44:20.918434",
     "exception": false,
     "start_time": "2021-11-20T17:44:18.758820",
     "status": "completed"
    },
    "tags": []
   },
   "outputs": [
    {
     "data": {
      "text/html": [
       "<style type='text/css'>\n",
       ".datatable table.frame { margin-bottom: 0; }\n",
       ".datatable table.frame thead { border-bottom: none; }\n",
       ".datatable table.frame tr.coltypes td {  color: #FFFFFF;  line-height: 6px;  padding: 0 0.5em;}\n",
       ".datatable .bool    { background: #DDDD99; }\n",
       ".datatable .object  { background: #565656; }\n",
       ".datatable .int     { background: #5D9E5D; }\n",
       ".datatable .float   { background: #4040CC; }\n",
       ".datatable .str     { background: #CC4040; }\n",
       ".datatable .time    { background: #40CC40; }\n",
       ".datatable .row_index {  background: var(--jp-border-color3);  border-right: 1px solid var(--jp-border-color0);  color: var(--jp-ui-font-color3);  font-size: 9px;}\n",
       ".datatable .frame tbody td { text-align: left; }\n",
       ".datatable .frame tr.coltypes .row_index {  background: var(--jp-border-color0);}\n",
       ".datatable th:nth-child(2) { padding-left: 12px; }\n",
       ".datatable .hellipsis {  color: var(--jp-cell-editor-border-color);}\n",
       ".datatable .vellipsis {  background: var(--jp-layout-color0);  color: var(--jp-cell-editor-border-color);}\n",
       ".datatable .na {  color: var(--jp-cell-editor-border-color);  font-size: 80%;}\n",
       ".datatable .sp {  opacity: 0.25;}\n",
       ".datatable .footer { font-size: 9px; }\n",
       ".datatable .frame_dimensions {  background: var(--jp-border-color3);  border-top: 1px solid var(--jp-border-color0);  color: var(--jp-ui-font-color3);  display: inline-block;  opacity: 0.6;  padding: 1px 10px 1px 5px;}\n",
       "</style>\n"
      ],
      "text/plain": [
       "<IPython.core.display.HTML object>"
      ]
     },
     "metadata": {},
     "output_type": "display_data"
    },
    {
     "name": "stdout",
     "output_type": "stream",
     "text": [
      "/kaggle/input/competitive-data-science-predict-future-sales/items.csv\n",
      "/kaggle/input/competitive-data-science-predict-future-sales/sample_submission.csv\n",
      "/kaggle/input/competitive-data-science-predict-future-sales/item_categories.csv\n",
      "/kaggle/input/competitive-data-science-predict-future-sales/sales_train.csv\n",
      "/kaggle/input/competitive-data-science-predict-future-sales/shops.csv\n",
      "/kaggle/input/competitive-data-science-predict-future-sales/test.csv\n"
     ]
    }
   ],
   "source": [
    "import numpy as np \n",
    "import pandas as pd \n",
    "import seaborn as sns\n",
    "import matplotlib.pyplot as plt\n",
    "import datetime \n",
    "import warnings\n",
    "import csv\n",
    "warnings.simplefilter(action='ignore', category=FutureWarning)\n",
    "from lightgbm import LGBMRegressor\n",
    "from sklearn.model_selection import train_test_split\n",
    "from xgboost import XGBClassifier\n",
    "import os\n",
    "for dirname, _, filenames in os.walk('/kaggle/input'):\n",
    "    for filename in filenames:\n",
    "        print(os.path.join(dirname, filename))\n"
   ]
  },
  {
   "cell_type": "code",
   "execution_count": 2,
   "id": "6c01e566",
   "metadata": {
    "execution": {
     "iopub.execute_input": "2021-11-20T17:44:21.015999Z",
     "iopub.status.busy": "2021-11-20T17:44:21.012932Z",
     "iopub.status.idle": "2021-11-20T17:44:23.497858Z",
     "shell.execute_reply": "2021-11-20T17:44:23.497270Z",
     "shell.execute_reply.started": "2021-11-20T17:33:00.865100Z"
    },
    "papermill": {
     "duration": 2.533769,
     "end_time": "2021-11-20T17:44:23.498015",
     "exception": false,
     "start_time": "2021-11-20T17:44:20.964246",
     "status": "completed"
    },
    "tags": []
   },
   "outputs": [],
   "source": [
    "items = pd.read_csv('../input/competitive-data-science-predict-future-sales/items.csv')\n",
    "item_cat = pd.read_csv ('../input/competitive-data-science-predict-future-sales/item_categories.csv')\n",
    "trainset1 = pd.read_csv('../input/competitive-data-science-predict-future-sales/sales_train.csv')\n",
    "shops = pd.read_csv('../input/competitive-data-science-predict-future-sales/shops.csv')\n",
    "testset= pd.read_csv('../input/competitive-data-science-predict-future-sales/test.csv')"
   ]
  },
  {
   "cell_type": "code",
   "execution_count": 3,
   "id": "c439eb57",
   "metadata": {
    "execution": {
     "iopub.execute_input": "2021-11-20T17:44:23.615427Z",
     "iopub.status.busy": "2021-11-20T17:44:23.614457Z",
     "iopub.status.idle": "2021-11-20T17:44:23.617562Z",
     "shell.execute_reply": "2021-11-20T17:44:23.618044Z",
     "shell.execute_reply.started": "2021-11-20T17:33:04.531059Z"
    },
    "papermill": {
     "duration": 0.073453,
     "end_time": "2021-11-20T17:44:23.618209",
     "exception": false,
     "start_time": "2021-11-20T17:44:23.544756",
     "status": "completed"
    },
    "tags": []
   },
   "outputs": [
    {
     "name": "stdout",
     "output_type": "stream",
     "text": [
      "<class 'pandas.core.frame.DataFrame'>\n",
      "RangeIndex: 2935849 entries, 0 to 2935848\n",
      "Data columns (total 6 columns):\n",
      " #   Column          Dtype  \n",
      "---  ------          -----  \n",
      " 0   date            object \n",
      " 1   date_block_num  int64  \n",
      " 2   shop_id         int64  \n",
      " 3   item_id         int64  \n",
      " 4   item_price      float64\n",
      " 5   item_cnt_day    float64\n",
      "dtypes: float64(2), int64(3), object(1)\n",
      "memory usage: 134.4+ MB\n"
     ]
    }
   ],
   "source": [
    "trainset1.info()"
   ]
  },
  {
   "cell_type": "code",
   "execution_count": 4,
   "id": "1c22c25c",
   "metadata": {
    "execution": {
     "iopub.execute_input": "2021-11-20T17:44:23.720581Z",
     "iopub.status.busy": "2021-11-20T17:44:23.714368Z",
     "iopub.status.idle": "2021-11-20T17:44:23.724451Z",
     "shell.execute_reply": "2021-11-20T17:44:23.725207Z",
     "shell.execute_reply.started": "2021-11-20T17:33:04.558790Z"
    },
    "papermill": {
     "duration": 0.062705,
     "end_time": "2021-11-20T17:44:23.725581",
     "exception": false,
     "start_time": "2021-11-20T17:44:23.662876",
     "status": "completed"
    },
    "tags": []
   },
   "outputs": [
    {
     "name": "stdout",
     "output_type": "stream",
     "text": [
      "<class 'pandas.core.frame.DataFrame'>\n",
      "RangeIndex: 22170 entries, 0 to 22169\n",
      "Data columns (total 3 columns):\n",
      " #   Column            Non-Null Count  Dtype \n",
      "---  ------            --------------  ----- \n",
      " 0   item_name         22170 non-null  object\n",
      " 1   item_id           22170 non-null  int64 \n",
      " 2   item_category_id  22170 non-null  int64 \n",
      "dtypes: int64(2), object(1)\n",
      "memory usage: 519.7+ KB\n"
     ]
    }
   ],
   "source": [
    "items.info()"
   ]
  },
  {
   "cell_type": "code",
   "execution_count": 5,
   "id": "d1eaedad",
   "metadata": {
    "execution": {
     "iopub.execute_input": "2021-11-20T17:44:23.833334Z",
     "iopub.status.busy": "2021-11-20T17:44:23.827599Z",
     "iopub.status.idle": "2021-11-20T17:44:23.836542Z",
     "shell.execute_reply": "2021-11-20T17:44:23.836993Z",
     "shell.execute_reply.started": "2021-11-20T17:33:04.577153Z"
    },
    "papermill": {
     "duration": 0.062947,
     "end_time": "2021-11-20T17:44:23.837153",
     "exception": false,
     "start_time": "2021-11-20T17:44:23.774206",
     "status": "completed"
    },
    "tags": []
   },
   "outputs": [
    {
     "name": "stdout",
     "output_type": "stream",
     "text": [
      "<class 'pandas.core.frame.DataFrame'>\n",
      "RangeIndex: 84 entries, 0 to 83\n",
      "Data columns (total 2 columns):\n",
      " #   Column              Non-Null Count  Dtype \n",
      "---  ------              --------------  ----- \n",
      " 0   item_category_name  84 non-null     object\n",
      " 1   item_category_id    84 non-null     int64 \n",
      "dtypes: int64(1), object(1)\n",
      "memory usage: 1.4+ KB\n"
     ]
    }
   ],
   "source": [
    "item_cat.info()"
   ]
  },
  {
   "cell_type": "code",
   "execution_count": 6,
   "id": "151ef28e",
   "metadata": {
    "execution": {
     "iopub.execute_input": "2021-11-20T17:44:24.002670Z",
     "iopub.status.busy": "2021-11-20T17:44:24.001891Z",
     "iopub.status.idle": "2021-11-20T17:44:24.006279Z",
     "shell.execute_reply": "2021-11-20T17:44:24.005569Z",
     "shell.execute_reply.started": "2021-11-20T17:33:04.589751Z"
    },
    "papermill": {
     "duration": 0.063587,
     "end_time": "2021-11-20T17:44:24.006508",
     "exception": false,
     "start_time": "2021-11-20T17:44:23.942921",
     "status": "completed"
    },
    "tags": []
   },
   "outputs": [
    {
     "name": "stdout",
     "output_type": "stream",
     "text": [
      "<class 'pandas.core.frame.DataFrame'>\n",
      "RangeIndex: 60 entries, 0 to 59\n",
      "Data columns (total 2 columns):\n",
      " #   Column     Non-Null Count  Dtype \n",
      "---  ------     --------------  ----- \n",
      " 0   shop_name  60 non-null     object\n",
      " 1   shop_id    60 non-null     int64 \n",
      "dtypes: int64(1), object(1)\n",
      "memory usage: 1.1+ KB\n"
     ]
    }
   ],
   "source": [
    "shops.info()"
   ]
  },
  {
   "cell_type": "code",
   "execution_count": 7,
   "id": "a24bf6a2",
   "metadata": {
    "execution": {
     "iopub.execute_input": "2021-11-20T17:44:24.107911Z",
     "iopub.status.busy": "2021-11-20T17:44:24.107270Z",
     "iopub.status.idle": "2021-11-20T17:44:24.111473Z",
     "shell.execute_reply": "2021-11-20T17:44:24.110949Z",
     "shell.execute_reply.started": "2021-11-20T17:33:04.611026Z"
    },
    "papermill": {
     "duration": 0.054841,
     "end_time": "2021-11-20T17:44:24.111608",
     "exception": false,
     "start_time": "2021-11-20T17:44:24.056767",
     "status": "completed"
    },
    "tags": []
   },
   "outputs": [
    {
     "data": {
      "text/plain": [
       "(2935849, 6)"
      ]
     },
     "execution_count": 7,
     "metadata": {},
     "output_type": "execute_result"
    }
   ],
   "source": [
    "trainset1.shape"
   ]
  },
  {
   "cell_type": "code",
   "execution_count": 8,
   "id": "9dc6a7fa",
   "metadata": {
    "execution": {
     "iopub.execute_input": "2021-11-20T17:44:24.214869Z",
     "iopub.status.busy": "2021-11-20T17:44:24.214120Z",
     "iopub.status.idle": "2021-11-20T17:44:24.251428Z",
     "shell.execute_reply": "2021-11-20T17:44:24.250876Z",
     "shell.execute_reply.started": "2021-11-20T17:33:04.624765Z"
    },
    "papermill": {
     "duration": 0.092015,
     "end_time": "2021-11-20T17:44:24.251579",
     "exception": false,
     "start_time": "2021-11-20T17:44:24.159564",
     "status": "completed"
    },
    "tags": [],
    "pycharm": {
     "name": "#%%\n"
    }
   },
   "outputs": [
    {
     "data": {
      "text/html": [
       "<div>\n",
       "<style scoped>\n",
       "    .dataframe tbody tr th:only-of-type {\n",
       "        vertical-align: middle;\n",
       "    }\n",
       "\n",
       "    .dataframe tbody tr th {\n",
       "        vertical-align: top;\n",
       "    }\n",
       "\n",
       "    .dataframe thead th {\n",
       "        text-align: right;\n",
       "    }\n",
       "</style>\n",
       "<table border=\"1\" class=\"dataframe\">\n",
       "  <thead>\n",
       "    <tr style=\"text-align: right;\">\n",
       "      <th></th>\n",
       "      <th>date</th>\n",
       "      <th>date_block_num</th>\n",
       "      <th>shop_id</th>\n",
       "      <th>item_id</th>\n",
       "      <th>item_price</th>\n",
       "      <th>item_cnt_day</th>\n",
       "    </tr>\n",
       "  </thead>\n",
       "  <tbody>\n",
       "    <tr>\n",
       "      <th>0</th>\n",
       "      <td>02.01.2013</td>\n",
       "      <td>0</td>\n",
       "      <td>59</td>\n",
       "      <td>22154</td>\n",
       "      <td>999.00</td>\n",
       "      <td>1.0</td>\n",
       "    </tr>\n",
       "    <tr>\n",
       "      <th>1</th>\n",
       "      <td>03.01.2013</td>\n",
       "      <td>0</td>\n",
       "      <td>25</td>\n",
       "      <td>2552</td>\n",
       "      <td>899.00</td>\n",
       "      <td>1.0</td>\n",
       "    </tr>\n",
       "    <tr>\n",
       "      <th>2</th>\n",
       "      <td>05.01.2013</td>\n",
       "      <td>0</td>\n",
       "      <td>25</td>\n",
       "      <td>2552</td>\n",
       "      <td>899.00</td>\n",
       "      <td>-1.0</td>\n",
       "    </tr>\n",
       "    <tr>\n",
       "      <th>3</th>\n",
       "      <td>06.01.2013</td>\n",
       "      <td>0</td>\n",
       "      <td>25</td>\n",
       "      <td>2554</td>\n",
       "      <td>1709.05</td>\n",
       "      <td>1.0</td>\n",
       "    </tr>\n",
       "    <tr>\n",
       "      <th>4</th>\n",
       "      <td>15.01.2013</td>\n",
       "      <td>0</td>\n",
       "      <td>25</td>\n",
       "      <td>2555</td>\n",
       "      <td>1099.00</td>\n",
       "      <td>1.0</td>\n",
       "    </tr>\n",
       "    <tr>\n",
       "      <th>...</th>\n",
       "      <td>...</td>\n",
       "      <td>...</td>\n",
       "      <td>...</td>\n",
       "      <td>...</td>\n",
       "      <td>...</td>\n",
       "      <td>...</td>\n",
       "    </tr>\n",
       "    <tr>\n",
       "      <th>2935844</th>\n",
       "      <td>10.10.2015</td>\n",
       "      <td>33</td>\n",
       "      <td>25</td>\n",
       "      <td>7409</td>\n",
       "      <td>299.00</td>\n",
       "      <td>1.0</td>\n",
       "    </tr>\n",
       "    <tr>\n",
       "      <th>2935845</th>\n",
       "      <td>09.10.2015</td>\n",
       "      <td>33</td>\n",
       "      <td>25</td>\n",
       "      <td>7460</td>\n",
       "      <td>299.00</td>\n",
       "      <td>1.0</td>\n",
       "    </tr>\n",
       "    <tr>\n",
       "      <th>2935846</th>\n",
       "      <td>14.10.2015</td>\n",
       "      <td>33</td>\n",
       "      <td>25</td>\n",
       "      <td>7459</td>\n",
       "      <td>349.00</td>\n",
       "      <td>1.0</td>\n",
       "    </tr>\n",
       "    <tr>\n",
       "      <th>2935847</th>\n",
       "      <td>22.10.2015</td>\n",
       "      <td>33</td>\n",
       "      <td>25</td>\n",
       "      <td>7440</td>\n",
       "      <td>299.00</td>\n",
       "      <td>1.0</td>\n",
       "    </tr>\n",
       "    <tr>\n",
       "      <th>2935848</th>\n",
       "      <td>03.10.2015</td>\n",
       "      <td>33</td>\n",
       "      <td>25</td>\n",
       "      <td>7460</td>\n",
       "      <td>299.00</td>\n",
       "      <td>1.0</td>\n",
       "    </tr>\n",
       "  </tbody>\n",
       "</table>\n",
       "<p>2935849 rows × 6 columns</p>\n",
       "</div>"
      ],
      "text/plain": [
       "               date  date_block_num  shop_id  item_id  item_price  \\\n",
       "0        02.01.2013               0       59    22154      999.00   \n",
       "1        03.01.2013               0       25     2552      899.00   \n",
       "2        05.01.2013               0       25     2552      899.00   \n",
       "3        06.01.2013               0       25     2554     1709.05   \n",
       "4        15.01.2013               0       25     2555     1099.00   \n",
       "...             ...             ...      ...      ...         ...   \n",
       "2935844  10.10.2015              33       25     7409      299.00   \n",
       "2935845  09.10.2015              33       25     7460      299.00   \n",
       "2935846  14.10.2015              33       25     7459      349.00   \n",
       "2935847  22.10.2015              33       25     7440      299.00   \n",
       "2935848  03.10.2015              33       25     7460      299.00   \n",
       "\n",
       "         item_cnt_day  \n",
       "0                 1.0  \n",
       "1                 1.0  \n",
       "2                -1.0  \n",
       "3                 1.0  \n",
       "4                 1.0  \n",
       "...               ...  \n",
       "2935844           1.0  \n",
       "2935845           1.0  \n",
       "2935846           1.0  \n",
       "2935847           1.0  \n",
       "2935848           1.0  \n",
       "\n",
       "[2935849 rows x 6 columns]"
      ]
     },
     "metadata": {},
     "output_type": "display_data"
    },
    {
     "data": {
      "text/html": [
       "<div>\n",
       "<style scoped>\n",
       "    .dataframe tbody tr th:only-of-type {\n",
       "        vertical-align: middle;\n",
       "    }\n",
       "\n",
       "    .dataframe tbody tr th {\n",
       "        vertical-align: top;\n",
       "    }\n",
       "\n",
       "    .dataframe thead th {\n",
       "        text-align: right;\n",
       "    }\n",
       "</style>\n",
       "<table border=\"1\" class=\"dataframe\">\n",
       "  <thead>\n",
       "    <tr style=\"text-align: right;\">\n",
       "      <th></th>\n",
       "      <th>item_category_name</th>\n",
       "      <th>item_category_id</th>\n",
       "    </tr>\n",
       "  </thead>\n",
       "  <tbody>\n",
       "    <tr>\n",
       "      <th>0</th>\n",
       "      <td>PC - Гарнитуры/Наушники</td>\n",
       "      <td>0</td>\n",
       "    </tr>\n",
       "    <tr>\n",
       "      <th>1</th>\n",
       "      <td>Аксессуары - PS2</td>\n",
       "      <td>1</td>\n",
       "    </tr>\n",
       "    <tr>\n",
       "      <th>2</th>\n",
       "      <td>Аксессуары - PS3</td>\n",
       "      <td>2</td>\n",
       "    </tr>\n",
       "    <tr>\n",
       "      <th>3</th>\n",
       "      <td>Аксессуары - PS4</td>\n",
       "      <td>3</td>\n",
       "    </tr>\n",
       "    <tr>\n",
       "      <th>4</th>\n",
       "      <td>Аксессуары - PSP</td>\n",
       "      <td>4</td>\n",
       "    </tr>\n",
       "    <tr>\n",
       "      <th>...</th>\n",
       "      <td>...</td>\n",
       "      <td>...</td>\n",
       "    </tr>\n",
       "    <tr>\n",
       "      <th>79</th>\n",
       "      <td>Служебные</td>\n",
       "      <td>79</td>\n",
       "    </tr>\n",
       "    <tr>\n",
       "      <th>80</th>\n",
       "      <td>Служебные - Билеты</td>\n",
       "      <td>80</td>\n",
       "    </tr>\n",
       "    <tr>\n",
       "      <th>81</th>\n",
       "      <td>Чистые носители (шпиль)</td>\n",
       "      <td>81</td>\n",
       "    </tr>\n",
       "    <tr>\n",
       "      <th>82</th>\n",
       "      <td>Чистые носители (штучные)</td>\n",
       "      <td>82</td>\n",
       "    </tr>\n",
       "    <tr>\n",
       "      <th>83</th>\n",
       "      <td>Элементы питания</td>\n",
       "      <td>83</td>\n",
       "    </tr>\n",
       "  </tbody>\n",
       "</table>\n",
       "<p>84 rows × 2 columns</p>\n",
       "</div>"
      ],
      "text/plain": [
       "           item_category_name  item_category_id\n",
       "0     PC - Гарнитуры/Наушники                 0\n",
       "1            Аксессуары - PS2                 1\n",
       "2            Аксессуары - PS3                 2\n",
       "3            Аксессуары - PS4                 3\n",
       "4            Аксессуары - PSP                 4\n",
       "..                        ...               ...\n",
       "79                  Служебные                79\n",
       "80         Служебные - Билеты                80\n",
       "81    Чистые носители (шпиль)                81\n",
       "82  Чистые носители (штучные)                82\n",
       "83           Элементы питания                83\n",
       "\n",
       "[84 rows x 2 columns]"
      ]
     },
     "metadata": {},
     "output_type": "display_data"
    },
    {
     "data": {
      "text/html": [
       "<div>\n",
       "<style scoped>\n",
       "    .dataframe tbody tr th:only-of-type {\n",
       "        vertical-align: middle;\n",
       "    }\n",
       "\n",
       "    .dataframe tbody tr th {\n",
       "        vertical-align: top;\n",
       "    }\n",
       "\n",
       "    .dataframe thead th {\n",
       "        text-align: right;\n",
       "    }\n",
       "</style>\n",
       "<table border=\"1\" class=\"dataframe\">\n",
       "  <thead>\n",
       "    <tr style=\"text-align: right;\">\n",
       "      <th></th>\n",
       "      <th>item_name</th>\n",
       "      <th>item_id</th>\n",
       "      <th>item_category_id</th>\n",
       "    </tr>\n",
       "  </thead>\n",
       "  <tbody>\n",
       "    <tr>\n",
       "      <th>0</th>\n",
       "      <td>! ВО ВЛАСТИ НАВАЖДЕНИЯ (ПЛАСТ.)         D</td>\n",
       "      <td>0</td>\n",
       "      <td>40</td>\n",
       "    </tr>\n",
       "    <tr>\n",
       "      <th>1</th>\n",
       "      <td>!ABBYY FineReader 12 Professional Edition Full...</td>\n",
       "      <td>1</td>\n",
       "      <td>76</td>\n",
       "    </tr>\n",
       "    <tr>\n",
       "      <th>2</th>\n",
       "      <td>***В ЛУЧАХ СЛАВЫ   (UNV)                    D</td>\n",
       "      <td>2</td>\n",
       "      <td>40</td>\n",
       "    </tr>\n",
       "    <tr>\n",
       "      <th>3</th>\n",
       "      <td>***ГОЛУБАЯ ВОЛНА  (Univ)                      D</td>\n",
       "      <td>3</td>\n",
       "      <td>40</td>\n",
       "    </tr>\n",
       "    <tr>\n",
       "      <th>4</th>\n",
       "      <td>***КОРОБКА (СТЕКЛО)                       D</td>\n",
       "      <td>4</td>\n",
       "      <td>40</td>\n",
       "    </tr>\n",
       "    <tr>\n",
       "      <th>...</th>\n",
       "      <td>...</td>\n",
       "      <td>...</td>\n",
       "      <td>...</td>\n",
       "    </tr>\n",
       "    <tr>\n",
       "      <th>22165</th>\n",
       "      <td>Ядерный титбит 2 [PC, Цифровая версия]</td>\n",
       "      <td>22165</td>\n",
       "      <td>31</td>\n",
       "    </tr>\n",
       "    <tr>\n",
       "      <th>22166</th>\n",
       "      <td>Язык запросов 1С:Предприятия  [Цифровая версия]</td>\n",
       "      <td>22166</td>\n",
       "      <td>54</td>\n",
       "    </tr>\n",
       "    <tr>\n",
       "      <th>22167</th>\n",
       "      <td>Язык запросов 1С:Предприятия 8 (+CD). Хрустале...</td>\n",
       "      <td>22167</td>\n",
       "      <td>49</td>\n",
       "    </tr>\n",
       "    <tr>\n",
       "      <th>22168</th>\n",
       "      <td>Яйцо для Little Inu</td>\n",
       "      <td>22168</td>\n",
       "      <td>62</td>\n",
       "    </tr>\n",
       "    <tr>\n",
       "      <th>22169</th>\n",
       "      <td>Яйцо дракона (Игра престолов)</td>\n",
       "      <td>22169</td>\n",
       "      <td>69</td>\n",
       "    </tr>\n",
       "  </tbody>\n",
       "</table>\n",
       "<p>22170 rows × 3 columns</p>\n",
       "</div>"
      ],
      "text/plain": [
       "                                               item_name  item_id  \\\n",
       "0              ! ВО ВЛАСТИ НАВАЖДЕНИЯ (ПЛАСТ.)         D        0   \n",
       "1      !ABBYY FineReader 12 Professional Edition Full...        1   \n",
       "2          ***В ЛУЧАХ СЛАВЫ   (UNV)                    D        2   \n",
       "3        ***ГОЛУБАЯ ВОЛНА  (Univ)                      D        3   \n",
       "4            ***КОРОБКА (СТЕКЛО)                       D        4   \n",
       "...                                                  ...      ...   \n",
       "22165             Ядерный титбит 2 [PC, Цифровая версия]    22165   \n",
       "22166    Язык запросов 1С:Предприятия  [Цифровая версия]    22166   \n",
       "22167  Язык запросов 1С:Предприятия 8 (+CD). Хрустале...    22167   \n",
       "22168                                Яйцо для Little Inu    22168   \n",
       "22169                      Яйцо дракона (Игра престолов)    22169   \n",
       "\n",
       "       item_category_id  \n",
       "0                    40  \n",
       "1                    76  \n",
       "2                    40  \n",
       "3                    40  \n",
       "4                    40  \n",
       "...                 ...  \n",
       "22165                31  \n",
       "22166                54  \n",
       "22167                49  \n",
       "22168                62  \n",
       "22169                69  \n",
       "\n",
       "[22170 rows x 3 columns]"
      ]
     },
     "metadata": {},
     "output_type": "display_data"
    },
    {
     "data": {
      "text/html": [
       "<div>\n",
       "<style scoped>\n",
       "    .dataframe tbody tr th:only-of-type {\n",
       "        vertical-align: middle;\n",
       "    }\n",
       "\n",
       "    .dataframe tbody tr th {\n",
       "        vertical-align: top;\n",
       "    }\n",
       "\n",
       "    .dataframe thead th {\n",
       "        text-align: right;\n",
       "    }\n",
       "</style>\n",
       "<table border=\"1\" class=\"dataframe\">\n",
       "  <thead>\n",
       "    <tr style=\"text-align: right;\">\n",
       "      <th></th>\n",
       "      <th>shop_name</th>\n",
       "      <th>shop_id</th>\n",
       "    </tr>\n",
       "  </thead>\n",
       "  <tbody>\n",
       "    <tr>\n",
       "      <th>0</th>\n",
       "      <td>!Якутск Орджоникидзе, 56 фран</td>\n",
       "      <td>0</td>\n",
       "    </tr>\n",
       "    <tr>\n",
       "      <th>1</th>\n",
       "      <td>!Якутск ТЦ \"Центральный\" фран</td>\n",
       "      <td>1</td>\n",
       "    </tr>\n",
       "    <tr>\n",
       "      <th>2</th>\n",
       "      <td>Адыгея ТЦ \"Мега\"</td>\n",
       "      <td>2</td>\n",
       "    </tr>\n",
       "    <tr>\n",
       "      <th>3</th>\n",
       "      <td>Балашиха ТРК \"Октябрь-Киномир\"</td>\n",
       "      <td>3</td>\n",
       "    </tr>\n",
       "    <tr>\n",
       "      <th>4</th>\n",
       "      <td>Волжский ТЦ \"Волга Молл\"</td>\n",
       "      <td>4</td>\n",
       "    </tr>\n",
       "    <tr>\n",
       "      <th>5</th>\n",
       "      <td>Вологда ТРЦ \"Мармелад\"</td>\n",
       "      <td>5</td>\n",
       "    </tr>\n",
       "    <tr>\n",
       "      <th>6</th>\n",
       "      <td>Воронеж (Плехановская, 13)</td>\n",
       "      <td>6</td>\n",
       "    </tr>\n",
       "    <tr>\n",
       "      <th>7</th>\n",
       "      <td>Воронеж ТРЦ \"Максимир\"</td>\n",
       "      <td>7</td>\n",
       "    </tr>\n",
       "    <tr>\n",
       "      <th>8</th>\n",
       "      <td>Воронеж ТРЦ Сити-Парк \"Град\"</td>\n",
       "      <td>8</td>\n",
       "    </tr>\n",
       "    <tr>\n",
       "      <th>9</th>\n",
       "      <td>Выездная Торговля</td>\n",
       "      <td>9</td>\n",
       "    </tr>\n",
       "    <tr>\n",
       "      <th>10</th>\n",
       "      <td>Жуковский ул. Чкалова 39м?</td>\n",
       "      <td>10</td>\n",
       "    </tr>\n",
       "    <tr>\n",
       "      <th>11</th>\n",
       "      <td>Жуковский ул. Чкалова 39м²</td>\n",
       "      <td>11</td>\n",
       "    </tr>\n",
       "    <tr>\n",
       "      <th>12</th>\n",
       "      <td>Интернет-магазин ЧС</td>\n",
       "      <td>12</td>\n",
       "    </tr>\n",
       "    <tr>\n",
       "      <th>13</th>\n",
       "      <td>Казань ТЦ \"Бехетле\"</td>\n",
       "      <td>13</td>\n",
       "    </tr>\n",
       "    <tr>\n",
       "      <th>14</th>\n",
       "      <td>Казань ТЦ \"ПаркХаус\" II</td>\n",
       "      <td>14</td>\n",
       "    </tr>\n",
       "    <tr>\n",
       "      <th>15</th>\n",
       "      <td>Калуга ТРЦ \"XXI век\"</td>\n",
       "      <td>15</td>\n",
       "    </tr>\n",
       "    <tr>\n",
       "      <th>16</th>\n",
       "      <td>Коломна ТЦ \"Рио\"</td>\n",
       "      <td>16</td>\n",
       "    </tr>\n",
       "    <tr>\n",
       "      <th>17</th>\n",
       "      <td>Красноярск ТЦ \"Взлетка Плаза\"</td>\n",
       "      <td>17</td>\n",
       "    </tr>\n",
       "    <tr>\n",
       "      <th>18</th>\n",
       "      <td>Красноярск ТЦ \"Июнь\"</td>\n",
       "      <td>18</td>\n",
       "    </tr>\n",
       "    <tr>\n",
       "      <th>19</th>\n",
       "      <td>Курск ТЦ \"Пушкинский\"</td>\n",
       "      <td>19</td>\n",
       "    </tr>\n",
       "    <tr>\n",
       "      <th>20</th>\n",
       "      <td>Москва \"Распродажа\"</td>\n",
       "      <td>20</td>\n",
       "    </tr>\n",
       "    <tr>\n",
       "      <th>21</th>\n",
       "      <td>Москва МТРЦ \"Афи Молл\"</td>\n",
       "      <td>21</td>\n",
       "    </tr>\n",
       "    <tr>\n",
       "      <th>22</th>\n",
       "      <td>Москва Магазин С21</td>\n",
       "      <td>22</td>\n",
       "    </tr>\n",
       "    <tr>\n",
       "      <th>23</th>\n",
       "      <td>Москва ТК \"Буденовский\" (пав.А2)</td>\n",
       "      <td>23</td>\n",
       "    </tr>\n",
       "    <tr>\n",
       "      <th>24</th>\n",
       "      <td>Москва ТК \"Буденовский\" (пав.К7)</td>\n",
       "      <td>24</td>\n",
       "    </tr>\n",
       "    <tr>\n",
       "      <th>25</th>\n",
       "      <td>Москва ТРК \"Атриум\"</td>\n",
       "      <td>25</td>\n",
       "    </tr>\n",
       "    <tr>\n",
       "      <th>26</th>\n",
       "      <td>Москва ТЦ \"Ареал\" (Беляево)</td>\n",
       "      <td>26</td>\n",
       "    </tr>\n",
       "    <tr>\n",
       "      <th>27</th>\n",
       "      <td>Москва ТЦ \"МЕГА Белая Дача II\"</td>\n",
       "      <td>27</td>\n",
       "    </tr>\n",
       "    <tr>\n",
       "      <th>28</th>\n",
       "      <td>Москва ТЦ \"МЕГА Теплый Стан\" II</td>\n",
       "      <td>28</td>\n",
       "    </tr>\n",
       "    <tr>\n",
       "      <th>29</th>\n",
       "      <td>Москва ТЦ \"Новый век\" (Новокосино)</td>\n",
       "      <td>29</td>\n",
       "    </tr>\n",
       "    <tr>\n",
       "      <th>30</th>\n",
       "      <td>Москва ТЦ \"Перловский\"</td>\n",
       "      <td>30</td>\n",
       "    </tr>\n",
       "    <tr>\n",
       "      <th>31</th>\n",
       "      <td>Москва ТЦ \"Семеновский\"</td>\n",
       "      <td>31</td>\n",
       "    </tr>\n",
       "    <tr>\n",
       "      <th>32</th>\n",
       "      <td>Москва ТЦ \"Серебряный Дом\"</td>\n",
       "      <td>32</td>\n",
       "    </tr>\n",
       "    <tr>\n",
       "      <th>33</th>\n",
       "      <td>Мытищи ТРК \"XL-3\"</td>\n",
       "      <td>33</td>\n",
       "    </tr>\n",
       "    <tr>\n",
       "      <th>34</th>\n",
       "      <td>Н.Новгород ТРЦ \"РИО\"</td>\n",
       "      <td>34</td>\n",
       "    </tr>\n",
       "    <tr>\n",
       "      <th>35</th>\n",
       "      <td>Н.Новгород ТРЦ \"Фантастика\"</td>\n",
       "      <td>35</td>\n",
       "    </tr>\n",
       "    <tr>\n",
       "      <th>36</th>\n",
       "      <td>Новосибирск ТРЦ \"Галерея Новосибирск\"</td>\n",
       "      <td>36</td>\n",
       "    </tr>\n",
       "    <tr>\n",
       "      <th>37</th>\n",
       "      <td>Новосибирск ТЦ \"Мега\"</td>\n",
       "      <td>37</td>\n",
       "    </tr>\n",
       "    <tr>\n",
       "      <th>38</th>\n",
       "      <td>Омск ТЦ \"Мега\"</td>\n",
       "      <td>38</td>\n",
       "    </tr>\n",
       "    <tr>\n",
       "      <th>39</th>\n",
       "      <td>РостовНаДону ТРК \"Мегацентр Горизонт\"</td>\n",
       "      <td>39</td>\n",
       "    </tr>\n",
       "    <tr>\n",
       "      <th>40</th>\n",
       "      <td>РостовНаДону ТРК \"Мегацентр Горизонт\" Островной</td>\n",
       "      <td>40</td>\n",
       "    </tr>\n",
       "    <tr>\n",
       "      <th>41</th>\n",
       "      <td>РостовНаДону ТЦ \"Мега\"</td>\n",
       "      <td>41</td>\n",
       "    </tr>\n",
       "    <tr>\n",
       "      <th>42</th>\n",
       "      <td>СПб ТК \"Невский Центр\"</td>\n",
       "      <td>42</td>\n",
       "    </tr>\n",
       "    <tr>\n",
       "      <th>43</th>\n",
       "      <td>СПб ТК \"Сенная\"</td>\n",
       "      <td>43</td>\n",
       "    </tr>\n",
       "    <tr>\n",
       "      <th>44</th>\n",
       "      <td>Самара ТЦ \"Мелодия\"</td>\n",
       "      <td>44</td>\n",
       "    </tr>\n",
       "    <tr>\n",
       "      <th>45</th>\n",
       "      <td>Самара ТЦ \"ПаркХаус\"</td>\n",
       "      <td>45</td>\n",
       "    </tr>\n",
       "    <tr>\n",
       "      <th>46</th>\n",
       "      <td>Сергиев Посад ТЦ \"7Я\"</td>\n",
       "      <td>46</td>\n",
       "    </tr>\n",
       "    <tr>\n",
       "      <th>47</th>\n",
       "      <td>Сургут ТРЦ \"Сити Молл\"</td>\n",
       "      <td>47</td>\n",
       "    </tr>\n",
       "    <tr>\n",
       "      <th>48</th>\n",
       "      <td>Томск ТРЦ \"Изумрудный Город\"</td>\n",
       "      <td>48</td>\n",
       "    </tr>\n",
       "    <tr>\n",
       "      <th>49</th>\n",
       "      <td>Тюмень ТРЦ \"Кристалл\"</td>\n",
       "      <td>49</td>\n",
       "    </tr>\n",
       "    <tr>\n",
       "      <th>50</th>\n",
       "      <td>Тюмень ТЦ \"Гудвин\"</td>\n",
       "      <td>50</td>\n",
       "    </tr>\n",
       "    <tr>\n",
       "      <th>51</th>\n",
       "      <td>Тюмень ТЦ \"Зеленый Берег\"</td>\n",
       "      <td>51</td>\n",
       "    </tr>\n",
       "    <tr>\n",
       "      <th>52</th>\n",
       "      <td>Уфа ТК \"Центральный\"</td>\n",
       "      <td>52</td>\n",
       "    </tr>\n",
       "    <tr>\n",
       "      <th>53</th>\n",
       "      <td>Уфа ТЦ \"Семья\" 2</td>\n",
       "      <td>53</td>\n",
       "    </tr>\n",
       "    <tr>\n",
       "      <th>54</th>\n",
       "      <td>Химки ТЦ \"Мега\"</td>\n",
       "      <td>54</td>\n",
       "    </tr>\n",
       "    <tr>\n",
       "      <th>55</th>\n",
       "      <td>Цифровой склад 1С-Онлайн</td>\n",
       "      <td>55</td>\n",
       "    </tr>\n",
       "    <tr>\n",
       "      <th>56</th>\n",
       "      <td>Чехов ТРЦ \"Карнавал\"</td>\n",
       "      <td>56</td>\n",
       "    </tr>\n",
       "    <tr>\n",
       "      <th>57</th>\n",
       "      <td>Якутск Орджоникидзе, 56</td>\n",
       "      <td>57</td>\n",
       "    </tr>\n",
       "    <tr>\n",
       "      <th>58</th>\n",
       "      <td>Якутск ТЦ \"Центральный\"</td>\n",
       "      <td>58</td>\n",
       "    </tr>\n",
       "    <tr>\n",
       "      <th>59</th>\n",
       "      <td>Ярославль ТЦ \"Альтаир\"</td>\n",
       "      <td>59</td>\n",
       "    </tr>\n",
       "  </tbody>\n",
       "</table>\n",
       "</div>"
      ],
      "text/plain": [
       "                                          shop_name  shop_id\n",
       "0                     !Якутск Орджоникидзе, 56 фран        0\n",
       "1                     !Якутск ТЦ \"Центральный\" фран        1\n",
       "2                                  Адыгея ТЦ \"Мега\"        2\n",
       "3                    Балашиха ТРК \"Октябрь-Киномир\"        3\n",
       "4                          Волжский ТЦ \"Волга Молл\"        4\n",
       "5                            Вологда ТРЦ \"Мармелад\"        5\n",
       "6                        Воронеж (Плехановская, 13)        6\n",
       "7                            Воронеж ТРЦ \"Максимир\"        7\n",
       "8                      Воронеж ТРЦ Сити-Парк \"Град\"        8\n",
       "9                                 Выездная Торговля        9\n",
       "10                       Жуковский ул. Чкалова 39м?       10\n",
       "11                       Жуковский ул. Чкалова 39м²       11\n",
       "12                              Интернет-магазин ЧС       12\n",
       "13                              Казань ТЦ \"Бехетле\"       13\n",
       "14                          Казань ТЦ \"ПаркХаус\" II       14\n",
       "15                             Калуга ТРЦ \"XXI век\"       15\n",
       "16                                 Коломна ТЦ \"Рио\"       16\n",
       "17                    Красноярск ТЦ \"Взлетка Плаза\"       17\n",
       "18                             Красноярск ТЦ \"Июнь\"       18\n",
       "19                            Курск ТЦ \"Пушкинский\"       19\n",
       "20                              Москва \"Распродажа\"       20\n",
       "21                           Москва МТРЦ \"Афи Молл\"       21\n",
       "22                               Москва Магазин С21       22\n",
       "23                 Москва ТК \"Буденовский\" (пав.А2)       23\n",
       "24                 Москва ТК \"Буденовский\" (пав.К7)       24\n",
       "25                              Москва ТРК \"Атриум\"       25\n",
       "26                      Москва ТЦ \"Ареал\" (Беляево)       26\n",
       "27                   Москва ТЦ \"МЕГА Белая Дача II\"       27\n",
       "28                  Москва ТЦ \"МЕГА Теплый Стан\" II       28\n",
       "29               Москва ТЦ \"Новый век\" (Новокосино)       29\n",
       "30                           Москва ТЦ \"Перловский\"       30\n",
       "31                          Москва ТЦ \"Семеновский\"       31\n",
       "32                       Москва ТЦ \"Серебряный Дом\"       32\n",
       "33                                Мытищи ТРК \"XL-3\"       33\n",
       "34                             Н.Новгород ТРЦ \"РИО\"       34\n",
       "35                      Н.Новгород ТРЦ \"Фантастика\"       35\n",
       "36            Новосибирск ТРЦ \"Галерея Новосибирск\"       36\n",
       "37                            Новосибирск ТЦ \"Мега\"       37\n",
       "38                                   Омск ТЦ \"Мега\"       38\n",
       "39            РостовНаДону ТРК \"Мегацентр Горизонт\"       39\n",
       "40  РостовНаДону ТРК \"Мегацентр Горизонт\" Островной       40\n",
       "41                           РостовНаДону ТЦ \"Мега\"       41\n",
       "42                           СПб ТК \"Невский Центр\"       42\n",
       "43                                  СПб ТК \"Сенная\"       43\n",
       "44                              Самара ТЦ \"Мелодия\"       44\n",
       "45                             Самара ТЦ \"ПаркХаус\"       45\n",
       "46                            Сергиев Посад ТЦ \"7Я\"       46\n",
       "47                           Сургут ТРЦ \"Сити Молл\"       47\n",
       "48                     Томск ТРЦ \"Изумрудный Город\"       48\n",
       "49                            Тюмень ТРЦ \"Кристалл\"       49\n",
       "50                               Тюмень ТЦ \"Гудвин\"       50\n",
       "51                        Тюмень ТЦ \"Зеленый Берег\"       51\n",
       "52                             Уфа ТК \"Центральный\"       52\n",
       "53                                 Уфа ТЦ \"Семья\" 2       53\n",
       "54                                  Химки ТЦ \"Мега\"       54\n",
       "55                         Цифровой склад 1С-Онлайн       55\n",
       "56                             Чехов ТРЦ \"Карнавал\"       56\n",
       "57                          Якутск Орджоникидзе, 56       57\n",
       "58                          Якутск ТЦ \"Центральный\"       58\n",
       "59                           Ярославль ТЦ \"Альтаир\"       59"
      ]
     },
     "metadata": {},
     "output_type": "display_data"
    }
   ],
   "source": [
    "display(trainset1, item_cat, items, shops)"
   ]
  },
  {
   "cell_type": "code",
   "execution_count": 9,
   "id": "3ca524e2",
   "metadata": {
    "execution": {
     "iopub.execute_input": "2021-11-20T17:44:24.359461Z",
     "iopub.status.busy": "2021-11-20T17:44:24.358834Z",
     "iopub.status.idle": "2021-11-20T17:44:24.962640Z",
     "shell.execute_reply": "2021-11-20T17:44:24.961977Z",
     "shell.execute_reply.started": "2021-11-20T17:33:04.677394Z"
    },
    "papermill": {
     "duration": 0.661651,
     "end_time": "2021-11-20T17:44:24.962851",
     "exception": false,
     "start_time": "2021-11-20T17:44:24.301200",
     "status": "completed"
    },
    "tags": []
   },
   "outputs": [],
   "source": [
    "trainset2=pd.merge(items, trainset1)"
   ]
  },
  {
   "cell_type": "code",
   "execution_count": 10,
   "id": "1f29d6b4",
   "metadata": {
    "execution": {
     "iopub.execute_input": "2021-11-20T17:44:25.070660Z",
     "iopub.status.busy": "2021-11-20T17:44:25.068927Z",
     "iopub.status.idle": "2021-11-20T17:44:26.138685Z",
     "shell.execute_reply": "2021-11-20T17:44:26.138122Z",
     "shell.execute_reply.started": "2021-11-20T17:33:05.284033Z"
    },
    "papermill": {
     "duration": 1.125107,
     "end_time": "2021-11-20T17:44:26.138829",
     "exception": false,
     "start_time": "2021-11-20T17:44:25.013722",
     "status": "completed"
    },
    "tags": []
   },
   "outputs": [],
   "source": [
    "trainset3=pd.merge(item_cat, trainset2)"
   ]
  },
  {
   "cell_type": "code",
   "execution_count": 11,
   "id": "93ca1bc2",
   "metadata": {
    "execution": {
     "iopub.execute_input": "2021-11-20T17:44:26.243925Z",
     "iopub.status.busy": "2021-11-20T17:44:26.242334Z",
     "iopub.status.idle": "2021-11-20T17:44:28.568911Z",
     "shell.execute_reply": "2021-11-20T17:44:28.568336Z",
     "shell.execute_reply.started": "2021-11-20T17:33:06.240901Z"
    },
    "papermill": {
     "duration": 2.381686,
     "end_time": "2021-11-20T17:44:28.569054",
     "exception": false,
     "start_time": "2021-11-20T17:44:26.187368",
     "status": "completed"
    },
    "tags": []
   },
   "outputs": [],
   "source": [
    "train=pd.merge(shops, trainset3)"
   ]
  },
  {
   "cell_type": "code",
   "execution_count": 12,
   "id": "bfafdc5f",
   "metadata": {
    "execution": {
     "iopub.execute_input": "2021-11-20T17:44:28.671665Z",
     "iopub.status.busy": "2021-11-20T17:44:28.671042Z",
     "iopub.status.idle": "2021-11-20T17:44:28.681276Z",
     "shell.execute_reply": "2021-11-20T17:44:28.681775Z",
     "shell.execute_reply.started": "2021-11-20T17:33:08.599298Z"
    },
    "papermill": {
     "duration": 0.06282,
     "end_time": "2021-11-20T17:44:28.681979",
     "exception": false,
     "start_time": "2021-11-20T17:44:28.619159",
     "status": "completed"
    },
    "tags": []
   },
   "outputs": [
    {
     "name": "stdout",
     "output_type": "stream",
     "text": [
      "<class 'pandas.core.frame.DataFrame'>\n",
      "Int64Index: 2935849 entries, 0 to 2935848\n",
      "Data columns (total 10 columns):\n",
      " #   Column              Dtype  \n",
      "---  ------              -----  \n",
      " 0   shop_name           object \n",
      " 1   shop_id             int64  \n",
      " 2   item_category_name  object \n",
      " 3   item_category_id    int64  \n",
      " 4   item_name           object \n",
      " 5   item_id             int64  \n",
      " 6   date                object \n",
      " 7   date_block_num      int64  \n",
      " 8   item_price          float64\n",
      " 9   item_cnt_day        float64\n",
      "dtypes: float64(2), int64(4), object(4)\n",
      "memory usage: 246.4+ MB\n"
     ]
    }
   ],
   "source": [
    "train.info()"
   ]
  },
  {
   "cell_type": "code",
   "execution_count": 13,
   "id": "41e101df",
   "metadata": {
    "execution": {
     "iopub.execute_input": "2021-11-20T17:44:28.784173Z",
     "iopub.status.busy": "2021-11-20T17:44:28.783568Z",
     "iopub.status.idle": "2021-11-20T17:44:28.789403Z",
     "shell.execute_reply": "2021-11-20T17:44:28.788733Z",
     "shell.execute_reply.started": "2021-11-20T17:33:08.612128Z"
    },
    "papermill": {
     "duration": 0.058295,
     "end_time": "2021-11-20T17:44:28.789549",
     "exception": false,
     "start_time": "2021-11-20T17:44:28.731254",
     "status": "completed"
    },
    "tags": []
   },
   "outputs": [
    {
     "data": {
      "text/plain": [
       "(2935849, 10)"
      ]
     },
     "execution_count": 13,
     "metadata": {},
     "output_type": "execute_result"
    }
   ],
   "source": [
    "train.shape"
   ]
  },
  {
   "cell_type": "code",
   "execution_count": 14,
   "id": "c6fcb6c0",
   "metadata": {
    "execution": {
     "iopub.execute_input": "2021-11-20T17:44:28.896999Z",
     "iopub.status.busy": "2021-11-20T17:44:28.896331Z",
     "iopub.status.idle": "2021-11-20T17:44:29.767828Z",
     "shell.execute_reply": "2021-11-20T17:44:29.767316Z",
     "shell.execute_reply.started": "2021-11-20T17:33:08.628997Z"
    },
    "papermill": {
     "duration": 0.928156,
     "end_time": "2021-11-20T17:44:29.768014",
     "exception": false,
     "start_time": "2021-11-20T17:44:28.839858",
     "status": "completed"
    },
    "tags": []
   },
   "outputs": [
    {
     "data": {
      "text/html": [
       "<div>\n",
       "<style scoped>\n",
       "    .dataframe tbody tr th:only-of-type {\n",
       "        vertical-align: middle;\n",
       "    }\n",
       "\n",
       "    .dataframe tbody tr th {\n",
       "        vertical-align: top;\n",
       "    }\n",
       "\n",
       "    .dataframe thead th {\n",
       "        text-align: right;\n",
       "    }\n",
       "</style>\n",
       "<table border=\"1\" class=\"dataframe\">\n",
       "  <thead>\n",
       "    <tr style=\"text-align: right;\">\n",
       "      <th></th>\n",
       "      <th>shop_id</th>\n",
       "      <th>item_category_id</th>\n",
       "      <th>item_id</th>\n",
       "      <th>date_block_num</th>\n",
       "      <th>item_price</th>\n",
       "      <th>item_cnt_day</th>\n",
       "    </tr>\n",
       "  </thead>\n",
       "  <tbody>\n",
       "    <tr>\n",
       "      <th>count</th>\n",
       "      <td>2.935849e+06</td>\n",
       "      <td>2.935849e+06</td>\n",
       "      <td>2.935849e+06</td>\n",
       "      <td>2.935849e+06</td>\n",
       "      <td>2.935849e+06</td>\n",
       "      <td>2.935849e+06</td>\n",
       "    </tr>\n",
       "    <tr>\n",
       "      <th>mean</th>\n",
       "      <td>3.300173e+01</td>\n",
       "      <td>4.000138e+01</td>\n",
       "      <td>1.019723e+04</td>\n",
       "      <td>1.456991e+01</td>\n",
       "      <td>8.908532e+02</td>\n",
       "      <td>1.242641e+00</td>\n",
       "    </tr>\n",
       "    <tr>\n",
       "      <th>std</th>\n",
       "      <td>1.622697e+01</td>\n",
       "      <td>1.710076e+01</td>\n",
       "      <td>6.324297e+03</td>\n",
       "      <td>9.422988e+00</td>\n",
       "      <td>1.729800e+03</td>\n",
       "      <td>2.618834e+00</td>\n",
       "    </tr>\n",
       "    <tr>\n",
       "      <th>min</th>\n",
       "      <td>0.000000e+00</td>\n",
       "      <td>0.000000e+00</td>\n",
       "      <td>0.000000e+00</td>\n",
       "      <td>0.000000e+00</td>\n",
       "      <td>-1.000000e+00</td>\n",
       "      <td>-2.200000e+01</td>\n",
       "    </tr>\n",
       "    <tr>\n",
       "      <th>25%</th>\n",
       "      <td>2.200000e+01</td>\n",
       "      <td>2.800000e+01</td>\n",
       "      <td>4.476000e+03</td>\n",
       "      <td>7.000000e+00</td>\n",
       "      <td>2.490000e+02</td>\n",
       "      <td>1.000000e+00</td>\n",
       "    </tr>\n",
       "    <tr>\n",
       "      <th>50%</th>\n",
       "      <td>3.100000e+01</td>\n",
       "      <td>4.000000e+01</td>\n",
       "      <td>9.343000e+03</td>\n",
       "      <td>1.400000e+01</td>\n",
       "      <td>3.990000e+02</td>\n",
       "      <td>1.000000e+00</td>\n",
       "    </tr>\n",
       "    <tr>\n",
       "      <th>75%</th>\n",
       "      <td>4.700000e+01</td>\n",
       "      <td>5.500000e+01</td>\n",
       "      <td>1.568400e+04</td>\n",
       "      <td>2.300000e+01</td>\n",
       "      <td>9.990000e+02</td>\n",
       "      <td>1.000000e+00</td>\n",
       "    </tr>\n",
       "    <tr>\n",
       "      <th>max</th>\n",
       "      <td>5.900000e+01</td>\n",
       "      <td>8.300000e+01</td>\n",
       "      <td>2.216900e+04</td>\n",
       "      <td>3.300000e+01</td>\n",
       "      <td>3.079800e+05</td>\n",
       "      <td>2.169000e+03</td>\n",
       "    </tr>\n",
       "  </tbody>\n",
       "</table>\n",
       "</div>"
      ],
      "text/plain": [
       "            shop_id  item_category_id       item_id  date_block_num  \\\n",
       "count  2.935849e+06      2.935849e+06  2.935849e+06    2.935849e+06   \n",
       "mean   3.300173e+01      4.000138e+01  1.019723e+04    1.456991e+01   \n",
       "std    1.622697e+01      1.710076e+01  6.324297e+03    9.422988e+00   \n",
       "min    0.000000e+00      0.000000e+00  0.000000e+00    0.000000e+00   \n",
       "25%    2.200000e+01      2.800000e+01  4.476000e+03    7.000000e+00   \n",
       "50%    3.100000e+01      4.000000e+01  9.343000e+03    1.400000e+01   \n",
       "75%    4.700000e+01      5.500000e+01  1.568400e+04    2.300000e+01   \n",
       "max    5.900000e+01      8.300000e+01  2.216900e+04    3.300000e+01   \n",
       "\n",
       "         item_price  item_cnt_day  \n",
       "count  2.935849e+06  2.935849e+06  \n",
       "mean   8.908532e+02  1.242641e+00  \n",
       "std    1.729800e+03  2.618834e+00  \n",
       "min   -1.000000e+00 -2.200000e+01  \n",
       "25%    2.490000e+02  1.000000e+00  \n",
       "50%    3.990000e+02  1.000000e+00  \n",
       "75%    9.990000e+02  1.000000e+00  \n",
       "max    3.079800e+05  2.169000e+03  "
      ]
     },
     "execution_count": 14,
     "metadata": {},
     "output_type": "execute_result"
    }
   ],
   "source": [
    "train.describe()"
   ]
  },
  {
   "cell_type": "code",
   "execution_count": 15,
   "id": "bb4eb8f5",
   "metadata": {
    "execution": {
     "iopub.execute_input": "2021-11-20T17:44:29.872501Z",
     "iopub.status.busy": "2021-11-20T17:44:29.871899Z",
     "iopub.status.idle": "2021-11-20T17:44:30.453808Z",
     "shell.execute_reply": "2021-11-20T17:44:30.453298Z",
     "shell.execute_reply.started": "2021-11-20T17:33:09.525123Z"
    },
    "papermill": {
     "duration": 0.634783,
     "end_time": "2021-11-20T17:44:30.454019",
     "exception": false,
     "start_time": "2021-11-20T17:44:29.819236",
     "status": "completed"
    },
    "tags": []
   },
   "outputs": [
    {
     "data": {
      "text/plain": [
       "shop_name             0\n",
       "shop_id               0\n",
       "item_category_name    0\n",
       "item_category_id      0\n",
       "item_name             0\n",
       "item_id               0\n",
       "date                  0\n",
       "date_block_num        0\n",
       "item_price            0\n",
       "item_cnt_day          0\n",
       "dtype: int64"
      ]
     },
     "execution_count": 15,
     "metadata": {},
     "output_type": "execute_result"
    }
   ],
   "source": [
    "train.isnull().sum()"
   ]
  },
  {
   "cell_type": "code",
   "execution_count": 16,
   "id": "7479cca9",
   "metadata": {
    "execution": {
     "iopub.execute_input": "2021-11-20T17:44:30.613608Z",
     "iopub.status.busy": "2021-11-20T17:44:30.612943Z",
     "iopub.status.idle": "2021-11-20T17:44:30.860724Z",
     "shell.execute_reply": "2021-11-20T17:44:30.860120Z",
     "shell.execute_reply.started": "2021-11-20T17:33:10.852196Z"
    },
    "papermill": {
     "duration": 0.3565,
     "end_time": "2021-11-20T17:44:30.860862",
     "exception": false,
     "start_time": "2021-11-20T17:44:30.504362",
     "status": "completed"
    },
    "tags": []
   },
   "outputs": [
    {
     "data": {
      "text/plain": [
       "array(['!Якутск Орджоникидзе, 56 фран', '!Якутск ТЦ \"Центральный\" фран',\n",
       "       'Адыгея ТЦ \"Мега\"', 'Балашиха ТРК \"Октябрь-Киномир\"',\n",
       "       'Волжский ТЦ \"Волга Молл\"', 'Вологда ТРЦ \"Мармелад\"',\n",
       "       'Воронеж (Плехановская, 13)', 'Воронеж ТРЦ \"Максимир\"',\n",
       "       'Воронеж ТРЦ Сити-Парк \"Град\"', 'Выездная Торговля',\n",
       "       'Жуковский ул. Чкалова 39м?', 'Жуковский ул. Чкалова 39м²',\n",
       "       'Интернет-магазин ЧС', 'Казань ТЦ \"Бехетле\"',\n",
       "       'Казань ТЦ \"ПаркХаус\" II', 'Калуга ТРЦ \"XXI век\"',\n",
       "       'Коломна ТЦ \"Рио\"', 'Красноярск ТЦ \"Взлетка Плаза\"',\n",
       "       'Красноярск ТЦ \"Июнь\"', 'Курск ТЦ \"Пушкинский\"',\n",
       "       'Москва \"Распродажа\"', 'Москва МТРЦ \"Афи Молл\"',\n",
       "       'Москва Магазин С21', 'Москва ТК \"Буденовский\" (пав.А2)',\n",
       "       'Москва ТК \"Буденовский\" (пав.К7)', 'Москва ТРК \"Атриум\"',\n",
       "       'Москва ТЦ \"Ареал\" (Беляево)', 'Москва ТЦ \"МЕГА Белая Дача II\"',\n",
       "       'Москва ТЦ \"МЕГА Теплый Стан\" II',\n",
       "       'Москва ТЦ \"Новый век\" (Новокосино)', 'Москва ТЦ \"Перловский\"',\n",
       "       'Москва ТЦ \"Семеновский\"', 'Москва ТЦ \"Серебряный Дом\"',\n",
       "       'Мытищи ТРК \"XL-3\"', 'Н.Новгород ТРЦ \"РИО\"',\n",
       "       'Н.Новгород ТРЦ \"Фантастика\"',\n",
       "       'Новосибирск ТРЦ \"Галерея Новосибирск\"', 'Новосибирск ТЦ \"Мега\"',\n",
       "       'Омск ТЦ \"Мега\"', 'РостовНаДону ТРК \"Мегацентр Горизонт\"',\n",
       "       'РостовНаДону ТРК \"Мегацентр Горизонт\" Островной',\n",
       "       'РостовНаДону ТЦ \"Мега\"', 'СПб ТК \"Невский Центр\"',\n",
       "       'СПб ТК \"Сенная\"', 'Самара ТЦ \"Мелодия\"', 'Самара ТЦ \"ПаркХаус\"',\n",
       "       'Сергиев Посад ТЦ \"7Я\"', 'Сургут ТРЦ \"Сити Молл\"',\n",
       "       'Томск ТРЦ \"Изумрудный Город\"', 'Тюмень ТРЦ \"Кристалл\"',\n",
       "       'Тюмень ТЦ \"Гудвин\"', 'Тюмень ТЦ \"Зеленый Берег\"',\n",
       "       'Уфа ТК \"Центральный\"', 'Уфа ТЦ \"Семья\" 2', 'Химки ТЦ \"Мега\"',\n",
       "       'Цифровой склад 1С-Онлайн', 'Чехов ТРЦ \"Карнавал\"',\n",
       "       'Якутск Орджоникидзе, 56', 'Якутск ТЦ \"Центральный\"',\n",
       "       'Ярославль ТЦ \"Альтаир\"'], dtype=object)"
      ]
     },
     "execution_count": 16,
     "metadata": {},
     "output_type": "execute_result"
    }
   ],
   "source": [
    "train['shop_name'].unique()"
   ]
  },
  {
   "cell_type": "code",
   "execution_count": 17,
   "id": "02ee714a",
   "metadata": {
    "execution": {
     "iopub.execute_input": "2021-11-20T17:44:30.965464Z",
     "iopub.status.busy": "2021-11-20T17:44:30.964492Z",
     "iopub.status.idle": "2021-11-20T17:44:30.987314Z",
     "shell.execute_reply": "2021-11-20T17:44:30.987855Z",
     "shell.execute_reply.started": "2021-11-20T17:33:11.214502Z"
    },
    "papermill": {
     "duration": 0.076493,
     "end_time": "2021-11-20T17:44:30.988024",
     "exception": false,
     "start_time": "2021-11-20T17:44:30.911531",
     "status": "completed"
    },
    "tags": []
   },
   "outputs": [
    {
     "data": {
      "text/plain": [
       "array([ 0,  1,  2,  3,  4,  5,  6,  7,  8,  9, 10, 11, 12, 13, 14, 15, 16,\n",
       "       17, 18, 19, 20, 21, 22, 23, 24, 25, 26, 27, 28, 29, 30, 31, 32, 33,\n",
       "       34, 35, 36, 37, 38, 39, 40, 41, 42, 43, 44, 45, 46, 47, 48, 49, 50,\n",
       "       51, 52, 53, 54, 55, 56, 57, 58, 59])"
      ]
     },
     "execution_count": 17,
     "metadata": {},
     "output_type": "execute_result"
    }
   ],
   "source": [
    "train['shop_id'].unique()"
   ]
  },
  {
   "cell_type": "code",
   "execution_count": 18,
   "id": "3e9b985c",
   "metadata": {
    "execution": {
     "iopub.execute_input": "2021-11-20T17:44:31.095874Z",
     "iopub.status.busy": "2021-11-20T17:44:31.094983Z",
     "iopub.status.idle": "2021-11-20T17:44:31.397699Z",
     "shell.execute_reply": "2021-11-20T17:44:31.398162Z",
     "shell.execute_reply.started": "2021-11-20T17:33:11.241661Z"
    },
    "papermill": {
     "duration": 0.357562,
     "end_time": "2021-11-20T17:44:31.398329",
     "exception": false,
     "start_time": "2021-11-20T17:44:31.040767",
     "status": "completed"
    },
    "tags": []
   },
   "outputs": [
    {
     "data": {
      "text/plain": [
       "array(['PC - Гарнитуры/Наушники', 'Аксессуары - PS2', 'Аксессуары - PS3',\n",
       "       'Аксессуары - PS4', 'Аксессуары - PSP', 'Аксессуары - PSVita',\n",
       "       'Аксессуары - XBOX 360', 'Игровые консоли - PS3',\n",
       "       'Игровые консоли - PSP', 'Игровые консоли - PSVita',\n",
       "       'Игровые консоли - XBOX 360', 'Игры - PS3', 'Игры - PSP',\n",
       "       'Игры - PSVita', 'Игры - XBOX 360', 'Игры - Аксессуары для игр',\n",
       "       'Игры PC - Дополнительные издания',\n",
       "       'Игры PC - Коллекционные издания', 'Игры PC - Стандартные издания',\n",
       "       'Карты оплаты - Live!', 'Карты оплаты - PSN', 'Кино - Blu-Ray',\n",
       "       'Кино - Blu-Ray 3D', 'Кино - DVD', 'Кино - Коллекционное',\n",
       "       'Книги - Аудиокниги', 'Книги - Аудиокниги 1С',\n",
       "       'Книги - Методические материалы 1С',\n",
       "       'Музыка - CD локального производства',\n",
       "       'Музыка - CD фирменного производства', 'Музыка - MP3',\n",
       "       'Музыка - Музыкальное видео', 'Музыка - Подарочные издания',\n",
       "       'Подарки - Гаджеты, роботы, спорт', 'Подарки - Мягкие игрушки',\n",
       "       'Подарки - Настольные игры',\n",
       "       'Подарки - Настольные игры (компактные)', 'Подарки - Развитие',\n",
       "       'Подарки - Сувениры', 'Подарки - Сувениры (в навеску)',\n",
       "       'Подарки - Сумки, Альбомы, Коврики д/мыши', 'Подарки - Фигурки',\n",
       "       'Программы - 1С:Предприятие 8', 'Программы - Для дома и офиса',\n",
       "       'Программы - Обучающие', 'Чистые носители (шпиль)',\n",
       "       'Чистые носители (штучные)', 'Элементы питания', 'Музыка - Винил',\n",
       "       'Аксессуары - XBOX ONE', 'Билеты (Цифра)', 'Игровые консоли - PS4',\n",
       "       'Игровые консоли - XBOX ONE', 'Игровые консоли - Прочие',\n",
       "       'Игры - PS4', 'Игры - XBOX ONE',\n",
       "       'Карты оплаты (Кино, Музыка, Игры)', 'Кино - Blu-Ray 4K',\n",
       "       'Книги - Артбуки, энциклопедии', 'Книги - Комиксы, манга',\n",
       "       'Подарки - Атрибутика', 'Служебные', 'Служебные - Билеты',\n",
       "       'Книги - Путеводители', 'Книги - Бизнес литература',\n",
       "       'Книги - Художественная литература',\n",
       "       'Подарки - Открытки, наклейки', 'Книги - Открытки',\n",
       "       'Доставка товара', 'Книги - Компьютерная литература',\n",
       "       'Подарки - Сертификаты, услуги', 'Игры - PS2',\n",
       "       'Игровые консоли - PS2', 'Книги - Познавательная литература',\n",
       "       'Игры Android - Цифра', 'Игры MAC - Цифра', 'Игры PC - Цифра',\n",
       "       'Карты оплаты - Live! (Цифра)', 'Карты оплаты - Windows (Цифра)',\n",
       "       'Книги - Аудиокниги (Цифра)', 'Книги - Цифра',\n",
       "       'Программы - MAC (Цифра)', 'Программы - Для дома и офиса (Цифра)',\n",
       "       'Программы - Обучающие (Цифра)'], dtype=object)"
      ]
     },
     "execution_count": 18,
     "metadata": {},
     "output_type": "execute_result"
    }
   ],
   "source": [
    "train['item_category_name'].unique()"
   ]
  },
  {
   "cell_type": "code",
   "execution_count": 19,
   "id": "ad8d570c",
   "metadata": {
    "execution": {
     "iopub.execute_input": "2021-11-20T17:44:31.503727Z",
     "iopub.status.busy": "2021-11-20T17:44:31.502817Z",
     "iopub.status.idle": "2021-11-20T17:44:31.952262Z",
     "shell.execute_reply": "2021-11-20T17:44:31.952700Z",
     "shell.execute_reply.started": "2021-11-20T17:33:11.582237Z"
    },
    "papermill": {
     "duration": 0.503778,
     "end_time": "2021-11-20T17:44:31.952877",
     "exception": false,
     "start_time": "2021-11-20T17:44:31.449099",
     "status": "completed"
    },
    "tags": []
   },
   "outputs": [
    {
     "data": {
      "text/plain": [
       "array(['Наушники PHILIPS SBC HC8680',\n",
       "       'Pelican. Геймпад Nerf Wireless Controller PS2 (assorted colors)',\n",
       "       'PS Move Controller (Контроллер движений)', ...,\n",
       "       'LINKIN PARK  Reanimation', 'Ранетки (mp3-CD) (Jewel)',\n",
       "       'Наш Сад, UPG с версии 6.0 до версии 10.0'], dtype=object)"
      ]
     },
     "execution_count": 19,
     "metadata": {},
     "output_type": "execute_result"
    }
   ],
   "source": [
    "train['item_name'].unique()"
   ]
  },
  {
   "cell_type": "code",
   "execution_count": 20,
   "id": "c9e7b4f9",
   "metadata": {
    "execution": {
     "iopub.execute_input": "2021-11-20T17:44:32.061162Z",
     "iopub.status.busy": "2021-11-20T17:44:32.060204Z",
     "iopub.status.idle": "2021-11-20T17:44:32.086550Z",
     "shell.execute_reply": "2021-11-20T17:44:32.086065Z",
     "shell.execute_reply.started": "2021-11-20T17:33:12.113346Z"
    },
    "papermill": {
     "duration": 0.082669,
     "end_time": "2021-11-20T17:44:32.086698",
     "exception": false,
     "start_time": "2021-11-20T17:44:32.004029",
     "status": "completed"
    },
    "tags": []
   },
   "outputs": [
    {
     "data": {
      "text/plain": [
       "array([16255,  5740,  5570, ...,  4426, 18018, 16270])"
      ]
     },
     "execution_count": 20,
     "metadata": {},
     "output_type": "execute_result"
    }
   ],
   "source": [
    "train['item_id'].unique()"
   ]
  },
  {
   "cell_type": "code",
   "execution_count": 21,
   "id": "d7f9f13a",
   "metadata": {
    "execution": {
     "iopub.execute_input": "2021-11-20T17:44:32.197453Z",
     "iopub.status.busy": "2021-11-20T17:44:32.196502Z",
     "iopub.status.idle": "2021-11-20T17:44:32.503516Z",
     "shell.execute_reply": "2021-11-20T17:44:32.502956Z",
     "shell.execute_reply.started": "2021-11-20T17:33:12.143418Z"
    },
    "papermill": {
     "duration": 0.363457,
     "end_time": "2021-11-20T17:44:32.503667",
     "exception": false,
     "start_time": "2021-11-20T17:44:32.140210",
     "status": "completed"
    },
    "tags": []
   },
   "outputs": [
    {
     "data": {
      "text/plain": [
       "60"
      ]
     },
     "execution_count": 21,
     "metadata": {},
     "output_type": "execute_result"
    }
   ],
   "source": [
    "train['shop_name'].nunique()"
   ]
  },
  {
   "cell_type": "code",
   "execution_count": 22,
   "id": "a470341e",
   "metadata": {
    "execution": {
     "iopub.execute_input": "2021-11-20T17:44:32.615435Z",
     "iopub.status.busy": "2021-11-20T17:44:32.614742Z",
     "iopub.status.idle": "2021-11-20T17:44:32.635331Z",
     "shell.execute_reply": "2021-11-20T17:44:32.635806Z",
     "shell.execute_reply.started": "2021-11-20T17:33:12.509397Z"
    },
    "papermill": {
     "duration": 0.078674,
     "end_time": "2021-11-20T17:44:32.635971",
     "exception": false,
     "start_time": "2021-11-20T17:44:32.557297",
     "status": "completed"
    },
    "tags": []
   },
   "outputs": [
    {
     "data": {
      "text/plain": [
       "60"
      ]
     },
     "execution_count": 22,
     "metadata": {},
     "output_type": "execute_result"
    }
   ],
   "source": [
    "train['shop_id'].nunique()"
   ]
  },
  {
   "cell_type": "code",
   "execution_count": 23,
   "id": "80b3d2bc",
   "metadata": {
    "execution": {
     "iopub.execute_input": "2021-11-20T17:44:32.749054Z",
     "iopub.status.busy": "2021-11-20T17:44:32.748090Z",
     "iopub.status.idle": "2021-11-20T17:44:33.026889Z",
     "shell.execute_reply": "2021-11-20T17:44:33.026340Z",
     "shell.execute_reply.started": "2021-11-20T17:33:12.535469Z"
    },
    "papermill": {
     "duration": 0.33701,
     "end_time": "2021-11-20T17:44:33.027029",
     "exception": false,
     "start_time": "2021-11-20T17:44:32.690019",
     "status": "completed"
    },
    "tags": []
   },
   "outputs": [
    {
     "data": {
      "text/plain": [
       "84"
      ]
     },
     "execution_count": 23,
     "metadata": {},
     "output_type": "execute_result"
    }
   ],
   "source": [
    "train['item_category_name'].nunique()"
   ]
  },
  {
   "cell_type": "code",
   "execution_count": 24,
   "id": "bae8d854",
   "metadata": {
    "execution": {
     "iopub.execute_input": "2021-11-20T17:44:33.285156Z",
     "iopub.status.busy": "2021-11-20T17:44:33.199111Z",
     "iopub.status.idle": "2021-11-20T17:44:33.596186Z",
     "shell.execute_reply": "2021-11-20T17:44:33.595608Z",
     "shell.execute_reply.started": "2021-11-20T17:33:12.879110Z"
    },
    "papermill": {
     "duration": 0.516183,
     "end_time": "2021-11-20T17:44:33.596322",
     "exception": false,
     "start_time": "2021-11-20T17:44:33.080139",
     "status": "completed"
    },
    "tags": []
   },
   "outputs": [
    {
     "data": {
      "text/plain": [
       "21807"
      ]
     },
     "execution_count": 24,
     "metadata": {},
     "output_type": "execute_result"
    }
   ],
   "source": [
    "train['item_name'].nunique()"
   ]
  },
  {
   "cell_type": "code",
   "execution_count": 25,
   "id": "65599481",
   "metadata": {
    "execution": {
     "iopub.execute_input": "2021-11-20T17:44:33.706026Z",
     "iopub.status.busy": "2021-11-20T17:44:33.705351Z",
     "iopub.status.idle": "2021-11-20T17:44:33.729810Z",
     "shell.execute_reply": "2021-11-20T17:44:33.730391Z",
     "shell.execute_reply.started": "2021-11-20T17:33:13.417217Z"
    },
    "papermill": {
     "duration": 0.081909,
     "end_time": "2021-11-20T17:44:33.730567",
     "exception": false,
     "start_time": "2021-11-20T17:44:33.648658",
     "status": "completed"
    },
    "tags": []
   },
   "outputs": [
    {
     "data": {
      "text/plain": [
       "21807"
      ]
     },
     "execution_count": 25,
     "metadata": {},
     "output_type": "execute_result"
    }
   ],
   "source": [
    "train['item_id'].nunique()"
   ]
  },
  {
   "cell_type": "code",
   "execution_count": 26,
   "id": "8d44992b",
   "metadata": {
    "execution": {
     "iopub.execute_input": "2021-11-20T17:44:33.840967Z",
     "iopub.status.busy": "2021-11-20T17:44:33.840371Z",
     "iopub.status.idle": "2021-11-20T17:44:34.050595Z",
     "shell.execute_reply": "2021-11-20T17:44:34.050016Z",
     "shell.execute_reply.started": "2021-11-20T17:33:13.447704Z"
    },
    "papermill": {
     "duration": 0.267161,
     "end_time": "2021-11-20T17:44:34.050741",
     "exception": false,
     "start_time": "2021-11-20T17:44:33.783580",
     "status": "completed"
    },
    "tags": []
   },
   "outputs": [],
   "source": [
    "train_set=train.copy()"
   ]
  },
  {
   "cell_type": "code",
   "execution_count": 27,
   "id": "b4a1f32b",
   "metadata": {
    "execution": {
     "iopub.execute_input": "2021-11-20T17:44:34.163472Z",
     "iopub.status.busy": "2021-11-20T17:44:34.162833Z",
     "iopub.status.idle": "2021-11-20T17:44:34.590810Z",
     "shell.execute_reply": "2021-11-20T17:44:34.590157Z",
     "shell.execute_reply.started": "2021-11-20T17:33:13.663321Z"
    },
    "papermill": {
     "duration": 0.486705,
     "end_time": "2021-11-20T17:44:34.590961",
     "exception": false,
     "start_time": "2021-11-20T17:44:34.104256",
     "status": "completed"
    },
    "tags": []
   },
   "outputs": [
    {
     "data": {
      "text/html": [
       "<div>\n",
       "<style scoped>\n",
       "    .dataframe tbody tr th:only-of-type {\n",
       "        vertical-align: middle;\n",
       "    }\n",
       "\n",
       "    .dataframe tbody tr th {\n",
       "        vertical-align: top;\n",
       "    }\n",
       "\n",
       "    .dataframe thead th {\n",
       "        text-align: right;\n",
       "    }\n",
       "</style>\n",
       "<table border=\"1\" class=\"dataframe\">\n",
       "  <thead>\n",
       "    <tr style=\"text-align: right;\">\n",
       "      <th></th>\n",
       "      <th>shop_id</th>\n",
       "      <th>item_category_id</th>\n",
       "      <th>item_id</th>\n",
       "      <th>date_block_num</th>\n",
       "      <th>item_price</th>\n",
       "      <th>item_cnt_day</th>\n",
       "    </tr>\n",
       "  </thead>\n",
       "  <tbody>\n",
       "    <tr>\n",
       "      <th>shop_id</th>\n",
       "      <td>1.000000</td>\n",
       "      <td>0.019380</td>\n",
       "      <td>0.029396</td>\n",
       "      <td>0.019273</td>\n",
       "      <td>-0.024034</td>\n",
       "      <td>-0.005230</td>\n",
       "    </tr>\n",
       "    <tr>\n",
       "      <th>item_category_id</th>\n",
       "      <td>0.019380</td>\n",
       "      <td>1.000000</td>\n",
       "      <td>0.369431</td>\n",
       "      <td>0.029128</td>\n",
       "      <td>-0.253554</td>\n",
       "      <td>0.014768</td>\n",
       "    </tr>\n",
       "    <tr>\n",
       "      <th>item_id</th>\n",
       "      <td>0.029396</td>\n",
       "      <td>0.369431</td>\n",
       "      <td>1.000000</td>\n",
       "      <td>0.009356</td>\n",
       "      <td>-0.134104</td>\n",
       "      <td>0.016650</td>\n",
       "    </tr>\n",
       "    <tr>\n",
       "      <th>date_block_num</th>\n",
       "      <td>0.019273</td>\n",
       "      <td>0.029128</td>\n",
       "      <td>0.009356</td>\n",
       "      <td>1.000000</td>\n",
       "      <td>0.095010</td>\n",
       "      <td>0.009402</td>\n",
       "    </tr>\n",
       "    <tr>\n",
       "      <th>item_price</th>\n",
       "      <td>-0.024034</td>\n",
       "      <td>-0.253554</td>\n",
       "      <td>-0.134104</td>\n",
       "      <td>0.095010</td>\n",
       "      <td>1.000000</td>\n",
       "      <td>0.011197</td>\n",
       "    </tr>\n",
       "    <tr>\n",
       "      <th>item_cnt_day</th>\n",
       "      <td>-0.005230</td>\n",
       "      <td>0.014768</td>\n",
       "      <td>0.016650</td>\n",
       "      <td>0.009402</td>\n",
       "      <td>0.011197</td>\n",
       "      <td>1.000000</td>\n",
       "    </tr>\n",
       "  </tbody>\n",
       "</table>\n",
       "</div>"
      ],
      "text/plain": [
       "                   shop_id  item_category_id   item_id  date_block_num  \\\n",
       "shop_id           1.000000          0.019380  0.029396        0.019273   \n",
       "item_category_id  0.019380          1.000000  0.369431        0.029128   \n",
       "item_id           0.029396          0.369431  1.000000        0.009356   \n",
       "date_block_num    0.019273          0.029128  0.009356        1.000000   \n",
       "item_price       -0.024034         -0.253554 -0.134104        0.095010   \n",
       "item_cnt_day     -0.005230          0.014768  0.016650        0.009402   \n",
       "\n",
       "                  item_price  item_cnt_day  \n",
       "shop_id            -0.024034     -0.005230  \n",
       "item_category_id   -0.253554      0.014768  \n",
       "item_id            -0.134104      0.016650  \n",
       "date_block_num      0.095010      0.009402  \n",
       "item_price          1.000000      0.011197  \n",
       "item_cnt_day        0.011197      1.000000  "
      ]
     },
     "execution_count": 27,
     "metadata": {},
     "output_type": "execute_result"
    }
   ],
   "source": [
    "corrmat=train_set.corr()\n",
    "corrmat"
   ]
  },
  {
   "cell_type": "code",
   "execution_count": 28,
   "id": "51db371e",
   "metadata": {
    "execution": {
     "iopub.execute_input": "2021-11-20T17:44:34.701602Z",
     "iopub.status.busy": "2021-11-20T17:44:34.700958Z",
     "iopub.status.idle": "2021-11-20T17:44:35.725704Z",
     "shell.execute_reply": "2021-11-20T17:44:35.726168Z",
     "shell.execute_reply.started": "2021-11-20T17:33:14.094302Z"
    },
    "papermill": {
     "duration": 1.081659,
     "end_time": "2021-11-20T17:44:35.726335",
     "exception": false,
     "start_time": "2021-11-20T17:44:34.644676",
     "status": "completed"
    },
    "tags": []
   },
   "outputs": [
    {
     "data": {
      "text/plain": [
       "<AxesSubplot:>"
      ]
     },
     "execution_count": 28,
     "metadata": {},
     "output_type": "execute_result"
    },
    {
     "data": {
      "image/png": "[encoded data removed]",
      "text/plain": [
       "<Figure size 1080x1080 with 2 Axes>"
      ]
     },
     "metadata": {
      "needs_background": "light"
     },
     "output_type": "display_data"
    }
   ],
   "source": [
    "plt.figure(figsize=(15, 15))\n",
    "sns.set(font_scale=2)\n",
    "sns.heatmap(train_set.corr(), annot=True, cmap=\"Blues\", fmt= \".2g\")"
   ]
  },
  {
   "cell_type": "code",
   "execution_count": 29,
   "id": "1737270f",
   "metadata": {
    "execution": {
     "iopub.execute_input": "2021-11-20T17:44:35.843134Z",
     "iopub.status.busy": "2021-11-20T17:44:35.842498Z",
     "iopub.status.idle": "2021-11-20T17:44:35.857946Z",
     "shell.execute_reply": "2021-11-20T17:44:35.857421Z",
     "shell.execute_reply.started": "2021-11-20T17:33:15.179914Z"
    },
    "papermill": {
     "duration": 0.075207,
     "end_time": "2021-11-20T17:44:35.858095",
     "exception": false,
     "start_time": "2021-11-20T17:44:35.782888",
     "status": "completed"
    },
    "tags": []
   },
   "outputs": [
    {
     "data": {
      "text/html": [
       "<div>\n",
       "<style scoped>\n",
       "    .dataframe tbody tr th:only-of-type {\n",
       "        vertical-align: middle;\n",
       "    }\n",
       "\n",
       "    .dataframe tbody tr th {\n",
       "        vertical-align: top;\n",
       "    }\n",
       "\n",
       "    .dataframe thead th {\n",
       "        text-align: right;\n",
       "    }\n",
       "</style>\n",
       "<table border=\"1\" class=\"dataframe\">\n",
       "  <thead>\n",
       "    <tr style=\"text-align: right;\">\n",
       "      <th></th>\n",
       "      <th>shop_name</th>\n",
       "      <th>shop_id</th>\n",
       "      <th>item_category_name</th>\n",
       "      <th>item_category_id</th>\n",
       "      <th>item_name</th>\n",
       "      <th>item_id</th>\n",
       "      <th>date</th>\n",
       "      <th>date_block_num</th>\n",
       "      <th>item_price</th>\n",
       "      <th>item_cnt_day</th>\n",
       "    </tr>\n",
       "  </thead>\n",
       "  <tbody>\n",
       "    <tr>\n",
       "      <th>1644072</th>\n",
       "      <td>Москва ТЦ \"Серебряный Дом\"</td>\n",
       "      <td>32</td>\n",
       "      <td>Игры - PS3</td>\n",
       "      <td>19</td>\n",
       "      <td>DmC Devil May Cry [PS3, русские субтитры]</td>\n",
       "      <td>2973</td>\n",
       "      <td>15.05.2013</td>\n",
       "      <td>4</td>\n",
       "      <td>-1.0</td>\n",
       "      <td>1.0</td>\n",
       "    </tr>\n",
       "  </tbody>\n",
       "</table>\n",
       "</div>"
      ],
      "text/plain": [
       "                          shop_name  shop_id item_category_name  \\\n",
       "1644072  Москва ТЦ \"Серебряный Дом\"       32         Игры - PS3   \n",
       "\n",
       "         item_category_id                                  item_name  item_id  \\\n",
       "1644072                19  DmC Devil May Cry [PS3, русские субтитры]     2973   \n",
       "\n",
       "               date  date_block_num  item_price  item_cnt_day  \n",
       "1644072  15.05.2013               4        -1.0           1.0  "
      ]
     },
     "execution_count": 29,
     "metadata": {},
     "output_type": "execute_result"
    }
   ],
   "source": [
    "negative_price=train_set[train_set[\"item_price\"] < 0]\n",
    "negative_price"
   ]
  },
  {
   "cell_type": "code",
   "execution_count": 30,
   "id": "0acd0fbd",
   "metadata": {
    "execution": {
     "iopub.execute_input": "2021-11-20T17:44:35.975429Z",
     "iopub.status.busy": "2021-11-20T17:44:35.974811Z",
     "iopub.status.idle": "2021-11-20T17:44:36.175675Z",
     "shell.execute_reply": "2021-11-20T17:44:36.175067Z",
     "shell.execute_reply.started": "2021-11-20T17:33:15.200658Z"
    },
    "papermill": {
     "duration": 0.26077,
     "end_time": "2021-11-20T17:44:36.175814",
     "exception": false,
     "start_time": "2021-11-20T17:44:35.915044",
     "status": "completed"
    },
    "tags": []
   },
   "outputs": [
    {
     "data": {
      "text/html": [
       "<div>\n",
       "<style scoped>\n",
       "    .dataframe tbody tr th:only-of-type {\n",
       "        vertical-align: middle;\n",
       "    }\n",
       "\n",
       "    .dataframe tbody tr th {\n",
       "        vertical-align: top;\n",
       "    }\n",
       "\n",
       "    .dataframe thead th {\n",
       "        text-align: right;\n",
       "    }\n",
       "</style>\n",
       "<table border=\"1\" class=\"dataframe\">\n",
       "  <thead>\n",
       "    <tr style=\"text-align: right;\">\n",
       "      <th></th>\n",
       "      <th>shop_name</th>\n",
       "      <th>shop_id</th>\n",
       "      <th>item_category_name</th>\n",
       "      <th>item_category_id</th>\n",
       "      <th>item_name</th>\n",
       "      <th>item_id</th>\n",
       "      <th>date</th>\n",
       "      <th>date_block_num</th>\n",
       "      <th>item_price</th>\n",
       "      <th>item_cnt_day</th>\n",
       "    </tr>\n",
       "  </thead>\n",
       "  <tbody>\n",
       "    <tr>\n",
       "      <th>1644071</th>\n",
       "      <td>Москва ТЦ \"Серебряный Дом\"</td>\n",
       "      <td>32</td>\n",
       "      <td>Игры - PS3</td>\n",
       "      <td>19</td>\n",
       "      <td>DmC Devil May Cry [PS3, русские субтитры]</td>\n",
       "      <td>2973</td>\n",
       "      <td>23.05.2013</td>\n",
       "      <td>4</td>\n",
       "      <td>1249.0</td>\n",
       "      <td>1.0</td>\n",
       "    </tr>\n",
       "    <tr>\n",
       "      <th>1644072</th>\n",
       "      <td>Москва ТЦ \"Серебряный Дом\"</td>\n",
       "      <td>32</td>\n",
       "      <td>Игры - PS3</td>\n",
       "      <td>19</td>\n",
       "      <td>DmC Devil May Cry [PS3, русские субтитры]</td>\n",
       "      <td>2973</td>\n",
       "      <td>15.05.2013</td>\n",
       "      <td>4</td>\n",
       "      <td>-1.0</td>\n",
       "      <td>1.0</td>\n",
       "    </tr>\n",
       "    <tr>\n",
       "      <th>1644073</th>\n",
       "      <td>Москва ТЦ \"Серебряный Дом\"</td>\n",
       "      <td>32</td>\n",
       "      <td>Игры - PS3</td>\n",
       "      <td>19</td>\n",
       "      <td>DmC Devil May Cry [PS3, русские субтитры]</td>\n",
       "      <td>2973</td>\n",
       "      <td>06.05.2013</td>\n",
       "      <td>4</td>\n",
       "      <td>2499.0</td>\n",
       "      <td>1.0</td>\n",
       "    </tr>\n",
       "  </tbody>\n",
       "</table>\n",
       "</div>"
      ],
      "text/plain": [
       "                          shop_name  shop_id item_category_name  \\\n",
       "1644071  Москва ТЦ \"Серебряный Дом\"       32         Игры - PS3   \n",
       "1644072  Москва ТЦ \"Серебряный Дом\"       32         Игры - PS3   \n",
       "1644073  Москва ТЦ \"Серебряный Дом\"       32         Игры - PS3   \n",
       "\n",
       "         item_category_id                                  item_name  item_id  \\\n",
       "1644071                19  DmC Devil May Cry [PS3, русские субтитры]     2973   \n",
       "1644072                19  DmC Devil May Cry [PS3, русские субтитры]     2973   \n",
       "1644073                19  DmC Devil May Cry [PS3, русские субтитры]     2973   \n",
       "\n",
       "               date  date_block_num  item_price  item_cnt_day  \n",
       "1644071  23.05.2013               4      1249.0           1.0  \n",
       "1644072  15.05.2013               4        -1.0           1.0  \n",
       "1644073  06.05.2013               4      2499.0           1.0  "
      ]
     },
     "execution_count": 30,
     "metadata": {},
     "output_type": "execute_result"
    }
   ],
   "source": [
    "price_2973=train_set[(train_set[\"shop_id\"]== 32) & (train_set[\"item_category_name\"]==\"Игры - PS3\") & (train_set[\"item_id\"]== 2973 ) & (train_set[\"date_block_num\"]== 4)]\n",
    "price_2973"
   ]
  },
  {
   "cell_type": "code",
   "execution_count": 31,
   "id": "422cf96e",
   "metadata": {
    "execution": {
     "iopub.execute_input": "2021-11-20T17:44:36.301731Z",
     "iopub.status.busy": "2021-11-20T17:44:36.301003Z",
     "iopub.status.idle": "2021-11-20T17:44:36.304416Z",
     "shell.execute_reply": "2021-11-20T17:44:36.304953Z",
     "shell.execute_reply.started": "2021-11-20T17:33:15.677158Z"
    },
    "papermill": {
     "duration": 0.070795,
     "end_time": "2021-11-20T17:44:36.305128",
     "exception": false,
     "start_time": "2021-11-20T17:44:36.234333",
     "status": "completed"
    },
    "tags": []
   },
   "outputs": [
    {
     "data": {
      "text/plain": [
       "1874.0"
      ]
     },
     "execution_count": 31,
     "metadata": {},
     "output_type": "execute_result"
    }
   ],
   "source": [
    "price_mean=price_2973[(price_2973.shop_id==32)&(price_2973.item_id==2973)&(price_2973.date_block_num==4)&(price_2973.item_price>0)]\n",
    "price_mean.item_price.mean()"
   ]
  },
  {
   "cell_type": "code",
   "execution_count": 32,
   "id": "da7ced2e",
   "metadata": {
    "execution": {
     "iopub.execute_input": "2021-11-20T17:44:36.424785Z",
     "iopub.status.busy": "2021-11-20T17:44:36.423258Z",
     "iopub.status.idle": "2021-11-20T17:44:36.583192Z",
     "shell.execute_reply": "2021-11-20T17:44:36.582657Z",
     "shell.execute_reply.started": "2021-11-20T17:33:15.689743Z"
    },
    "papermill": {
     "duration": 0.220613,
     "end_time": "2021-11-20T17:44:36.583333",
     "exception": false,
     "start_time": "2021-11-20T17:44:36.362720",
     "status": "completed"
    },
    "tags": []
   },
   "outputs": [],
   "source": [
    "train_set.at[1644072,'item_price']= 1849"
   ]
  },
  {
   "cell_type": "code",
   "execution_count": 33,
   "id": "3d0f8df8",
   "metadata": {
    "execution": {
     "iopub.execute_input": "2021-11-20T17:44:36.706278Z",
     "iopub.status.busy": "2021-11-20T17:44:36.705227Z",
     "iopub.status.idle": "2021-11-20T17:44:36.732111Z",
     "shell.execute_reply": "2021-11-20T17:44:36.731645Z",
     "shell.execute_reply.started": "2021-11-20T17:33:15.841019Z"
    },
    "papermill": {
     "duration": 0.08927,
     "end_time": "2021-11-20T17:44:36.732251",
     "exception": false,
     "start_time": "2021-11-20T17:44:36.642981",
     "status": "completed"
    },
    "tags": []
   },
   "outputs": [
    {
     "data": {
      "text/html": [
       "<div>\n",
       "<style scoped>\n",
       "    .dataframe tbody tr th:only-of-type {\n",
       "        vertical-align: middle;\n",
       "    }\n",
       "\n",
       "    .dataframe tbody tr th {\n",
       "        vertical-align: top;\n",
       "    }\n",
       "\n",
       "    .dataframe thead th {\n",
       "        text-align: right;\n",
       "    }\n",
       "</style>\n",
       "<table border=\"1\" class=\"dataframe\">\n",
       "  <thead>\n",
       "    <tr style=\"text-align: right;\">\n",
       "      <th></th>\n",
       "      <th>shop_name</th>\n",
       "      <th>shop_id</th>\n",
       "      <th>item_category_name</th>\n",
       "      <th>item_category_id</th>\n",
       "      <th>item_name</th>\n",
       "      <th>item_id</th>\n",
       "      <th>date</th>\n",
       "      <th>date_block_num</th>\n",
       "      <th>item_price</th>\n",
       "      <th>item_cnt_day</th>\n",
       "    </tr>\n",
       "  </thead>\n",
       "  <tbody>\n",
       "    <tr>\n",
       "      <th>15728</th>\n",
       "      <td>Адыгея ТЦ \"Мега\"</td>\n",
       "      <td>2</td>\n",
       "      <td>Аксессуары - PS3</td>\n",
       "      <td>2</td>\n",
       "      <td>PS3: Контроллер игровой беспроводной серый мет...</td>\n",
       "      <td>5637</td>\n",
       "      <td>06.10.2013</td>\n",
       "      <td>9</td>\n",
       "      <td>2590.00</td>\n",
       "      <td>-1.0</td>\n",
       "    </tr>\n",
       "    <tr>\n",
       "      <th>15757</th>\n",
       "      <td>Адыгея ТЦ \"Мега\"</td>\n",
       "      <td>2</td>\n",
       "      <td>Аксессуары - PS3</td>\n",
       "      <td>2</td>\n",
       "      <td>PS3: Контроллер игровой беспроводной темно-кра...</td>\n",
       "      <td>5642</td>\n",
       "      <td>01.12.2013</td>\n",
       "      <td>11</td>\n",
       "      <td>2490.00</td>\n",
       "      <td>-1.0</td>\n",
       "    </tr>\n",
       "    <tr>\n",
       "      <th>15771</th>\n",
       "      <td>Адыгея ТЦ \"Мега\"</td>\n",
       "      <td>2</td>\n",
       "      <td>Аксессуары - PS3</td>\n",
       "      <td>2</td>\n",
       "      <td>PS3: Контроллер игровой беспроводной черный (D...</td>\n",
       "      <td>5643</td>\n",
       "      <td>02.01.2013</td>\n",
       "      <td>0</td>\n",
       "      <td>2385.21</td>\n",
       "      <td>-1.0</td>\n",
       "    </tr>\n",
       "    <tr>\n",
       "      <th>16462</th>\n",
       "      <td>Адыгея ТЦ \"Мега\"</td>\n",
       "      <td>2</td>\n",
       "      <td>Аксессуары - XBOX 360</td>\n",
       "      <td>6</td>\n",
       "      <td>X360: Super ZOOM [только для Kinect]</td>\n",
       "      <td>7882</td>\n",
       "      <td>12.07.2013</td>\n",
       "      <td>6</td>\n",
       "      <td>1390.00</td>\n",
       "      <td>-1.0</td>\n",
       "    </tr>\n",
       "    <tr>\n",
       "      <th>16589</th>\n",
       "      <td>Адыгея ТЦ \"Мега\"</td>\n",
       "      <td>2</td>\n",
       "      <td>Аксессуары - XBOX 360</td>\n",
       "      <td>6</td>\n",
       "      <td>X360: Геймпад проводной чёрный - Controller BL...</td>\n",
       "      <td>7894</td>\n",
       "      <td>23.02.2014</td>\n",
       "      <td>13</td>\n",
       "      <td>1490.00</td>\n",
       "      <td>-1.0</td>\n",
       "    </tr>\n",
       "    <tr>\n",
       "      <th>...</th>\n",
       "      <td>...</td>\n",
       "      <td>...</td>\n",
       "      <td>...</td>\n",
       "      <td>...</td>\n",
       "      <td>...</td>\n",
       "      <td>...</td>\n",
       "      <td>...</td>\n",
       "      <td>...</td>\n",
       "      <td>...</td>\n",
       "      <td>...</td>\n",
       "    </tr>\n",
       "    <tr>\n",
       "      <th>2934435</th>\n",
       "      <td>Ярославль ТЦ \"Альтаир\"</td>\n",
       "      <td>59</td>\n",
       "      <td>Программы - 1С:Предприятие 8</td>\n",
       "      <td>73</td>\n",
       "      <td>1С:Бухгалтерия 8. Базовая версия</td>\n",
       "      <td>482</td>\n",
       "      <td>13.11.2013</td>\n",
       "      <td>10</td>\n",
       "      <td>3300.00</td>\n",
       "      <td>-1.0</td>\n",
       "    </tr>\n",
       "    <tr>\n",
       "      <th>2934499</th>\n",
       "      <td>Ярославль ТЦ \"Альтаир\"</td>\n",
       "      <td>59</td>\n",
       "      <td>Программы - 1С:Предприятие 8</td>\n",
       "      <td>73</td>\n",
       "      <td>1С:Предпр.8.2.Версия для обучения программиров...</td>\n",
       "      <td>791</td>\n",
       "      <td>01.02.2013</td>\n",
       "      <td>1</td>\n",
       "      <td>600.00</td>\n",
       "      <td>-1.0</td>\n",
       "    </tr>\n",
       "    <tr>\n",
       "      <th>2934524</th>\n",
       "      <td>Ярославль ТЦ \"Альтаир\"</td>\n",
       "      <td>59</td>\n",
       "      <td>Программы - 1С:Предприятие 8</td>\n",
       "      <td>73</td>\n",
       "      <td>1С:Управление торговлей 8. Базовая версия</td>\n",
       "      <td>835</td>\n",
       "      <td>05.03.2014</td>\n",
       "      <td>14</td>\n",
       "      <td>4600.00</td>\n",
       "      <td>-1.0</td>\n",
       "    </tr>\n",
       "    <tr>\n",
       "      <th>2934594</th>\n",
       "      <td>Ярославль ТЦ \"Альтаир\"</td>\n",
       "      <td>59</td>\n",
       "      <td>Программы - Для дома и офиса</td>\n",
       "      <td>75</td>\n",
       "      <td>ESET NOD32 Smart Security - продление лицензии...</td>\n",
       "      <td>3141</td>\n",
       "      <td>12.03.2014</td>\n",
       "      <td>14</td>\n",
       "      <td>1180.00</td>\n",
       "      <td>-1.0</td>\n",
       "    </tr>\n",
       "    <tr>\n",
       "      <th>2935249</th>\n",
       "      <td>Ярославль ТЦ \"Альтаир\"</td>\n",
       "      <td>59</td>\n",
       "      <td>Программы - Для дома и офиса</td>\n",
       "      <td>75</td>\n",
       "      <td>Антивирус ESET NOD32 - продление лицензии на 1...</td>\n",
       "      <td>8528</td>\n",
       "      <td>05.03.2013</td>\n",
       "      <td>2</td>\n",
       "      <td>790.00</td>\n",
       "      <td>-1.0</td>\n",
       "    </tr>\n",
       "  </tbody>\n",
       "</table>\n",
       "<p>7356 rows × 10 columns</p>\n",
       "</div>"
      ],
      "text/plain": [
       "                      shop_name  shop_id            item_category_name  \\\n",
       "15728          Адыгея ТЦ \"Мега\"        2              Аксессуары - PS3   \n",
       "15757          Адыгея ТЦ \"Мега\"        2              Аксессуары - PS3   \n",
       "15771          Адыгея ТЦ \"Мега\"        2              Аксессуары - PS3   \n",
       "16462          Адыгея ТЦ \"Мега\"        2         Аксессуары - XBOX 360   \n",
       "16589          Адыгея ТЦ \"Мега\"        2         Аксессуары - XBOX 360   \n",
       "...                         ...      ...                           ...   \n",
       "2934435  Ярославль ТЦ \"Альтаир\"       59  Программы - 1С:Предприятие 8   \n",
       "2934499  Ярославль ТЦ \"Альтаир\"       59  Программы - 1С:Предприятие 8   \n",
       "2934524  Ярославль ТЦ \"Альтаир\"       59  Программы - 1С:Предприятие 8   \n",
       "2934594  Ярославль ТЦ \"Альтаир\"       59  Программы - Для дома и офиса   \n",
       "2935249  Ярославль ТЦ \"Альтаир\"       59  Программы - Для дома и офиса   \n",
       "\n",
       "         item_category_id                                          item_name  \\\n",
       "15728                   2  PS3: Контроллер игровой беспроводной серый мет...   \n",
       "15757                   2  PS3: Контроллер игровой беспроводной темно-кра...   \n",
       "15771                   2  PS3: Контроллер игровой беспроводной черный (D...   \n",
       "16462                   6               X360: Super ZOOM [только для Kinect]   \n",
       "16589                   6  X360: Геймпад проводной чёрный - Controller BL...   \n",
       "...                   ...                                                ...   \n",
       "2934435                73                   1С:Бухгалтерия 8. Базовая версия   \n",
       "2934499                73  1С:Предпр.8.2.Версия для обучения программиров...   \n",
       "2934524                73          1С:Управление торговлей 8. Базовая версия   \n",
       "2934594                75  ESET NOD32 Smart Security - продление лицензии...   \n",
       "2935249                75  Антивирус ESET NOD32 - продление лицензии на 1...   \n",
       "\n",
       "         item_id        date  date_block_num  item_price  item_cnt_day  \n",
       "15728       5637  06.10.2013               9     2590.00          -1.0  \n",
       "15757       5642  01.12.2013              11     2490.00          -1.0  \n",
       "15771       5643  02.01.2013               0     2385.21          -1.0  \n",
       "16462       7882  12.07.2013               6     1390.00          -1.0  \n",
       "16589       7894  23.02.2014              13     1490.00          -1.0  \n",
       "...          ...         ...             ...         ...           ...  \n",
       "2934435      482  13.11.2013              10     3300.00          -1.0  \n",
       "2934499      791  01.02.2013               1      600.00          -1.0  \n",
       "2934524      835  05.03.2014              14     4600.00          -1.0  \n",
       "2934594     3141  12.03.2014              14     1180.00          -1.0  \n",
       "2935249     8528  05.03.2013               2      790.00          -1.0  \n",
       "\n",
       "[7356 rows x 10 columns]"
      ]
     },
     "execution_count": 33,
     "metadata": {},
     "output_type": "execute_result"
    }
   ],
   "source": [
    "negative_item_cnt_day=train_set[train_set[\"item_cnt_day\"] < 0]\n",
    "negative_item_cnt_day"
   ]
  },
  {
   "cell_type": "code",
   "execution_count": 34,
   "id": "58fe80b7",
   "metadata": {
    "execution": {
     "iopub.execute_input": "2021-11-20T17:44:36.854336Z",
     "iopub.status.busy": "2021-11-20T17:44:36.853708Z",
     "iopub.status.idle": "2021-11-20T17:44:36.879573Z",
     "shell.execute_reply": "2021-11-20T17:44:36.880132Z",
     "shell.execute_reply.started": "2021-11-20T17:33:15.873358Z"
    },
    "papermill": {
     "duration": 0.089903,
     "end_time": "2021-11-20T17:44:36.880302",
     "exception": false,
     "start_time": "2021-11-20T17:44:36.790399",
     "status": "completed"
    },
    "tags": []
   },
   "outputs": [
    {
     "data": {
      "text/plain": [
       "0"
      ]
     },
     "execution_count": 34,
     "metadata": {},
     "output_type": "execute_result"
    }
   ],
   "source": [
    "cond = train_set['item_cnt_day'] < 0\n",
    "check= train_set.loc[cond,'item_cnt_day'] = 0\n",
    "check"
   ]
  },
  {
   "cell_type": "code",
   "execution_count": 35,
   "id": "075e7b78",
   "metadata": {
    "execution": {
     "iopub.execute_input": "2021-11-20T17:44:37.001360Z",
     "iopub.status.busy": "2021-11-20T17:44:37.000760Z",
     "iopub.status.idle": "2021-11-20T17:44:40.572870Z",
     "shell.execute_reply": "2021-11-20T17:44:40.572411Z",
     "shell.execute_reply.started": "2021-11-20T17:33:15.904637Z"
    },
    "papermill": {
     "duration": 3.634069,
     "end_time": "2021-11-20T17:44:40.573017",
     "exception": false,
     "start_time": "2021-11-20T17:44:36.938948",
     "status": "completed"
    },
    "tags": []
   },
   "outputs": [
    {
     "data": {
      "text/plain": [
       "Text(0.5, 1.0, 'Outliers in item_price')"
      ]
     },
     "execution_count": 35,
     "metadata": {},
     "output_type": "execute_result"
    },
    {
     "data": {
      "image/png": "[encoded data removed]",
      "text/plain": [
       "<Figure size 720x1080 with 1 Axes>"
      ]
     },
     "metadata": {},
     "output_type": "display_data"
    }
   ],
   "source": [
    "plt.figure(figsize=(10, 15))\n",
    "train_set.boxplot(['item_price'])\n",
    "plt.title('Outliers in item_price', fontsize = 40)"
   ]
  },
  {
   "cell_type": "code",
   "execution_count": 36,
   "id": "ecd1be5e",
   "metadata": {
    "execution": {
     "iopub.execute_input": "2021-11-20T17:44:40.698702Z",
     "iopub.status.busy": "2021-11-20T17:44:40.698097Z",
     "iopub.status.idle": "2021-11-20T17:44:40.731464Z",
     "shell.execute_reply": "2021-11-20T17:44:40.732147Z",
     "shell.execute_reply.started": "2021-11-20T17:33:22.717041Z"
    },
    "papermill": {
     "duration": 0.099305,
     "end_time": "2021-11-20T17:44:40.732390",
     "exception": false,
     "start_time": "2021-11-20T17:44:40.633085",
     "status": "completed"
    },
    "tags": []
   },
   "outputs": [
    {
     "name": "stdout",
     "output_type": "stream",
     "text": [
      "Maximum possible price 6080.2527912390315\n",
      "Lowest possible price -4298.545065560299\n"
     ]
    }
   ],
   "source": [
    "print(\"Maximum possible price\",train_set['item_price'].mean() + 3*train_set['item_price'].std())\n",
    "print(\"Lowest possible price\",train_set['item_price'].mean() - 3*train_set['item_price'].std())"
   ]
  },
  {
   "cell_type": "code",
   "execution_count": 37,
   "id": "6fc32a87",
   "metadata": {
    "execution": {
     "iopub.execute_input": "2021-11-20T17:44:41.370685Z",
     "iopub.status.busy": "2021-11-20T17:44:41.370047Z",
     "iopub.status.idle": "2021-11-20T17:44:41.373590Z",
     "shell.execute_reply": "2021-11-20T17:44:41.372991Z",
     "shell.execute_reply.started": "2021-11-20T17:33:22.756357Z"
    },
    "papermill": {
     "duration": 0.578842,
     "end_time": "2021-11-20T17:44:41.373734",
     "exception": false,
     "start_time": "2021-11-20T17:44:40.794892",
     "status": "completed"
    },
    "tags": []
   },
   "outputs": [
    {
     "name": "stdout",
     "output_type": "stream",
     "text": [
      "Highest price : 307980.0\n",
      "Lowest price:  0.07\n"
     ]
    }
   ],
   "source": [
    "hp=max(train_set.item_price)\n",
    "print(\"Highest price :\", hp)\n",
    "lp=min(train_set.item_price)\n",
    "print(\"Lowest price: \", lp)"
   ]
  },
  {
   "cell_type": "code",
   "execution_count": 38,
   "id": "099fe346",
   "metadata": {
    "execution": {
     "iopub.execute_input": "2021-11-20T17:44:41.500196Z",
     "iopub.status.busy": "2021-11-20T17:44:41.499167Z",
     "iopub.status.idle": "2021-11-20T17:44:41.522798Z",
     "shell.execute_reply": "2021-11-20T17:44:41.522217Z",
     "shell.execute_reply.started": "2021-11-20T17:33:23.590624Z"
    },
    "papermill": {
     "duration": 0.088175,
     "end_time": "2021-11-20T17:44:41.522942",
     "exception": false,
     "start_time": "2021-11-20T17:44:41.434767",
     "status": "completed"
    },
    "tags": []
   },
   "outputs": [
    {
     "data": {
      "text/html": [
       "<div>\n",
       "<style scoped>\n",
       "    .dataframe tbody tr th:only-of-type {\n",
       "        vertical-align: middle;\n",
       "    }\n",
       "\n",
       "    .dataframe tbody tr th {\n",
       "        vertical-align: top;\n",
       "    }\n",
       "\n",
       "    .dataframe thead th {\n",
       "        text-align: right;\n",
       "    }\n",
       "</style>\n",
       "<table border=\"1\" class=\"dataframe\">\n",
       "  <thead>\n",
       "    <tr style=\"text-align: right;\">\n",
       "      <th></th>\n",
       "      <th>shop_name</th>\n",
       "      <th>shop_id</th>\n",
       "      <th>item_category_name</th>\n",
       "      <th>item_category_id</th>\n",
       "      <th>item_name</th>\n",
       "      <th>item_id</th>\n",
       "      <th>date</th>\n",
       "      <th>date_block_num</th>\n",
       "      <th>item_price</th>\n",
       "      <th>item_cnt_day</th>\n",
       "    </tr>\n",
       "  </thead>\n",
       "  <tbody>\n",
       "    <tr>\n",
       "      <th>310</th>\n",
       "      <td>!Якутск Орджоникидзе, 56 фран</td>\n",
       "      <td>0</td>\n",
       "      <td>Аксессуары - XBOX 360</td>\n",
       "      <td>6</td>\n",
       "      <td>Xbox 360 Kinect Sensor Xbox 360 CS/EL/HU/PL/RU...</td>\n",
       "      <td>7956</td>\n",
       "      <td>18.01.2013</td>\n",
       "      <td>0</td>\n",
       "      <td>6254.00</td>\n",
       "      <td>2.0</td>\n",
       "    </tr>\n",
       "    <tr>\n",
       "      <th>311</th>\n",
       "      <td>!Якутск Орджоникидзе, 56 фран</td>\n",
       "      <td>0</td>\n",
       "      <td>Аксессуары - XBOX 360</td>\n",
       "      <td>6</td>\n",
       "      <td>Xbox 360 Kinect Sensor Xbox 360 CS/EL/HU/PL/RU...</td>\n",
       "      <td>7956</td>\n",
       "      <td>19.01.2013</td>\n",
       "      <td>0</td>\n",
       "      <td>6254.00</td>\n",
       "      <td>1.0</td>\n",
       "    </tr>\n",
       "    <tr>\n",
       "      <th>312</th>\n",
       "      <td>!Якутск Орджоникидзе, 56 фран</td>\n",
       "      <td>0</td>\n",
       "      <td>Аксессуары - XBOX 360</td>\n",
       "      <td>6</td>\n",
       "      <td>Xbox 360 Kinect Sensor Xbox 360 CS/EL/HU/PL/RU...</td>\n",
       "      <td>7956</td>\n",
       "      <td>30.01.2013</td>\n",
       "      <td>0</td>\n",
       "      <td>6254.00</td>\n",
       "      <td>3.0</td>\n",
       "    </tr>\n",
       "    <tr>\n",
       "      <th>313</th>\n",
       "      <td>!Якутск Орджоникидзе, 56 фран</td>\n",
       "      <td>0</td>\n",
       "      <td>Аксессуары - XBOX 360</td>\n",
       "      <td>6</td>\n",
       "      <td>Xbox 360 Kinect Sensor Xbox 360 CS/EL/HU/PL/RU...</td>\n",
       "      <td>7956</td>\n",
       "      <td>31.01.2013</td>\n",
       "      <td>0</td>\n",
       "      <td>6254.00</td>\n",
       "      <td>1.0</td>\n",
       "    </tr>\n",
       "    <tr>\n",
       "      <th>314</th>\n",
       "      <td>!Якутск Орджоникидзе, 56 фран</td>\n",
       "      <td>0</td>\n",
       "      <td>Аксессуары - XBOX 360</td>\n",
       "      <td>6</td>\n",
       "      <td>Xbox 360 Kinect Sensor Xbox 360 CS/EL/HU/PL/RU...</td>\n",
       "      <td>7956</td>\n",
       "      <td>10.02.2013</td>\n",
       "      <td>1</td>\n",
       "      <td>6254.00</td>\n",
       "      <td>1.0</td>\n",
       "    </tr>\n",
       "    <tr>\n",
       "      <th>...</th>\n",
       "      <td>...</td>\n",
       "      <td>...</td>\n",
       "      <td>...</td>\n",
       "      <td>...</td>\n",
       "      <td>...</td>\n",
       "      <td>...</td>\n",
       "      <td>...</td>\n",
       "      <td>...</td>\n",
       "      <td>...</td>\n",
       "      <td>...</td>\n",
       "    </tr>\n",
       "    <tr>\n",
       "      <th>2929953</th>\n",
       "      <td>Ярославль ТЦ \"Альтаир\"</td>\n",
       "      <td>59</td>\n",
       "      <td>Подарки - Гаджеты, роботы, спорт</td>\n",
       "      <td>62</td>\n",
       "      <td>Шпионский танк Spy-C Танк</td>\n",
       "      <td>21994</td>\n",
       "      <td>10.03.2013</td>\n",
       "      <td>2</td>\n",
       "      <td>6648.35</td>\n",
       "      <td>1.0</td>\n",
       "    </tr>\n",
       "    <tr>\n",
       "      <th>2935213</th>\n",
       "      <td>Ярославль ТЦ \"Альтаир\"</td>\n",
       "      <td>59</td>\n",
       "      <td>Программы - Для дома и офиса</td>\n",
       "      <td>75</td>\n",
       "      <td>Win 8.1 32-bit/64-bit Russian Russia Only DVD</td>\n",
       "      <td>7812</td>\n",
       "      <td>15.08.2015</td>\n",
       "      <td>31</td>\n",
       "      <td>6290.00</td>\n",
       "      <td>1.0</td>\n",
       "    </tr>\n",
       "    <tr>\n",
       "      <th>2935214</th>\n",
       "      <td>Ярославль ТЦ \"Альтаир\"</td>\n",
       "      <td>59</td>\n",
       "      <td>Программы - Для дома и офиса</td>\n",
       "      <td>75</td>\n",
       "      <td>Win 8.1 32-bit/64-bit Russian Russia Only DVD</td>\n",
       "      <td>7812</td>\n",
       "      <td>25.09.2015</td>\n",
       "      <td>32</td>\n",
       "      <td>6390.00</td>\n",
       "      <td>1.0</td>\n",
       "    </tr>\n",
       "    <tr>\n",
       "      <th>2935215</th>\n",
       "      <td>Ярославль ТЦ \"Альтаир\"</td>\n",
       "      <td>59</td>\n",
       "      <td>Программы - Для дома и офиса</td>\n",
       "      <td>75</td>\n",
       "      <td>Win 8.1 32-bit/64-bit Russian Russia Only DVD</td>\n",
       "      <td>7812</td>\n",
       "      <td>07.09.2015</td>\n",
       "      <td>32</td>\n",
       "      <td>6290.00</td>\n",
       "      <td>1.0</td>\n",
       "    </tr>\n",
       "    <tr>\n",
       "      <th>2935231</th>\n",
       "      <td>Ярославль ТЦ \"Альтаир\"</td>\n",
       "      <td>59</td>\n",
       "      <td>Программы - Для дома и офиса</td>\n",
       "      <td>75</td>\n",
       "      <td>Win Home Prem 7 Russian Russia Only DVD</td>\n",
       "      <td>7815</td>\n",
       "      <td>20.12.2014</td>\n",
       "      <td>23</td>\n",
       "      <td>6890.00</td>\n",
       "      <td>1.0</td>\n",
       "    </tr>\n",
       "  </tbody>\n",
       "</table>\n",
       "<p>28701 rows × 10 columns</p>\n",
       "</div>"
      ],
      "text/plain": [
       "                             shop_name  shop_id  \\\n",
       "310      !Якутск Орджоникидзе, 56 фран        0   \n",
       "311      !Якутск Орджоникидзе, 56 фран        0   \n",
       "312      !Якутск Орджоникидзе, 56 фран        0   \n",
       "313      !Якутск Орджоникидзе, 56 фран        0   \n",
       "314      !Якутск Орджоникидзе, 56 фран        0   \n",
       "...                                ...      ...   \n",
       "2929953         Ярославль ТЦ \"Альтаир\"       59   \n",
       "2935213         Ярославль ТЦ \"Альтаир\"       59   \n",
       "2935214         Ярославль ТЦ \"Альтаир\"       59   \n",
       "2935215         Ярославль ТЦ \"Альтаир\"       59   \n",
       "2935231         Ярославль ТЦ \"Альтаир\"       59   \n",
       "\n",
       "                       item_category_name  item_category_id  \\\n",
       "310                 Аксессуары - XBOX 360                 6   \n",
       "311                 Аксессуары - XBOX 360                 6   \n",
       "312                 Аксессуары - XBOX 360                 6   \n",
       "313                 Аксессуары - XBOX 360                 6   \n",
       "314                 Аксессуары - XBOX 360                 6   \n",
       "...                                   ...               ...   \n",
       "2929953  Подарки - Гаджеты, роботы, спорт                62   \n",
       "2935213      Программы - Для дома и офиса                75   \n",
       "2935214      Программы - Для дома и офиса                75   \n",
       "2935215      Программы - Для дома и офиса                75   \n",
       "2935231      Программы - Для дома и офиса                75   \n",
       "\n",
       "                                                 item_name  item_id  \\\n",
       "310      Xbox 360 Kinect Sensor Xbox 360 CS/EL/HU/PL/RU...     7956   \n",
       "311      Xbox 360 Kinect Sensor Xbox 360 CS/EL/HU/PL/RU...     7956   \n",
       "312      Xbox 360 Kinect Sensor Xbox 360 CS/EL/HU/PL/RU...     7956   \n",
       "313      Xbox 360 Kinect Sensor Xbox 360 CS/EL/HU/PL/RU...     7956   \n",
       "314      Xbox 360 Kinect Sensor Xbox 360 CS/EL/HU/PL/RU...     7956   \n",
       "...                                                    ...      ...   \n",
       "2929953                          Шпионский танк Spy-C Танк    21994   \n",
       "2935213      Win 8.1 32-bit/64-bit Russian Russia Only DVD     7812   \n",
       "2935214      Win 8.1 32-bit/64-bit Russian Russia Only DVD     7812   \n",
       "2935215      Win 8.1 32-bit/64-bit Russian Russia Only DVD     7812   \n",
       "2935231            Win Home Prem 7 Russian Russia Only DVD     7815   \n",
       "\n",
       "               date  date_block_num  item_price  item_cnt_day  \n",
       "310      18.01.2013               0     6254.00           2.0  \n",
       "311      19.01.2013               0     6254.00           1.0  \n",
       "312      30.01.2013               0     6254.00           3.0  \n",
       "313      31.01.2013               0     6254.00           1.0  \n",
       "314      10.02.2013               1     6254.00           1.0  \n",
       "...             ...             ...         ...           ...  \n",
       "2929953  10.03.2013               2     6648.35           1.0  \n",
       "2935213  15.08.2015              31     6290.00           1.0  \n",
       "2935214  25.09.2015              32     6390.00           1.0  \n",
       "2935215  07.09.2015              32     6290.00           1.0  \n",
       "2935231  20.12.2014              23     6890.00           1.0  \n",
       "\n",
       "[28701 rows x 10 columns]"
      ]
     },
     "execution_count": 38,
     "metadata": {},
     "output_type": "execute_result"
    }
   ],
   "source": [
    "highest_price=train_set[train_set[\"item_price\"] > 6080]\n",
    "highest_price"
   ]
  },
  {
   "cell_type": "code",
   "execution_count": 39,
   "id": "95cb7359",
   "metadata": {
    "execution": {
     "iopub.execute_input": "2021-11-20T17:44:41.651350Z",
     "iopub.status.busy": "2021-11-20T17:44:41.650586Z",
     "iopub.status.idle": "2021-11-20T17:44:41.904323Z",
     "shell.execute_reply": "2021-11-20T17:44:41.903768Z",
     "shell.execute_reply.started": "2021-11-20T17:33:23.630433Z"
    },
    "papermill": {
     "duration": 0.320239,
     "end_time": "2021-11-20T17:44:41.904497",
     "exception": false,
     "start_time": "2021-11-20T17:44:41.584258",
     "status": "completed"
    },
    "tags": []
   },
   "outputs": [],
   "source": [
    "train_set = train_set[train_set['item_price'] < 100000]"
   ]
  },
  {
   "cell_type": "code",
   "execution_count": 40,
   "id": "e621f3e5",
   "metadata": {
    "execution": {
     "iopub.execute_input": "2021-11-20T17:44:42.030037Z",
     "iopub.status.busy": "2021-11-20T17:44:42.029462Z",
     "iopub.status.idle": "2021-11-20T17:44:45.330593Z",
     "shell.execute_reply": "2021-11-20T17:44:45.329988Z",
     "shell.execute_reply.started": "2021-11-20T17:33:23.892912Z"
    },
    "papermill": {
     "duration": 3.365062,
     "end_time": "2021-11-20T17:44:45.330737",
     "exception": false,
     "start_time": "2021-11-20T17:44:41.965675",
     "status": "completed"
    },
    "tags": []
   },
   "outputs": [
    {
     "data": {
      "text/plain": [
       "Text(0.5, 1.0, 'Outliers in item_cnt_day')"
      ]
     },
     "execution_count": 40,
     "metadata": {},
     "output_type": "execute_result"
    },
    {
     "data": {
      "image/png": "[encoded data removed]",
      "text/plain": [
       "<Figure size 720x1080 with 1 Axes>"
      ]
     },
     "metadata": {},
     "output_type": "display_data"
    }
   ],
   "source": [
    "plt.figure(figsize=(10, 15))\n",
    "train_set.boxplot(['item_cnt_day'])\n",
    "plt.title('Outliers in item_cnt_day', fontsize = 40)"
   ]
  },
  {
   "cell_type": "code",
   "execution_count": 41,
   "id": "b66b205b",
   "metadata": {
    "execution": {
     "iopub.execute_input": "2021-11-20T17:44:45.461644Z",
     "iopub.status.busy": "2021-11-20T17:44:45.460957Z",
     "iopub.status.idle": "2021-11-20T17:44:45.495346Z",
     "shell.execute_reply": "2021-11-20T17:44:45.494816Z",
     "shell.execute_reply.started": "2021-11-20T17:33:30.893859Z"
    },
    "papermill": {
     "duration": 0.101926,
     "end_time": "2021-11-20T17:44:45.495510",
     "exception": false,
     "start_time": "2021-11-20T17:44:45.393584",
     "status": "completed"
    },
    "tags": []
   },
   "outputs": [
    {
     "name": "stdout",
     "output_type": "stream",
     "text": [
      "Maximum possible number of products sold 9.096348775703945\n",
      "Lowest possible number of products sold -6.605929653188066\n"
     ]
    }
   ],
   "source": [
    "print(\"Maximum possible number of products sold\",train_set['item_cnt_day'].mean() + 3*train_set['item_cnt_day'].std())\n",
    "print(\"Lowest possible number of products sold\",train_set['item_cnt_day'].mean() - 3*train_set['item_cnt_day'].std())"
   ]
  },
  {
   "cell_type": "code",
   "execution_count": 42,
   "id": "8a2c6a2c",
   "metadata": {
    "execution": {
     "iopub.execute_input": "2021-11-20T17:44:45.624194Z",
     "iopub.status.busy": "2021-11-20T17:44:45.623585Z",
     "iopub.status.idle": "2021-11-20T17:44:46.143012Z",
     "shell.execute_reply": "2021-11-20T17:44:46.142532Z",
     "shell.execute_reply.started": "2021-11-20T17:33:30.931747Z"
    },
    "papermill": {
     "duration": 0.584767,
     "end_time": "2021-11-20T17:44:46.143163",
     "exception": false,
     "start_time": "2021-11-20T17:44:45.558396",
     "status": "completed"
    },
    "tags": []
   },
   "outputs": [
    {
     "name": "stdout",
     "output_type": "stream",
     "text": [
      "Highest number of products sold : 2169.0\n",
      "Lowest number of products sold:  0.0\n"
     ]
    }
   ],
   "source": [
    "hps=max(train_set.item_cnt_day)\n",
    "print(\"Highest number of products sold :\", hps)\n",
    "lps=min(train_set.item_cnt_day)\n",
    "print(\"Lowest number of products sold: \", lps)"
   ]
  },
  {
   "cell_type": "code",
   "execution_count": 43,
   "id": "fb080394",
   "metadata": {
    "execution": {
     "iopub.execute_input": "2021-11-20T17:44:46.279069Z",
     "iopub.status.busy": "2021-11-20T17:44:46.278483Z",
     "iopub.status.idle": "2021-11-20T17:44:46.304713Z",
     "shell.execute_reply": "2021-11-20T17:44:46.304050Z",
     "shell.execute_reply.started": "2021-11-20T17:33:31.761543Z"
    },
    "papermill": {
     "duration": 0.09671,
     "end_time": "2021-11-20T17:44:46.304873",
     "exception": false,
     "start_time": "2021-11-20T17:44:46.208163",
     "status": "completed"
    },
    "tags": []
   },
   "outputs": [
    {
     "data": {
      "text/html": [
       "<div>\n",
       "<style scoped>\n",
       "    .dataframe tbody tr th:only-of-type {\n",
       "        vertical-align: middle;\n",
       "    }\n",
       "\n",
       "    .dataframe tbody tr th {\n",
       "        vertical-align: top;\n",
       "    }\n",
       "\n",
       "    .dataframe thead th {\n",
       "        text-align: right;\n",
       "    }\n",
       "</style>\n",
       "<table border=\"1\" class=\"dataframe\">\n",
       "  <thead>\n",
       "    <tr style=\"text-align: right;\">\n",
       "      <th></th>\n",
       "      <th>shop_name</th>\n",
       "      <th>shop_id</th>\n",
       "      <th>item_category_name</th>\n",
       "      <th>item_category_id</th>\n",
       "      <th>item_name</th>\n",
       "      <th>item_id</th>\n",
       "      <th>date</th>\n",
       "      <th>date_block_num</th>\n",
       "      <th>item_price</th>\n",
       "      <th>item_cnt_day</th>\n",
       "    </tr>\n",
       "  </thead>\n",
       "  <tbody>\n",
       "    <tr>\n",
       "      <th>2556</th>\n",
       "      <td>!Якутск Орджоникидзе, 56 фран</td>\n",
       "      <td>0</td>\n",
       "      <td>Игры PC - Стандартные издания</td>\n",
       "      <td>30</td>\n",
       "      <td>Crysis 3 [PC, русская версия]</td>\n",
       "      <td>2445</td>\n",
       "      <td>22.02.2013</td>\n",
       "      <td>1</td>\n",
       "      <td>942.0</td>\n",
       "      <td>10.0</td>\n",
       "    </tr>\n",
       "    <tr>\n",
       "      <th>4943</th>\n",
       "      <td>!Якутск Орджоникидзе, 56 фран</td>\n",
       "      <td>0</td>\n",
       "      <td>Кино - DVD</td>\n",
       "      <td>40</td>\n",
       "      <td>ДЖЕНТЛЬМЕНЫ, УДАЧИ!</td>\n",
       "      <td>11000</td>\n",
       "      <td>16.02.2013</td>\n",
       "      <td>1</td>\n",
       "      <td>247.0</td>\n",
       "      <td>11.0</td>\n",
       "    </tr>\n",
       "    <tr>\n",
       "      <th>5993</th>\n",
       "      <td>!Якутск Орджоникидзе, 56 фран</td>\n",
       "      <td>0</td>\n",
       "      <td>Кино - DVD</td>\n",
       "      <td>40</td>\n",
       "      <td>ОГРАБЛЕНИЕ КАЗИНО</td>\n",
       "      <td>16482</td>\n",
       "      <td>02.02.2013</td>\n",
       "      <td>1</td>\n",
       "      <td>247.0</td>\n",
       "      <td>10.0</td>\n",
       "    </tr>\n",
       "    <tr>\n",
       "      <th>15443</th>\n",
       "      <td>!Якутск ТЦ \"Центральный\" фран</td>\n",
       "      <td>1</td>\n",
       "      <td>Чистые носители (штучные)</td>\n",
       "      <td>82</td>\n",
       "      <td>Компактдиск Mirex CD-R 700 Мб 52x Slim case MA...</td>\n",
       "      <td>13345</td>\n",
       "      <td>25.01.2013</td>\n",
       "      <td>0</td>\n",
       "      <td>13.0</td>\n",
       "      <td>11.0</td>\n",
       "    </tr>\n",
       "    <tr>\n",
       "      <th>15464</th>\n",
       "      <td>!Якутск ТЦ \"Центральный\" фран</td>\n",
       "      <td>1</td>\n",
       "      <td>Чистые носители (штучные)</td>\n",
       "      <td>82</td>\n",
       "      <td>Компактдиск Mirex DVD+R Dual Layer 8,5 Гб 8x S...</td>\n",
       "      <td>13351</td>\n",
       "      <td>17.01.2013</td>\n",
       "      <td>0</td>\n",
       "      <td>41.0</td>\n",
       "      <td>13.0</td>\n",
       "    </tr>\n",
       "    <tr>\n",
       "      <th>...</th>\n",
       "      <td>...</td>\n",
       "      <td>...</td>\n",
       "      <td>...</td>\n",
       "      <td>...</td>\n",
       "      <td>...</td>\n",
       "      <td>...</td>\n",
       "      <td>...</td>\n",
       "      <td>...</td>\n",
       "      <td>...</td>\n",
       "      <td>...</td>\n",
       "    </tr>\n",
       "    <tr>\n",
       "      <th>2933480</th>\n",
       "      <td>Ярославль ТЦ \"Альтаир\"</td>\n",
       "      <td>59</td>\n",
       "      <td>Подарки - Сумки, Альбомы, Коврики д/мыши</td>\n",
       "      <td>71</td>\n",
       "      <td>Фирменный пакет майка 1С Интерес белый (34*42)...</td>\n",
       "      <td>20949</td>\n",
       "      <td>05.10.2013</td>\n",
       "      <td>9</td>\n",
       "      <td>5.0</td>\n",
       "      <td>12.0</td>\n",
       "    </tr>\n",
       "    <tr>\n",
       "      <th>2933523</th>\n",
       "      <td>Ярославль ТЦ \"Альтаир\"</td>\n",
       "      <td>59</td>\n",
       "      <td>Подарки - Сумки, Альбомы, Коврики д/мыши</td>\n",
       "      <td>71</td>\n",
       "      <td>Фирменный пакет майка 1С Интерес белый (34*42)...</td>\n",
       "      <td>20949</td>\n",
       "      <td>28.12.2013</td>\n",
       "      <td>11</td>\n",
       "      <td>5.0</td>\n",
       "      <td>13.0</td>\n",
       "    </tr>\n",
       "    <tr>\n",
       "      <th>2933825</th>\n",
       "      <td>Ярославль ТЦ \"Альтаир\"</td>\n",
       "      <td>59</td>\n",
       "      <td>Подарки - Сумки, Альбомы, Коврики д/мыши</td>\n",
       "      <td>71</td>\n",
       "      <td>Фирменный пакет майка 1С Интерес белый (34*42)...</td>\n",
       "      <td>20949</td>\n",
       "      <td>29.11.2014</td>\n",
       "      <td>22</td>\n",
       "      <td>5.0</td>\n",
       "      <td>10.0</td>\n",
       "    </tr>\n",
       "    <tr>\n",
       "      <th>2933908</th>\n",
       "      <td>Ярославль ТЦ \"Альтаир\"</td>\n",
       "      <td>59</td>\n",
       "      <td>Подарки - Сумки, Альбомы, Коврики д/мыши</td>\n",
       "      <td>71</td>\n",
       "      <td>Фирменный пакет майка 1С Интерес белый (34*42)...</td>\n",
       "      <td>20949</td>\n",
       "      <td>14.02.2015</td>\n",
       "      <td>25</td>\n",
       "      <td>5.0</td>\n",
       "      <td>13.0</td>\n",
       "    </tr>\n",
       "    <tr>\n",
       "      <th>2933917</th>\n",
       "      <td>Ярославль ТЦ \"Альтаир\"</td>\n",
       "      <td>59</td>\n",
       "      <td>Подарки - Сумки, Альбомы, Коврики д/мыши</td>\n",
       "      <td>71</td>\n",
       "      <td>Фирменный пакет майка 1С Интерес белый (34*42)...</td>\n",
       "      <td>20949</td>\n",
       "      <td>22.02.2015</td>\n",
       "      <td>25</td>\n",
       "      <td>5.0</td>\n",
       "      <td>14.0</td>\n",
       "    </tr>\n",
       "  </tbody>\n",
       "</table>\n",
       "<p>11936 rows × 10 columns</p>\n",
       "</div>"
      ],
      "text/plain": [
       "                             shop_name  shop_id  \\\n",
       "2556     !Якутск Орджоникидзе, 56 фран        0   \n",
       "4943     !Якутск Орджоникидзе, 56 фран        0   \n",
       "5993     !Якутск Орджоникидзе, 56 фран        0   \n",
       "15443    !Якутск ТЦ \"Центральный\" фран        1   \n",
       "15464    !Якутск ТЦ \"Центральный\" фран        1   \n",
       "...                                ...      ...   \n",
       "2933480         Ярославль ТЦ \"Альтаир\"       59   \n",
       "2933523         Ярославль ТЦ \"Альтаир\"       59   \n",
       "2933825         Ярославль ТЦ \"Альтаир\"       59   \n",
       "2933908         Ярославль ТЦ \"Альтаир\"       59   \n",
       "2933917         Ярославль ТЦ \"Альтаир\"       59   \n",
       "\n",
       "                               item_category_name  item_category_id  \\\n",
       "2556                Игры PC - Стандартные издания                30   \n",
       "4943                                   Кино - DVD                40   \n",
       "5993                                   Кино - DVD                40   \n",
       "15443                   Чистые носители (штучные)                82   \n",
       "15464                   Чистые носители (штучные)                82   \n",
       "...                                           ...               ...   \n",
       "2933480  Подарки - Сумки, Альбомы, Коврики д/мыши                71   \n",
       "2933523  Подарки - Сумки, Альбомы, Коврики д/мыши                71   \n",
       "2933825  Подарки - Сумки, Альбомы, Коврики д/мыши                71   \n",
       "2933908  Подарки - Сумки, Альбомы, Коврики д/мыши                71   \n",
       "2933917  Подарки - Сумки, Альбомы, Коврики д/мыши                71   \n",
       "\n",
       "                                                 item_name  item_id  \\\n",
       "2556                         Crysis 3 [PC, русская версия]     2445   \n",
       "4943                                   ДЖЕНТЛЬМЕНЫ, УДАЧИ!    11000   \n",
       "5993                                     ОГРАБЛЕНИЕ КАЗИНО    16482   \n",
       "15443    Компактдиск Mirex CD-R 700 Мб 52x Slim case MA...    13345   \n",
       "15464    Компактдиск Mirex DVD+R Dual Layer 8,5 Гб 8x S...    13351   \n",
       "...                                                    ...      ...   \n",
       "2933480  Фирменный пакет майка 1С Интерес белый (34*42)...    20949   \n",
       "2933523  Фирменный пакет майка 1С Интерес белый (34*42)...    20949   \n",
       "2933825  Фирменный пакет майка 1С Интерес белый (34*42)...    20949   \n",
       "2933908  Фирменный пакет майка 1С Интерес белый (34*42)...    20949   \n",
       "2933917  Фирменный пакет майка 1С Интерес белый (34*42)...    20949   \n",
       "\n",
       "               date  date_block_num  item_price  item_cnt_day  \n",
       "2556     22.02.2013               1       942.0          10.0  \n",
       "4943     16.02.2013               1       247.0          11.0  \n",
       "5993     02.02.2013               1       247.0          10.0  \n",
       "15443    25.01.2013               0        13.0          11.0  \n",
       "15464    17.01.2013               0        41.0          13.0  \n",
       "...             ...             ...         ...           ...  \n",
       "2933480  05.10.2013               9         5.0          12.0  \n",
       "2933523  28.12.2013              11         5.0          13.0  \n",
       "2933825  29.11.2014              22         5.0          10.0  \n",
       "2933908  14.02.2015              25         5.0          13.0  \n",
       "2933917  22.02.2015              25         5.0          14.0  \n",
       "\n",
       "[11936 rows x 10 columns]"
      ]
     },
     "execution_count": 43,
     "metadata": {},
     "output_type": "execute_result"
    }
   ],
   "source": [
    "highest_price=train_set[train_set[\"item_cnt_day\"] > 9]\n",
    "highest_price"
   ]
  },
  {
   "cell_type": "code",
   "execution_count": 44,
   "id": "5ff5d491",
   "metadata": {
    "execution": {
     "iopub.execute_input": "2021-11-20T17:44:46.439167Z",
     "iopub.status.busy": "2021-11-20T17:44:46.438570Z",
     "iopub.status.idle": "2021-11-20T17:44:46.681744Z",
     "shell.execute_reply": "2021-11-20T17:44:46.681127Z",
     "shell.execute_reply.started": "2021-11-20T17:33:31.792671Z"
    },
    "papermill": {
     "duration": 0.312331,
     "end_time": "2021-11-20T17:44:46.681896",
     "exception": false,
     "start_time": "2021-11-20T17:44:46.369565",
     "status": "completed"
    },
    "tags": []
   },
   "outputs": [],
   "source": [
    "train_set = train_set[train_set['item_cnt_day'] < 1000]"
   ]
  },
  {
   "cell_type": "code",
   "execution_count": 45,
   "id": "c04e981e",
   "metadata": {
    "execution": {
     "iopub.execute_input": "2021-11-20T17:44:46.814240Z",
     "iopub.status.busy": "2021-11-20T17:44:46.813609Z",
     "iopub.status.idle": "2021-11-20T17:44:46.829315Z",
     "shell.execute_reply": "2021-11-20T17:44:46.829826Z",
     "shell.execute_reply.started": "2021-11-20T17:33:32.034839Z"
    },
    "papermill": {
     "duration": 0.083437,
     "end_time": "2021-11-20T17:44:46.830008",
     "exception": false,
     "start_time": "2021-11-20T17:44:46.746571",
     "status": "completed"
    },
    "tags": []
   },
   "outputs": [],
   "source": [
    "train_set['Sales'] = (train_set[\"item_price\"] * train_set[\"item_cnt_day\"])"
   ]
  },
  {
   "cell_type": "code",
   "execution_count": 46,
   "id": "1dd0d6c5",
   "metadata": {
    "execution": {
     "iopub.execute_input": "2021-11-20T17:44:46.965132Z",
     "iopub.status.busy": "2021-11-20T17:44:46.964552Z",
     "iopub.status.idle": "2021-11-20T17:45:08.966673Z",
     "shell.execute_reply": "2021-11-20T17:45:08.966040Z",
     "shell.execute_reply.started": "2021-11-20T17:33:32.054693Z"
    },
    "papermill": {
     "duration": 22.068781,
     "end_time": "2021-11-20T17:45:08.966834",
     "exception": false,
     "start_time": "2021-11-20T17:44:46.898053",
     "status": "completed"
    },
    "tags": []
   },
   "outputs": [],
   "source": [
    "train_set['date'] = pd.to_datetime(train_set['date'])\n",
    "days = []\n",
    "months = []\n",
    "years = []\n",
    "\n",
    "for day in train_set['date']:\n",
    "    days.append(day.day)\n",
    "for month in train_set['date']:\n",
    "    months.append(month.month)    \n",
    "for year in train_set['date']:\n",
    "    years.append(year.year)"
   ]
  },
  {
   "cell_type": "code",
   "execution_count": 47,
   "id": "797a0974",
   "metadata": {
    "execution": {
     "iopub.execute_input": "2021-11-20T17:45:09.164173Z",
     "iopub.status.busy": "2021-11-20T17:45:09.162751Z",
     "iopub.status.idle": "2021-11-20T17:45:17.110023Z",
     "shell.execute_reply": "2021-11-20T17:45:17.110600Z",
     "shell.execute_reply.started": "2021-11-20T17:33:59.158072Z"
    },
    "papermill": {
     "duration": 8.079102,
     "end_time": "2021-11-20T17:45:17.110851",
     "exception": false,
     "start_time": "2021-11-20T17:45:09.031749",
     "status": "completed"
    },
    "tags": []
   },
   "outputs": [
    {
     "data": {
      "image/png": "[encoded data removed]",
      "text/plain": [
       "<Figure size 720x720 with 1 Axes>"
      ]
     },
     "metadata": {},
     "output_type": "display_data"
    }
   ],
   "source": [
    "plt.figure(figsize=(10,10))\n",
    "sns.countplot(years)\n",
    "plt.title('Sales per Year', fontsize = 40)\n",
    "plt.xlabel('Year', fontsize = 25)\n",
    "plt.ylabel('Sales', fontsize = 25)\n",
    "plt.show()"
   ]
  },
  {
   "cell_type": "code",
   "execution_count": 48,
   "id": "7ad6fa54",
   "metadata": {
    "execution": {
     "iopub.execute_input": "2021-11-20T17:45:17.250509Z",
     "iopub.status.busy": "2021-11-20T17:45:17.249831Z",
     "iopub.status.idle": "2021-11-20T17:45:47.602557Z",
     "shell.execute_reply": "2021-11-20T17:45:47.603039Z",
     "shell.execute_reply.started": "2021-11-20T17:34:23.204345Z"
    },
    "papermill": {
     "duration": 30.426415,
     "end_time": "2021-11-20T17:45:47.603207",
     "exception": false,
     "start_time": "2021-11-20T17:45:17.176792",
     "status": "completed"
    },
    "tags": []
   },
   "outputs": [
    {
     "data": {
      "image/png": "[encoded data removed]",
      "text/plain": [
       "<Figure size 2880x3600 with 1 Axes>"
      ]
     },
     "metadata": {},
     "output_type": "display_data"
    }
   ],
   "source": [
    "plt.figure(figsize=(40, 50))\n",
    "x= train_set['item_category_id']\n",
    "y= train_set['Sales']\n",
    "sns.barplot(x, y)\n",
    "plt.title('Highest Selling Product', fontsize = 60)\n",
    "plt.xlabel('Item categories', fontsize = 30)\n",
    "plt.ylabel('Sales', fontsize = 30)\n",
    "plt.show()"
   ]
  },
  {
   "cell_type": "code",
   "execution_count": 49,
   "id": "930df958",
   "metadata": {
    "execution": {
     "iopub.execute_input": "2021-11-20T17:45:47.743011Z",
     "iopub.status.busy": "2021-11-20T17:45:47.742393Z",
     "iopub.status.idle": "2021-11-20T17:45:47.822427Z",
     "shell.execute_reply": "2021-11-20T17:45:47.822891Z",
     "shell.execute_reply.started": "2021-11-20T17:35:01.046576Z"
    },
    "papermill": {
     "duration": 0.151354,
     "end_time": "2021-11-20T17:45:47.823057",
     "exception": false,
     "start_time": "2021-11-20T17:45:47.671703",
     "status": "completed"
    },
    "tags": []
   },
   "outputs": [
    {
     "data": {
      "text/html": [
       "<div>\n",
       "<style scoped>\n",
       "    .dataframe tbody tr th:only-of-type {\n",
       "        vertical-align: middle;\n",
       "    }\n",
       "\n",
       "    .dataframe tbody tr th {\n",
       "        vertical-align: top;\n",
       "    }\n",
       "\n",
       "    .dataframe thead th {\n",
       "        text-align: right;\n",
       "    }\n",
       "</style>\n",
       "<table border=\"1\" class=\"dataframe\">\n",
       "  <thead>\n",
       "    <tr style=\"text-align: right;\">\n",
       "      <th></th>\n",
       "      <th>shop_name</th>\n",
       "      <th>shop_id</th>\n",
       "      <th>item_category_name</th>\n",
       "      <th>item_category_id</th>\n",
       "      <th>item_name</th>\n",
       "      <th>item_id</th>\n",
       "      <th>date</th>\n",
       "      <th>date_block_num</th>\n",
       "      <th>item_price</th>\n",
       "      <th>item_cnt_day</th>\n",
       "      <th>Sales</th>\n",
       "    </tr>\n",
       "  </thead>\n",
       "  <tbody>\n",
       "    <tr>\n",
       "      <th>16947</th>\n",
       "      <td>Адыгея ТЦ \"Мега\"</td>\n",
       "      <td>2</td>\n",
       "      <td>Игровые консоли - PS4</td>\n",
       "      <td>12</td>\n",
       "      <td>Sony PlayStation 4 (500 Gb) Black (CUH-1008A/1...</td>\n",
       "      <td>6675</td>\n",
       "      <td>2013-11-29</td>\n",
       "      <td>10</td>\n",
       "      <td>18323.333333</td>\n",
       "      <td>30.0</td>\n",
       "      <td>549699.999999</td>\n",
       "    </tr>\n",
       "    <tr>\n",
       "      <th>16948</th>\n",
       "      <td>Адыгея ТЦ \"Мега\"</td>\n",
       "      <td>2</td>\n",
       "      <td>Игровые консоли - PS4</td>\n",
       "      <td>12</td>\n",
       "      <td>Sony PlayStation 4 (500 Gb) Black (CUH-1008A/1...</td>\n",
       "      <td>6675</td>\n",
       "      <td>2013-11-30</td>\n",
       "      <td>10</td>\n",
       "      <td>17990.000000</td>\n",
       "      <td>5.0</td>\n",
       "      <td>89950.000000</td>\n",
       "    </tr>\n",
       "    <tr>\n",
       "      <th>16949</th>\n",
       "      <td>Адыгея ТЦ \"Мега\"</td>\n",
       "      <td>2</td>\n",
       "      <td>Игровые консоли - PS4</td>\n",
       "      <td>12</td>\n",
       "      <td>Sony PlayStation 4 (500 Gb) Black (CUH-1008A/1...</td>\n",
       "      <td>6675</td>\n",
       "      <td>2013-12-27</td>\n",
       "      <td>11</td>\n",
       "      <td>22990.000000</td>\n",
       "      <td>2.0</td>\n",
       "      <td>45980.000000</td>\n",
       "    </tr>\n",
       "    <tr>\n",
       "      <th>16950</th>\n",
       "      <td>Адыгея ТЦ \"Мега\"</td>\n",
       "      <td>2</td>\n",
       "      <td>Игровые консоли - PS4</td>\n",
       "      <td>12</td>\n",
       "      <td>Sony PlayStation 4 (500 Gb) Black (CUH-1008A/1...</td>\n",
       "      <td>6675</td>\n",
       "      <td>2013-12-28</td>\n",
       "      <td>11</td>\n",
       "      <td>27990.000000</td>\n",
       "      <td>2.0</td>\n",
       "      <td>55980.000000</td>\n",
       "    </tr>\n",
       "    <tr>\n",
       "      <th>16951</th>\n",
       "      <td>Адыгея ТЦ \"Мега\"</td>\n",
       "      <td>2</td>\n",
       "      <td>Игровые консоли - PS4</td>\n",
       "      <td>12</td>\n",
       "      <td>Sony PlayStation 4 (500 Gb) Black (CUH-1008A/1...</td>\n",
       "      <td>6675</td>\n",
       "      <td>2013-12-29</td>\n",
       "      <td>11</td>\n",
       "      <td>27990.000000</td>\n",
       "      <td>2.0</td>\n",
       "      <td>55980.000000</td>\n",
       "    </tr>\n",
       "    <tr>\n",
       "      <th>...</th>\n",
       "      <td>...</td>\n",
       "      <td>...</td>\n",
       "      <td>...</td>\n",
       "      <td>...</td>\n",
       "      <td>...</td>\n",
       "      <td>...</td>\n",
       "      <td>...</td>\n",
       "      <td>...</td>\n",
       "      <td>...</td>\n",
       "      <td>...</td>\n",
       "      <td>...</td>\n",
       "    </tr>\n",
       "    <tr>\n",
       "      <th>2895033</th>\n",
       "      <td>Ярославль ТЦ \"Альтаир\"</td>\n",
       "      <td>59</td>\n",
       "      <td>Игровые консоли - PS4</td>\n",
       "      <td>12</td>\n",
       "      <td>Комплект Sony PS4 (500 Gb) Black (CUH-1108A/B0...</td>\n",
       "      <td>13444</td>\n",
       "      <td>2014-09-15</td>\n",
       "      <td>20</td>\n",
       "      <td>22490.000000</td>\n",
       "      <td>1.0</td>\n",
       "      <td>22490.000000</td>\n",
       "    </tr>\n",
       "    <tr>\n",
       "      <th>2895034</th>\n",
       "      <td>Ярославль ТЦ \"Альтаир\"</td>\n",
       "      <td>59</td>\n",
       "      <td>Игровые консоли - PS4</td>\n",
       "      <td>12</td>\n",
       "      <td>Комплект Sony PS4 (500 Gb) Black (CUH-1108A/B0...</td>\n",
       "      <td>13444</td>\n",
       "      <td>2014-04-10</td>\n",
       "      <td>21</td>\n",
       "      <td>22490.000000</td>\n",
       "      <td>1.0</td>\n",
       "      <td>22490.000000</td>\n",
       "    </tr>\n",
       "    <tr>\n",
       "      <th>2895035</th>\n",
       "      <td>Ярославль ТЦ \"Альтаир\"</td>\n",
       "      <td>59</td>\n",
       "      <td>Игровые консоли - PS4</td>\n",
       "      <td>12</td>\n",
       "      <td>Комплект «Sony PS4 (500 Gb) Black (CUH-1108A/B...</td>\n",
       "      <td>13498</td>\n",
       "      <td>2014-11-17</td>\n",
       "      <td>22</td>\n",
       "      <td>20990.000000</td>\n",
       "      <td>1.0</td>\n",
       "      <td>20990.000000</td>\n",
       "    </tr>\n",
       "    <tr>\n",
       "      <th>2895036</th>\n",
       "      <td>Ярославль ТЦ \"Альтаир\"</td>\n",
       "      <td>59</td>\n",
       "      <td>Игровые консоли - PS4</td>\n",
       "      <td>12</td>\n",
       "      <td>Комплект «Sony PS4 (500 Gb) Black (CUH-1108A/B...</td>\n",
       "      <td>13498</td>\n",
       "      <td>2014-01-11</td>\n",
       "      <td>22</td>\n",
       "      <td>22490.000000</td>\n",
       "      <td>1.0</td>\n",
       "      <td>22490.000000</td>\n",
       "    </tr>\n",
       "    <tr>\n",
       "      <th>2895037</th>\n",
       "      <td>Ярославль ТЦ \"Альтаир\"</td>\n",
       "      <td>59</td>\n",
       "      <td>Игровые консоли - PS4</td>\n",
       "      <td>12</td>\n",
       "      <td>Комплект «Sony PS4 (500 Gb) Black (CUH-1108A/B...</td>\n",
       "      <td>13498</td>\n",
       "      <td>2014-12-16</td>\n",
       "      <td>23</td>\n",
       "      <td>20990.000000</td>\n",
       "      <td>1.0</td>\n",
       "      <td>20990.000000</td>\n",
       "    </tr>\n",
       "  </tbody>\n",
       "</table>\n",
       "<p>7402 rows × 11 columns</p>\n",
       "</div>"
      ],
      "text/plain": [
       "                      shop_name  shop_id     item_category_name  \\\n",
       "16947          Адыгея ТЦ \"Мега\"        2  Игровые консоли - PS4   \n",
       "16948          Адыгея ТЦ \"Мега\"        2  Игровые консоли - PS4   \n",
       "16949          Адыгея ТЦ \"Мега\"        2  Игровые консоли - PS4   \n",
       "16950          Адыгея ТЦ \"Мега\"        2  Игровые консоли - PS4   \n",
       "16951          Адыгея ТЦ \"Мега\"        2  Игровые консоли - PS4   \n",
       "...                         ...      ...                    ...   \n",
       "2895033  Ярославль ТЦ \"Альтаир\"       59  Игровые консоли - PS4   \n",
       "2895034  Ярославль ТЦ \"Альтаир\"       59  Игровые консоли - PS4   \n",
       "2895035  Ярославль ТЦ \"Альтаир\"       59  Игровые консоли - PS4   \n",
       "2895036  Ярославль ТЦ \"Альтаир\"       59  Игровые консоли - PS4   \n",
       "2895037  Ярославль ТЦ \"Альтаир\"       59  Игровые консоли - PS4   \n",
       "\n",
       "         item_category_id                                          item_name  \\\n",
       "16947                  12  Sony PlayStation 4 (500 Gb) Black (CUH-1008A/1...   \n",
       "16948                  12  Sony PlayStation 4 (500 Gb) Black (CUH-1008A/1...   \n",
       "16949                  12  Sony PlayStation 4 (500 Gb) Black (CUH-1008A/1...   \n",
       "16950                  12  Sony PlayStation 4 (500 Gb) Black (CUH-1008A/1...   \n",
       "16951                  12  Sony PlayStation 4 (500 Gb) Black (CUH-1008A/1...   \n",
       "...                   ...                                                ...   \n",
       "2895033                12  Комплект Sony PS4 (500 Gb) Black (CUH-1108A/B0...   \n",
       "2895034                12  Комплект Sony PS4 (500 Gb) Black (CUH-1108A/B0...   \n",
       "2895035                12  Комплект «Sony PS4 (500 Gb) Black (CUH-1108A/B...   \n",
       "2895036                12  Комплект «Sony PS4 (500 Gb) Black (CUH-1108A/B...   \n",
       "2895037                12  Комплект «Sony PS4 (500 Gb) Black (CUH-1108A/B...   \n",
       "\n",
       "         item_id       date  date_block_num    item_price  item_cnt_day  \\\n",
       "16947       6675 2013-11-29              10  18323.333333          30.0   \n",
       "16948       6675 2013-11-30              10  17990.000000           5.0   \n",
       "16949       6675 2013-12-27              11  22990.000000           2.0   \n",
       "16950       6675 2013-12-28              11  27990.000000           2.0   \n",
       "16951       6675 2013-12-29              11  27990.000000           2.0   \n",
       "...          ...        ...             ...           ...           ...   \n",
       "2895033    13444 2014-09-15              20  22490.000000           1.0   \n",
       "2895034    13444 2014-04-10              21  22490.000000           1.0   \n",
       "2895035    13498 2014-11-17              22  20990.000000           1.0   \n",
       "2895036    13498 2014-01-11              22  22490.000000           1.0   \n",
       "2895037    13498 2014-12-16              23  20990.000000           1.0   \n",
       "\n",
       "                 Sales  \n",
       "16947    549699.999999  \n",
       "16948     89950.000000  \n",
       "16949     45980.000000  \n",
       "16950     55980.000000  \n",
       "16951     55980.000000  \n",
       "...                ...  \n",
       "2895033   22490.000000  \n",
       "2895034   22490.000000  \n",
       "2895035   20990.000000  \n",
       "2895036   22490.000000  \n",
       "2895037   20990.000000  \n",
       "\n",
       "[7402 rows x 11 columns]"
      ]
     },
     "execution_count": 49,
     "metadata": {},
     "output_type": "execute_result"
    }
   ],
   "source": [
    "highest_selling_itemc= train_set.loc[train_set['item_category_id'] == 12]\n",
    "highest_selling_itemc"
   ]
  },
  {
   "cell_type": "code",
   "execution_count": 50,
   "id": "bab008ff",
   "metadata": {
    "execution": {
     "iopub.execute_input": "2021-11-20T17:45:47.964407Z",
     "iopub.status.busy": "2021-11-20T17:45:47.963760Z",
     "iopub.status.idle": "2021-11-20T17:46:13.377837Z",
     "shell.execute_reply": "2021-11-20T17:46:13.378307Z",
     "shell.execute_reply.started": "2021-11-20T17:35:13.495881Z"
    },
    "papermill": {
     "duration": 25.486104,
     "end_time": "2021-11-20T17:46:13.378498",
     "exception": false,
     "start_time": "2021-11-20T17:45:47.892394",
     "status": "completed"
    },
    "tags": []
   },
   "outputs": [
    {
     "data": {
      "image/png": "[encoded data removed]",
      "text/plain": [
       "<Figure size 2880x3600 with 1 Axes>"
      ]
     },
     "metadata": {},
     "output_type": "display_data"
    }
   ],
   "source": [
    "plt.figure(figsize=(40, 50))\n",
    "x= train_set['shop_id']\n",
    "y= train_set['Sales']\n",
    "sns.barplot(x, y)\n",
    "plt.title('Highest Selling Shop', fontsize = 60)\n",
    "plt.xlabel('Shop_id', fontsize = 30)\n",
    "plt.ylabel('Sales', fontsize = 30)\n",
    "plt.show()"
   ]
  },
  {
   "cell_type": "code",
   "execution_count": 51,
   "id": "749e8ff1",
   "metadata": {
    "execution": {
     "iopub.execute_input": "2021-11-20T17:46:13.527014Z",
     "iopub.status.busy": "2021-11-20T17:46:13.526427Z",
     "iopub.status.idle": "2021-11-20T17:46:13.551781Z",
     "shell.execute_reply": "2021-11-20T17:46:13.551303Z",
     "shell.execute_reply.started": "2021-11-20T17:36:45.909320Z"
    },
    "papermill": {
     "duration": 0.100659,
     "end_time": "2021-11-20T17:46:13.551919",
     "exception": false,
     "start_time": "2021-11-20T17:46:13.451260",
     "status": "completed"
    },
    "tags": []
   },
   "outputs": [
    {
     "data": {
      "text/html": [
       "<div>\n",
       "<style scoped>\n",
       "    .dataframe tbody tr th:only-of-type {\n",
       "        vertical-align: middle;\n",
       "    }\n",
       "\n",
       "    .dataframe tbody tr th {\n",
       "        vertical-align: top;\n",
       "    }\n",
       "\n",
       "    .dataframe thead th {\n",
       "        text-align: right;\n",
       "    }\n",
       "</style>\n",
       "<table border=\"1\" class=\"dataframe\">\n",
       "  <thead>\n",
       "    <tr style=\"text-align: right;\">\n",
       "      <th></th>\n",
       "      <th>shop_name</th>\n",
       "      <th>shop_id</th>\n",
       "      <th>item_category_name</th>\n",
       "      <th>item_category_id</th>\n",
       "      <th>item_name</th>\n",
       "      <th>item_id</th>\n",
       "      <th>date</th>\n",
       "      <th>date_block_num</th>\n",
       "      <th>item_price</th>\n",
       "      <th>item_cnt_day</th>\n",
       "      <th>Sales</th>\n",
       "    </tr>\n",
       "  </thead>\n",
       "  <tbody>\n",
       "    <tr>\n",
       "      <th>287630</th>\n",
       "      <td>Выездная Торговля</td>\n",
       "      <td>9</td>\n",
       "      <td>Аксессуары - PS3</td>\n",
       "      <td>2</td>\n",
       "      <td>PS Move Motion Controller (Контроллер движений...</td>\n",
       "      <td>5572</td>\n",
       "      <td>2013-05-10</td>\n",
       "      <td>9</td>\n",
       "      <td>1490.000000</td>\n",
       "      <td>2.0</td>\n",
       "      <td>2980.0</td>\n",
       "    </tr>\n",
       "    <tr>\n",
       "      <th>287631</th>\n",
       "      <td>Выездная Торговля</td>\n",
       "      <td>9</td>\n",
       "      <td>Аксессуары - PS3</td>\n",
       "      <td>2</td>\n",
       "      <td>PS Move Motion Controller Charger (Зарядная ст...</td>\n",
       "      <td>5573</td>\n",
       "      <td>2013-04-10</td>\n",
       "      <td>9</td>\n",
       "      <td>599.000000</td>\n",
       "      <td>1.0</td>\n",
       "      <td>599.0</td>\n",
       "    </tr>\n",
       "    <tr>\n",
       "      <th>287632</th>\n",
       "      <td>Выездная Торговля</td>\n",
       "      <td>9</td>\n",
       "      <td>Аксессуары - PS3</td>\n",
       "      <td>2</td>\n",
       "      <td>PS Move Motion Controller Charger (Зарядная ст...</td>\n",
       "      <td>5573</td>\n",
       "      <td>2013-05-10</td>\n",
       "      <td>9</td>\n",
       "      <td>599.000000</td>\n",
       "      <td>2.0</td>\n",
       "      <td>1198.0</td>\n",
       "    </tr>\n",
       "    <tr>\n",
       "      <th>287633</th>\n",
       "      <td>Выездная Торговля</td>\n",
       "      <td>9</td>\n",
       "      <td>Аксессуары - PS3</td>\n",
       "      <td>2</td>\n",
       "      <td>PS3: Гарнитура беспроводная для PS3 (Wireless ...</td>\n",
       "      <td>5612</td>\n",
       "      <td>2013-04-10</td>\n",
       "      <td>9</td>\n",
       "      <td>3690.000000</td>\n",
       "      <td>1.0</td>\n",
       "      <td>3690.0</td>\n",
       "    </tr>\n",
       "    <tr>\n",
       "      <th>287634</th>\n",
       "      <td>Выездная Торговля</td>\n",
       "      <td>9</td>\n",
       "      <td>Аксессуары - PS3</td>\n",
       "      <td>2</td>\n",
       "      <td>PS3: Гарнитура беспроводная для PS3 (Wireless ...</td>\n",
       "      <td>5612</td>\n",
       "      <td>2013-06-10</td>\n",
       "      <td>9</td>\n",
       "      <td>3690.000000</td>\n",
       "      <td>1.0</td>\n",
       "      <td>3690.0</td>\n",
       "    </tr>\n",
       "    <tr>\n",
       "      <th>...</th>\n",
       "      <td>...</td>\n",
       "      <td>...</td>\n",
       "      <td>...</td>\n",
       "      <td>...</td>\n",
       "      <td>...</td>\n",
       "      <td>...</td>\n",
       "      <td>...</td>\n",
       "      <td>...</td>\n",
       "      <td>...</td>\n",
       "      <td>...</td>\n",
       "      <td>...</td>\n",
       "    </tr>\n",
       "    <tr>\n",
       "      <th>291376</th>\n",
       "      <td>Выездная Торговля</td>\n",
       "      <td>9</td>\n",
       "      <td>Программы - Для дома и офиса</td>\n",
       "      <td>75</td>\n",
       "      <td>Kaspersky Internet Security для Android Russia...</td>\n",
       "      <td>4201</td>\n",
       "      <td>2015-02-10</td>\n",
       "      <td>33</td>\n",
       "      <td>399.000000</td>\n",
       "      <td>110.0</td>\n",
       "      <td>43890.0</td>\n",
       "    </tr>\n",
       "    <tr>\n",
       "      <th>291377</th>\n",
       "      <td>Выездная Торговля</td>\n",
       "      <td>9</td>\n",
       "      <td>Служебные</td>\n",
       "      <td>79</td>\n",
       "      <td>Прием денежных средств для 1С-Онлайн</td>\n",
       "      <td>17717</td>\n",
       "      <td>2014-02-10</td>\n",
       "      <td>21</td>\n",
       "      <td>1999.000000</td>\n",
       "      <td>2.0</td>\n",
       "      <td>3998.0</td>\n",
       "    </tr>\n",
       "    <tr>\n",
       "      <th>291378</th>\n",
       "      <td>Выездная Торговля</td>\n",
       "      <td>9</td>\n",
       "      <td>Служебные</td>\n",
       "      <td>79</td>\n",
       "      <td>Прием денежных средств для 1С-Онлайн</td>\n",
       "      <td>17717</td>\n",
       "      <td>2014-03-10</td>\n",
       "      <td>21</td>\n",
       "      <td>1219.000000</td>\n",
       "      <td>5.0</td>\n",
       "      <td>6095.0</td>\n",
       "    </tr>\n",
       "    <tr>\n",
       "      <th>291379</th>\n",
       "      <td>Выездная Торговля</td>\n",
       "      <td>9</td>\n",
       "      <td>Служебные</td>\n",
       "      <td>79</td>\n",
       "      <td>Прием денежных средств для 1С-Онлайн</td>\n",
       "      <td>17717</td>\n",
       "      <td>2014-05-10</td>\n",
       "      <td>21</td>\n",
       "      <td>774.250000</td>\n",
       "      <td>4.0</td>\n",
       "      <td>3097.0</td>\n",
       "    </tr>\n",
       "    <tr>\n",
       "      <th>291380</th>\n",
       "      <td>Выездная Торговля</td>\n",
       "      <td>9</td>\n",
       "      <td>Служебные</td>\n",
       "      <td>79</td>\n",
       "      <td>Прием денежных средств для 1С-Онлайн</td>\n",
       "      <td>17717</td>\n",
       "      <td>2014-04-10</td>\n",
       "      <td>21</td>\n",
       "      <td>566.333333</td>\n",
       "      <td>3.0</td>\n",
       "      <td>1699.0</td>\n",
       "    </tr>\n",
       "  </tbody>\n",
       "</table>\n",
       "<p>3751 rows × 11 columns</p>\n",
       "</div>"
      ],
      "text/plain": [
       "                shop_name  shop_id            item_category_name  \\\n",
       "287630  Выездная Торговля        9              Аксессуары - PS3   \n",
       "287631  Выездная Торговля        9              Аксессуары - PS3   \n",
       "287632  Выездная Торговля        9              Аксессуары - PS3   \n",
       "287633  Выездная Торговля        9              Аксессуары - PS3   \n",
       "287634  Выездная Торговля        9              Аксессуары - PS3   \n",
       "...                   ...      ...                           ...   \n",
       "291376  Выездная Торговля        9  Программы - Для дома и офиса   \n",
       "291377  Выездная Торговля        9                     Служебные   \n",
       "291378  Выездная Торговля        9                     Служебные   \n",
       "291379  Выездная Торговля        9                     Служебные   \n",
       "291380  Выездная Торговля        9                     Служебные   \n",
       "\n",
       "        item_category_id                                          item_name  \\\n",
       "287630                 2  PS Move Motion Controller (Контроллер движений...   \n",
       "287631                 2  PS Move Motion Controller Charger (Зарядная ст...   \n",
       "287632                 2  PS Move Motion Controller Charger (Зарядная ст...   \n",
       "287633                 2  PS3: Гарнитура беспроводная для PS3 (Wireless ...   \n",
       "287634                 2  PS3: Гарнитура беспроводная для PS3 (Wireless ...   \n",
       "...                  ...                                                ...   \n",
       "291376                75  Kaspersky Internet Security для Android Russia...   \n",
       "291377                79               Прием денежных средств для 1С-Онлайн   \n",
       "291378                79               Прием денежных средств для 1С-Онлайн   \n",
       "291379                79               Прием денежных средств для 1С-Онлайн   \n",
       "291380                79               Прием денежных средств для 1С-Онлайн   \n",
       "\n",
       "        item_id       date  date_block_num   item_price  item_cnt_day    Sales  \n",
       "287630     5572 2013-05-10               9  1490.000000           2.0   2980.0  \n",
       "287631     5573 2013-04-10               9   599.000000           1.0    599.0  \n",
       "287632     5573 2013-05-10               9   599.000000           2.0   1198.0  \n",
       "287633     5612 2013-04-10               9  3690.000000           1.0   3690.0  \n",
       "287634     5612 2013-06-10               9  3690.000000           1.0   3690.0  \n",
       "...         ...        ...             ...          ...           ...      ...  \n",
       "291376     4201 2015-02-10              33   399.000000         110.0  43890.0  \n",
       "291377    17717 2014-02-10              21  1999.000000           2.0   3998.0  \n",
       "291378    17717 2014-03-10              21  1219.000000           5.0   6095.0  \n",
       "291379    17717 2014-05-10              21   774.250000           4.0   3097.0  \n",
       "291380    17717 2014-04-10              21   566.333333           3.0   1699.0  \n",
       "\n",
       "[3751 rows x 11 columns]"
      ]
     },
     "execution_count": 51,
     "metadata": {},
     "output_type": "execute_result"
    }
   ],
   "source": [
    "highest_selling_shop= train_set.loc[train_set['shop_id'] == 9]\n",
    "highest_selling_shop"
   ]
  },
  {
   "cell_type": "code",
   "execution_count": 52,
   "id": "b06806b0",
   "metadata": {
    "execution": {
     "iopub.execute_input": "2021-11-20T17:46:13.702205Z",
     "iopub.status.busy": "2021-11-20T17:46:13.699940Z",
     "iopub.status.idle": "2021-11-20T17:46:21.327487Z",
     "shell.execute_reply": "2021-11-20T17:46:21.326901Z",
     "shell.execute_reply.started": "2021-11-20T17:36:56.210662Z"
    },
    "papermill": {
     "duration": 7.702991,
     "end_time": "2021-11-20T17:46:21.327628",
     "exception": false,
     "start_time": "2021-11-20T17:46:13.624637",
     "status": "completed"
    },
    "tags": []
   },
   "outputs": [
    {
     "data": {
      "image/png": "[encoded data removed]",
      "text/plain": [
       "<Figure size 720x720 with 1 Axes>"
      ]
     },
     "metadata": {},
     "output_type": "display_data"
    }
   ],
   "source": [
    "plt.figure(figsize=(10,10))\n",
    "sns.countplot(months)\n",
    "plt.title('Sales per Year', fontsize = 40)\n",
    "plt.xlabel('Year', fontsize = 25)\n",
    "plt.ylabel('Sales', fontsize = 25)\n",
    "plt.show()"
   ]
  },
  {
   "cell_type": "code",
   "execution_count": 53,
   "id": "6bdb5a46",
   "metadata": {
    "execution": {
     "iopub.execute_input": "2021-11-20T17:46:21.489091Z",
     "iopub.status.busy": "2021-11-20T17:46:21.488450Z",
     "iopub.status.idle": "2021-11-20T17:46:21.969517Z",
     "shell.execute_reply": "2021-11-20T17:46:21.968929Z",
     "shell.execute_reply.started": "2021-11-20T17:37:29.727255Z"
    },
    "papermill": {
     "duration": 0.567538,
     "end_time": "2021-11-20T17:46:21.969657",
     "exception": false,
     "start_time": "2021-11-20T17:46:21.402119",
     "status": "completed"
    },
    "tags": []
   },
   "outputs": [
    {
     "data": {
      "text/plain": [
       "Text(0, 0.5, 'Sales')"
      ]
     },
     "execution_count": 53,
     "metadata": {},
     "output_type": "execute_result"
    },
    {
     "data": {
      "text/plain": [
       "<Figure size 2160x2160 with 0 Axes>"
      ]
     },
     "metadata": {},
     "output_type": "display_data"
    },
    {
     "data": {
      "image/png": "[encoded data removed]",
      "text/plain": [
       "<Figure size 432x288 with 1 Axes>"
      ]
     },
     "metadata": {},
     "output_type": "display_data"
    }
   ],
   "source": [
    "sales_by_month = train_set.groupby(['date_block_num'])[[\"Sales\"]].sum()\n",
    "plt.figure(figsize=(30,30))\n",
    "sales_by_month.plot()\n",
    "plt.title('Month with highest Sales in the dataset', fontsize = 10)\n",
    "plt.xlabel('Months', fontsize = 10)\n",
    "plt.ylabel('Sales', fontsize = 10)"
   ]
  },
  {
   "cell_type": "code",
   "execution_count": 54,
   "id": "e6838874",
   "metadata": {
    "execution": {
     "iopub.execute_input": "2021-11-20T17:46:22.132888Z",
     "iopub.status.busy": "2021-11-20T17:46:22.131952Z",
     "iopub.status.idle": "2021-11-20T17:46:22.183772Z",
     "shell.execute_reply": "2021-11-20T17:46:22.184209Z",
     "shell.execute_reply.started": "2021-11-20T17:37:38.519325Z"
    },
    "papermill": {
     "duration": 0.136904,
     "end_time": "2021-11-20T17:46:22.184417",
     "exception": false,
     "start_time": "2021-11-20T17:46:22.047513",
     "status": "completed"
    },
    "tags": []
   },
   "outputs": [
    {
     "data": {
      "text/plain": [
       "232615420.90999845"
      ]
     },
     "execution_count": 54,
     "metadata": {},
     "output_type": "execute_result"
    }
   ],
   "source": [
    "sales_max = train_set.groupby(['date_block_num'])['Sales'].sum()\n",
    "sales_max.max()"
   ]
  },
  {
   "cell_type": "code",
   "execution_count": 55,
   "id": "95cebe63",
   "metadata": {
    "execution": {
     "iopub.execute_input": "2021-11-20T17:46:22.346111Z",
     "iopub.status.busy": "2021-11-20T17:46:22.345499Z",
     "iopub.status.idle": "2021-11-20T17:46:22.349035Z",
     "shell.execute_reply": "2021-11-20T17:46:22.348201Z",
     "shell.execute_reply.started": "2021-11-20T17:37:46.069199Z"
    },
    "papermill": {
     "duration": 0.08635,
     "end_time": "2021-11-20T17:46:22.349218",
     "exception": false,
     "start_time": "2021-11-20T17:46:22.262868",
     "status": "completed"
    },
    "tags": []
   },
   "outputs": [
    {
     "name": "stdout",
     "output_type": "stream",
     "text": [
      "date_block_num\n",
      "0     False\n",
      "1     False\n",
      "2     False\n",
      "3     False\n",
      "4     False\n",
      "5     False\n",
      "6     False\n",
      "7     False\n",
      "8     False\n",
      "9     False\n",
      "10    False\n",
      "11    False\n",
      "12    False\n",
      "13    False\n",
      "14    False\n",
      "15    False\n",
      "16    False\n",
      "17    False\n",
      "18    False\n",
      "19    False\n",
      "20    False\n",
      "21    False\n",
      "22    False\n",
      "23     True\n",
      "24    False\n",
      "25    False\n",
      "26    False\n",
      "27    False\n",
      "28    False\n",
      "29    False\n",
      "30    False\n",
      "31    False\n",
      "32    False\n",
      "33    False\n",
      "Name: Sales, dtype: bool\n"
     ]
    }
   ],
   "source": [
    "print(sales_max==232615420.90999845)"
   ]
  },
  {
   "cell_type": "code",
   "execution_count": 56,
   "id": "9ffd0b6e",
   "metadata": {
    "execution": {
     "iopub.execute_input": "2021-11-20T17:46:22.508799Z",
     "iopub.status.busy": "2021-11-20T17:46:22.507684Z",
     "iopub.status.idle": "2021-11-20T17:46:22.553040Z",
     "shell.execute_reply": "2021-11-20T17:46:22.553539Z",
     "shell.execute_reply.started": "2021-11-20T17:37:54.801377Z"
    },
    "papermill": {
     "duration": 0.126621,
     "end_time": "2021-11-20T17:46:22.553718",
     "exception": false,
     "start_time": "2021-11-20T17:46:22.427097",
     "status": "completed"
    },
    "tags": []
   },
   "outputs": [
    {
     "data": {
      "text/html": [
       "<div>\n",
       "<style scoped>\n",
       "    .dataframe tbody tr th:only-of-type {\n",
       "        vertical-align: middle;\n",
       "    }\n",
       "\n",
       "    .dataframe tbody tr th {\n",
       "        vertical-align: top;\n",
       "    }\n",
       "\n",
       "    .dataframe thead th {\n",
       "        text-align: right;\n",
       "    }\n",
       "</style>\n",
       "<table border=\"1\" class=\"dataframe\">\n",
       "  <thead>\n",
       "    <tr style=\"text-align: right;\">\n",
       "      <th></th>\n",
       "      <th>shop_name</th>\n",
       "      <th>shop_id</th>\n",
       "      <th>item_category_name</th>\n",
       "      <th>item_category_id</th>\n",
       "      <th>item_name</th>\n",
       "      <th>item_id</th>\n",
       "      <th>date</th>\n",
       "      <th>date_block_num</th>\n",
       "      <th>item_price</th>\n",
       "      <th>item_cnt_day</th>\n",
       "      <th>Sales</th>\n",
       "    </tr>\n",
       "  </thead>\n",
       "  <tbody>\n",
       "    <tr>\n",
       "      <th>15563</th>\n",
       "      <td>Адыгея ТЦ \"Мега\"</td>\n",
       "      <td>2</td>\n",
       "      <td>Аксессуары - PS3</td>\n",
       "      <td>2</td>\n",
       "      <td>PS Move Motion Controller (Контроллер движений...</td>\n",
       "      <td>5572</td>\n",
       "      <td>2014-12-18</td>\n",
       "      <td>23</td>\n",
       "      <td>1490.0</td>\n",
       "      <td>1.0</td>\n",
       "      <td>1490.0</td>\n",
       "    </tr>\n",
       "    <tr>\n",
       "      <th>15627</th>\n",
       "      <td>Адыгея ТЦ \"Мега\"</td>\n",
       "      <td>2</td>\n",
       "      <td>Аксессуары - PS3</td>\n",
       "      <td>2</td>\n",
       "      <td>PS3: Turtle Beaсh. EarForce P11. Геймерская ст...</td>\n",
       "      <td>5610</td>\n",
       "      <td>2014-12-31</td>\n",
       "      <td>23</td>\n",
       "      <td>1890.0</td>\n",
       "      <td>1.0</td>\n",
       "      <td>1890.0</td>\n",
       "    </tr>\n",
       "    <tr>\n",
       "      <th>15652</th>\n",
       "      <td>Адыгея ТЦ \"Мега\"</td>\n",
       "      <td>2</td>\n",
       "      <td>Аксессуары - PS3</td>\n",
       "      <td>2</td>\n",
       "      <td>PS3: Геймпад Gioteck VX-1 беспроводной (VX1PS3...</td>\n",
       "      <td>5616</td>\n",
       "      <td>2014-12-29</td>\n",
       "      <td>23</td>\n",
       "      <td>1190.0</td>\n",
       "      <td>1.0</td>\n",
       "      <td>1190.0</td>\n",
       "    </tr>\n",
       "    <tr>\n",
       "      <th>15699</th>\n",
       "      <td>Адыгея ТЦ \"Мега\"</td>\n",
       "      <td>2</td>\n",
       "      <td>Аксессуары - PS3</td>\n",
       "      <td>2</td>\n",
       "      <td>PS3: Контроллер игровой беспроводной красный (...</td>\n",
       "      <td>5631</td>\n",
       "      <td>2014-12-31</td>\n",
       "      <td>23</td>\n",
       "      <td>3290.0</td>\n",
       "      <td>1.0</td>\n",
       "      <td>3290.0</td>\n",
       "    </tr>\n",
       "    <tr>\n",
       "      <th>15712</th>\n",
       "      <td>Адыгея ТЦ \"Мега\"</td>\n",
       "      <td>2</td>\n",
       "      <td>Аксессуары - PS3</td>\n",
       "      <td>2</td>\n",
       "      <td>PS3: Контроллер игровой беспроводной прозрачны...</td>\n",
       "      <td>5634</td>\n",
       "      <td>2014-12-16</td>\n",
       "      <td>23</td>\n",
       "      <td>2590.0</td>\n",
       "      <td>1.0</td>\n",
       "      <td>2590.0</td>\n",
       "    </tr>\n",
       "    <tr>\n",
       "      <th>...</th>\n",
       "      <td>...</td>\n",
       "      <td>...</td>\n",
       "      <td>...</td>\n",
       "      <td>...</td>\n",
       "      <td>...</td>\n",
       "      <td>...</td>\n",
       "      <td>...</td>\n",
       "      <td>...</td>\n",
       "      <td>...</td>\n",
       "      <td>...</td>\n",
       "      <td>...</td>\n",
       "    </tr>\n",
       "    <tr>\n",
       "      <th>2935789</th>\n",
       "      <td>Ярославль ТЦ \"Альтаир\"</td>\n",
       "      <td>59</td>\n",
       "      <td>Элементы питания</td>\n",
       "      <td>83</td>\n",
       "      <td>Элемент питания DURACELL TURBO LR 03 2*BL</td>\n",
       "      <td>22091</td>\n",
       "      <td>2014-12-14</td>\n",
       "      <td>23</td>\n",
       "      <td>139.0</td>\n",
       "      <td>1.0</td>\n",
       "      <td>139.0</td>\n",
       "    </tr>\n",
       "    <tr>\n",
       "      <th>2935790</th>\n",
       "      <td>Ярославль ТЦ \"Альтаир\"</td>\n",
       "      <td>59</td>\n",
       "      <td>Элементы питания</td>\n",
       "      <td>83</td>\n",
       "      <td>Элемент питания DURACELL TURBO LR 03 2*BL</td>\n",
       "      <td>22091</td>\n",
       "      <td>2014-07-12</td>\n",
       "      <td>23</td>\n",
       "      <td>139.0</td>\n",
       "      <td>1.0</td>\n",
       "      <td>139.0</td>\n",
       "    </tr>\n",
       "    <tr>\n",
       "      <th>2935840</th>\n",
       "      <td>Ярославль ТЦ \"Альтаир\"</td>\n",
       "      <td>59</td>\n",
       "      <td>Элементы питания</td>\n",
       "      <td>83</td>\n",
       "      <td>Элемент питания DURACELL TURBO LR6 2*BL</td>\n",
       "      <td>22092</td>\n",
       "      <td>2014-12-21</td>\n",
       "      <td>23</td>\n",
       "      <td>139.0</td>\n",
       "      <td>1.0</td>\n",
       "      <td>139.0</td>\n",
       "    </tr>\n",
       "    <tr>\n",
       "      <th>2935841</th>\n",
       "      <td>Ярославль ТЦ \"Альтаир\"</td>\n",
       "      <td>59</td>\n",
       "      <td>Элементы питания</td>\n",
       "      <td>83</td>\n",
       "      <td>Элемент питания DURACELL TURBO LR6 2*BL</td>\n",
       "      <td>22092</td>\n",
       "      <td>2014-12-15</td>\n",
       "      <td>23</td>\n",
       "      <td>139.0</td>\n",
       "      <td>1.0</td>\n",
       "      <td>139.0</td>\n",
       "    </tr>\n",
       "    <tr>\n",
       "      <th>2935842</th>\n",
       "      <td>Ярославль ТЦ \"Альтаир\"</td>\n",
       "      <td>59</td>\n",
       "      <td>Элементы питания</td>\n",
       "      <td>83</td>\n",
       "      <td>Элемент питания DURACELL TURBO LR6 2*BL</td>\n",
       "      <td>22092</td>\n",
       "      <td>2014-12-13</td>\n",
       "      <td>23</td>\n",
       "      <td>139.0</td>\n",
       "      <td>1.0</td>\n",
       "      <td>139.0</td>\n",
       "    </tr>\n",
       "  </tbody>\n",
       "</table>\n",
       "<p>130786 rows × 11 columns</p>\n",
       "</div>"
      ],
      "text/plain": [
       "                      shop_name  shop_id item_category_name  item_category_id  \\\n",
       "15563          Адыгея ТЦ \"Мега\"        2   Аксессуары - PS3                 2   \n",
       "15627          Адыгея ТЦ \"Мега\"        2   Аксессуары - PS3                 2   \n",
       "15652          Адыгея ТЦ \"Мега\"        2   Аксессуары - PS3                 2   \n",
       "15699          Адыгея ТЦ \"Мега\"        2   Аксессуары - PS3                 2   \n",
       "15712          Адыгея ТЦ \"Мега\"        2   Аксессуары - PS3                 2   \n",
       "...                         ...      ...                ...               ...   \n",
       "2935789  Ярославль ТЦ \"Альтаир\"       59   Элементы питания                83   \n",
       "2935790  Ярославль ТЦ \"Альтаир\"       59   Элементы питания                83   \n",
       "2935840  Ярославль ТЦ \"Альтаир\"       59   Элементы питания                83   \n",
       "2935841  Ярославль ТЦ \"Альтаир\"       59   Элементы питания                83   \n",
       "2935842  Ярославль ТЦ \"Альтаир\"       59   Элементы питания                83   \n",
       "\n",
       "                                                 item_name  item_id  \\\n",
       "15563    PS Move Motion Controller (Контроллер движений...     5572   \n",
       "15627    PS3: Turtle Beaсh. EarForce P11. Геймерская ст...     5610   \n",
       "15652    PS3: Геймпад Gioteck VX-1 беспроводной (VX1PS3...     5616   \n",
       "15699    PS3: Контроллер игровой беспроводной красный (...     5631   \n",
       "15712    PS3: Контроллер игровой беспроводной прозрачны...     5634   \n",
       "...                                                    ...      ...   \n",
       "2935789          Элемент питания DURACELL TURBO LR 03 2*BL    22091   \n",
       "2935790          Элемент питания DURACELL TURBO LR 03 2*BL    22091   \n",
       "2935840            Элемент питания DURACELL TURBO LR6 2*BL    22092   \n",
       "2935841            Элемент питания DURACELL TURBO LR6 2*BL    22092   \n",
       "2935842            Элемент питания DURACELL TURBO LR6 2*BL    22092   \n",
       "\n",
       "              date  date_block_num  item_price  item_cnt_day   Sales  \n",
       "15563   2014-12-18              23      1490.0           1.0  1490.0  \n",
       "15627   2014-12-31              23      1890.0           1.0  1890.0  \n",
       "15652   2014-12-29              23      1190.0           1.0  1190.0  \n",
       "15699   2014-12-31              23      3290.0           1.0  3290.0  \n",
       "15712   2014-12-16              23      2590.0           1.0  2590.0  \n",
       "...            ...             ...         ...           ...     ...  \n",
       "2935789 2014-12-14              23       139.0           1.0   139.0  \n",
       "2935790 2014-07-12              23       139.0           1.0   139.0  \n",
       "2935840 2014-12-21              23       139.0           1.0   139.0  \n",
       "2935841 2014-12-15              23       139.0           1.0   139.0  \n",
       "2935842 2014-12-13              23       139.0           1.0   139.0  \n",
       "\n",
       "[130786 rows x 11 columns]"
      ]
     },
     "execution_count": 56,
     "metadata": {},
     "output_type": "execute_result"
    }
   ],
   "source": [
    "highest_sales_month = train_set[train_set[\"date_block_num\"]==23]\n",
    "highest_sales_month"
   ]
  },
  {
   "cell_type": "code",
   "execution_count": 57,
   "id": "75600193",
   "metadata": {
    "execution": {
     "iopub.execute_input": "2021-11-20T17:46:22.713682Z",
     "iopub.status.busy": "2021-11-20T17:46:22.712690Z",
     "iopub.status.idle": "2021-11-20T17:46:23.161047Z",
     "shell.execute_reply": "2021-11-20T17:46:23.160531Z",
     "shell.execute_reply.started": "2021-11-20T17:38:06.500253Z"
    },
    "papermill": {
     "duration": 0.530265,
     "end_time": "2021-11-20T17:46:23.161191",
     "exception": false,
     "start_time": "2021-11-20T17:46:22.630926",
     "status": "completed"
    },
    "tags": []
   },
   "outputs": [
    {
     "data": {
      "text/plain": [
       "15730394.000000501"
      ]
     },
     "execution_count": 57,
     "metadata": {},
     "output_type": "execute_result"
    }
   ],
   "source": [
    "highest_store_sales = train_set.groupby(['date_block_num', 'shop_name'])['Sales'].sum()\n",
    "\n",
    "highest_store_sales.max()"
   ]
  },
  {
   "cell_type": "code",
   "execution_count": 58,
   "id": "9d5adafb",
   "metadata": {
    "execution": {
     "iopub.execute_input": "2021-11-20T17:46:23.330222Z",
     "iopub.status.busy": "2021-11-20T17:46:23.329355Z",
     "iopub.status.idle": "2021-11-20T17:46:23.332831Z",
     "shell.execute_reply": "2021-11-20T17:46:23.333261Z",
     "shell.execute_reply.started": "2021-11-20T17:38:14.957759Z"
    },
    "papermill": {
     "duration": 0.094012,
     "end_time": "2021-11-20T17:46:23.333447",
     "exception": false,
     "start_time": "2021-11-20T17:46:23.239435",
     "status": "completed"
    },
    "tags": []
   },
   "outputs": [
    {
     "data": {
      "text/html": [
       "<div>\n",
       "<style scoped>\n",
       "    .dataframe tbody tr th:only-of-type {\n",
       "        vertical-align: middle;\n",
       "    }\n",
       "\n",
       "    .dataframe tbody tr th {\n",
       "        vertical-align: top;\n",
       "    }\n",
       "\n",
       "    .dataframe thead th {\n",
       "        text-align: right;\n",
       "    }\n",
       "</style>\n",
       "<table border=\"1\" class=\"dataframe\">\n",
       "  <thead>\n",
       "    <tr style=\"text-align: right;\">\n",
       "      <th></th>\n",
       "      <th></th>\n",
       "      <th>Sales</th>\n",
       "    </tr>\n",
       "    <tr>\n",
       "      <th>date_block_num</th>\n",
       "      <th>shop_name</th>\n",
       "      <th></th>\n",
       "    </tr>\n",
       "  </thead>\n",
       "  <tbody>\n",
       "    <tr>\n",
       "      <th>23</th>\n",
       "      <th>Москва ТРК \"Атриум\"</th>\n",
       "      <td>1.573039e+07</td>\n",
       "    </tr>\n",
       "  </tbody>\n",
       "</table>\n",
       "</div>"
      ],
      "text/plain": [
       "                                           Sales\n",
       "date_block_num shop_name                        \n",
       "23             Москва ТРК \"Атриум\"  1.573039e+07"
      ]
     },
     "execution_count": 58,
     "metadata": {},
     "output_type": "execute_result"
    }
   ],
   "source": [
    "highest_store_sales=pd.DataFrame(highest_store_sales)\n",
    "highest_store_sales=highest_store_sales.loc[highest_store_sales['Sales'] == 15730394.000000501]\n",
    "highest_store_sales"
   ]
  },
  {
   "cell_type": "code",
   "execution_count": 59,
   "id": "6027d70c",
   "metadata": {
    "execution": {
     "iopub.execute_input": "2021-11-20T17:46:23.494081Z",
     "iopub.status.busy": "2021-11-20T17:46:23.493423Z",
     "iopub.status.idle": "2021-11-20T17:46:23.935111Z",
     "shell.execute_reply": "2021-11-20T17:46:23.935595Z",
     "shell.execute_reply.started": "2021-11-20T17:38:22.829355Z"
    },
    "papermill": {
     "duration": 0.525016,
     "end_time": "2021-11-20T17:46:23.935766",
     "exception": false,
     "start_time": "2021-11-20T17:46:23.410750",
     "status": "completed"
    },
    "tags": []
   },
   "outputs": [
    {
     "data": {
      "text/plain": [
       "46487721.9999976"
      ]
     },
     "execution_count": 59,
     "metadata": {},
     "output_type": "execute_result"
    }
   ],
   "source": [
    "highest_item_sales = train_set.groupby(['date_block_num', 'item_category_name'])['Sales'].sum()\n",
    "\n",
    "highest_item_sales.max()"
   ]
  },
  {
   "cell_type": "code",
   "execution_count": 60,
   "id": "8bfc004e",
   "metadata": {
    "execution": {
     "iopub.execute_input": "2021-11-20T17:46:24.101942Z",
     "iopub.status.busy": "2021-11-20T17:46:24.095124Z",
     "iopub.status.idle": "2021-11-20T17:46:24.104834Z",
     "shell.execute_reply": "2021-11-20T17:46:24.104324Z",
     "shell.execute_reply.started": "2021-11-20T17:38:29.197321Z"
    },
    "papermill": {
     "duration": 0.091318,
     "end_time": "2021-11-20T17:46:24.104983",
     "exception": false,
     "start_time": "2021-11-20T17:46:24.013665",
     "status": "completed"
    },
    "tags": []
   },
   "outputs": [
    {
     "data": {
      "text/html": [
       "<div>\n",
       "<style scoped>\n",
       "    .dataframe tbody tr th:only-of-type {\n",
       "        vertical-align: middle;\n",
       "    }\n",
       "\n",
       "    .dataframe tbody tr th {\n",
       "        vertical-align: top;\n",
       "    }\n",
       "\n",
       "    .dataframe thead th {\n",
       "        text-align: right;\n",
       "    }\n",
       "</style>\n",
       "<table border=\"1\" class=\"dataframe\">\n",
       "  <thead>\n",
       "    <tr style=\"text-align: right;\">\n",
       "      <th></th>\n",
       "      <th></th>\n",
       "      <th>Sales</th>\n",
       "    </tr>\n",
       "    <tr>\n",
       "      <th>date_block_num</th>\n",
       "      <th>item_category_name</th>\n",
       "      <th></th>\n",
       "    </tr>\n",
       "  </thead>\n",
       "  <tbody>\n",
       "    <tr>\n",
       "      <th>11</th>\n",
       "      <th>Игровые консоли - PS4</th>\n",
       "      <td>4.648772e+07</td>\n",
       "    </tr>\n",
       "  </tbody>\n",
       "</table>\n",
       "</div>"
      ],
      "text/plain": [
       "                                             Sales\n",
       "date_block_num item_category_name                 \n",
       "11             Игровые консоли - PS4  4.648772e+07"
      ]
     },
     "execution_count": 60,
     "metadata": {},
     "output_type": "execute_result"
    }
   ],
   "source": [
    "highest_item_sales=pd.DataFrame(highest_item_sales)\n",
    "highest_item_sales=highest_item_sales.loc[highest_item_sales['Sales'] == 46487721.9999976]\n",
    "highest_item_sales"
   ]
  },
  {
   "cell_type": "code",
   "execution_count": 61,
   "id": "34282091",
   "metadata": {
    "execution": {
     "iopub.execute_input": "2021-11-20T17:46:24.297177Z",
     "iopub.status.busy": "2021-11-20T17:46:24.296480Z",
     "iopub.status.idle": "2021-11-20T17:46:25.403723Z",
     "shell.execute_reply": "2021-11-20T17:46:25.403065Z",
     "shell.execute_reply.started": "2021-11-20T17:38:37.987221Z"
    },
    "papermill": {
     "duration": 1.217163,
     "end_time": "2021-11-20T17:46:25.403865",
     "exception": false,
     "start_time": "2021-11-20T17:46:24.186702",
     "status": "completed"
    },
    "tags": []
   },
   "outputs": [],
   "source": [
    "train_set = train_set[[\"date_block_num\", \"shop_id\", \"item_id\", \"item_price\", \"item_cnt_day\", \"shop_name\", \"Sales\", \"item_name\"]].groupby(\n",
    "    [\"date_block_num\", \"shop_id\", \"item_id\"]).agg(\n",
    "    {\"item_cnt_day\": \"sum\", \"Sales\" : \"sum\"}).reset_index()\n",
    "train_set.rename(columns={\"item_cnt_day\": \"item_cnt_month\"}, inplace=True)"
   ]
  },
  {
   "cell_type": "code",
   "execution_count": 62,
   "id": "9dbe4ae8",
   "metadata": {
    "execution": {
     "iopub.execute_input": "2021-11-20T17:46:25.563706Z",
     "iopub.status.busy": "2021-11-20T17:46:25.563083Z",
     "iopub.status.idle": "2021-11-20T17:46:25.678690Z",
     "shell.execute_reply": "2021-11-20T17:46:25.678072Z",
     "shell.execute_reply.started": "2021-11-20T17:38:46.853391Z"
    },
    "papermill": {
     "duration": 0.197529,
     "end_time": "2021-11-20T17:46:25.678828",
     "exception": false,
     "start_time": "2021-11-20T17:46:25.481299",
     "status": "completed"
    },
    "tags": []
   },
   "outputs": [
    {
     "data": {
      "text/html": [
       "<div>\n",
       "<style scoped>\n",
       "    .dataframe tbody tr th:only-of-type {\n",
       "        vertical-align: middle;\n",
       "    }\n",
       "\n",
       "    .dataframe tbody tr th {\n",
       "        vertical-align: top;\n",
       "    }\n",
       "\n",
       "    .dataframe thead th {\n",
       "        text-align: right;\n",
       "    }\n",
       "</style>\n",
       "<table border=\"1\" class=\"dataframe\">\n",
       "  <thead>\n",
       "    <tr style=\"text-align: right;\">\n",
       "      <th></th>\n",
       "      <th>shop_name</th>\n",
       "      <th>shop_id</th>\n",
       "      <th>item_category_name</th>\n",
       "      <th>item_category_id</th>\n",
       "      <th>item_name</th>\n",
       "      <th>item_id</th>\n",
       "      <th>ID</th>\n",
       "    </tr>\n",
       "  </thead>\n",
       "  <tbody>\n",
       "    <tr>\n",
       "      <th>0</th>\n",
       "      <td>Адыгея ТЦ \"Мега\"</td>\n",
       "      <td>2</td>\n",
       "      <td>PC - Гарнитуры/Наушники</td>\n",
       "      <td>0</td>\n",
       "      <td>PC: Гарнитура HyperX Cloud Core игровая стерео...</td>\n",
       "      <td>5441</td>\n",
       "      <td>23914</td>\n",
       "    </tr>\n",
       "    <tr>\n",
       "      <th>1</th>\n",
       "      <td>Адыгея ТЦ \"Мега\"</td>\n",
       "      <td>2</td>\n",
       "      <td>Аксессуары - PS3</td>\n",
       "      <td>2</td>\n",
       "      <td>PS Move Motion Controller (Контроллер движений...</td>\n",
       "      <td>5572</td>\n",
       "      <td>24116</td>\n",
       "    </tr>\n",
       "    <tr>\n",
       "      <th>2</th>\n",
       "      <td>Адыгея ТЦ \"Мега\"</td>\n",
       "      <td>2</td>\n",
       "      <td>Аксессуары - PS3</td>\n",
       "      <td>2</td>\n",
       "      <td>PS3: Кабель HDMI Artplays 2 м (ver. 1.4) блистер</td>\n",
       "      <td>5621</td>\n",
       "      <td>25398</td>\n",
       "    </tr>\n",
       "    <tr>\n",
       "      <th>3</th>\n",
       "      <td>Адыгея ТЦ \"Мега\"</td>\n",
       "      <td>2</td>\n",
       "      <td>Аксессуары - PS3</td>\n",
       "      <td>2</td>\n",
       "      <td>PS3: Контроллер игровой беспроводной прозрачны...</td>\n",
       "      <td>5634</td>\n",
       "      <td>21533</td>\n",
       "    </tr>\n",
       "    <tr>\n",
       "      <th>4</th>\n",
       "      <td>Адыгея ТЦ \"Мега\"</td>\n",
       "      <td>2</td>\n",
       "      <td>Аксессуары - PS3</td>\n",
       "      <td>2</td>\n",
       "      <td>PS3: Контроллер игровой беспроводной серый мет...</td>\n",
       "      <td>5637</td>\n",
       "      <td>25197</td>\n",
       "    </tr>\n",
       "    <tr>\n",
       "      <th>...</th>\n",
       "      <td>...</td>\n",
       "      <td>...</td>\n",
       "      <td>...</td>\n",
       "      <td>...</td>\n",
       "      <td>...</td>\n",
       "      <td>...</td>\n",
       "      <td>...</td>\n",
       "    </tr>\n",
       "    <tr>\n",
       "      <th>214195</th>\n",
       "      <td>Ярославль ТЦ \"Альтаир\"</td>\n",
       "      <td>59</td>\n",
       "      <td>Служебные</td>\n",
       "      <td>79</td>\n",
       "      <td>Прием денежных средств для 1С-Онлайн</td>\n",
       "      <td>17717</td>\n",
       "      <td>148174</td>\n",
       "    </tr>\n",
       "    <tr>\n",
       "      <th>214196</th>\n",
       "      <td>Ярославль ТЦ \"Альтаир\"</td>\n",
       "      <td>59</td>\n",
       "      <td>Элементы питания</td>\n",
       "      <td>83</td>\n",
       "      <td>Элемент питания DURACELL LR03-BC2</td>\n",
       "      <td>22087</td>\n",
       "      <td>148487</td>\n",
       "    </tr>\n",
       "    <tr>\n",
       "      <th>214197</th>\n",
       "      <td>Ярославль ТЦ \"Альтаир\"</td>\n",
       "      <td>59</td>\n",
       "      <td>Элементы питания</td>\n",
       "      <td>83</td>\n",
       "      <td>Элемент питания DURACELL LR06-BC2</td>\n",
       "      <td>22088</td>\n",
       "      <td>148488</td>\n",
       "    </tr>\n",
       "    <tr>\n",
       "      <th>214198</th>\n",
       "      <td>Ярославль ТЦ \"Альтаир\"</td>\n",
       "      <td>59</td>\n",
       "      <td>Элементы питания</td>\n",
       "      <td>83</td>\n",
       "      <td>Элемент питания DURACELL TURBO LR 03 2*BL</td>\n",
       "      <td>22091</td>\n",
       "      <td>148489</td>\n",
       "    </tr>\n",
       "    <tr>\n",
       "      <th>214199</th>\n",
       "      <td>Ярославль ТЦ \"Альтаир\"</td>\n",
       "      <td>59</td>\n",
       "      <td>Элементы питания</td>\n",
       "      <td>83</td>\n",
       "      <td>Элемент питания DURACELL TURBO LR6 2*BL</td>\n",
       "      <td>22092</td>\n",
       "      <td>149233</td>\n",
       "    </tr>\n",
       "  </tbody>\n",
       "</table>\n",
       "<p>214200 rows × 7 columns</p>\n",
       "</div>"
      ],
      "text/plain": [
       "                     shop_name  shop_id       item_category_name  \\\n",
       "0             Адыгея ТЦ \"Мега\"        2  PC - Гарнитуры/Наушники   \n",
       "1             Адыгея ТЦ \"Мега\"        2         Аксессуары - PS3   \n",
       "2             Адыгея ТЦ \"Мега\"        2         Аксессуары - PS3   \n",
       "3             Адыгея ТЦ \"Мега\"        2         Аксессуары - PS3   \n",
       "4             Адыгея ТЦ \"Мега\"        2         Аксессуары - PS3   \n",
       "...                        ...      ...                      ...   \n",
       "214195  Ярославль ТЦ \"Альтаир\"       59                Служебные   \n",
       "214196  Ярославль ТЦ \"Альтаир\"       59         Элементы питания   \n",
       "214197  Ярославль ТЦ \"Альтаир\"       59         Элементы питания   \n",
       "214198  Ярославль ТЦ \"Альтаир\"       59         Элементы питания   \n",
       "214199  Ярославль ТЦ \"Альтаир\"       59         Элементы питания   \n",
       "\n",
       "        item_category_id                                          item_name  \\\n",
       "0                      0  PC: Гарнитура HyperX Cloud Core игровая стерео...   \n",
       "1                      2  PS Move Motion Controller (Контроллер движений...   \n",
       "2                      2   PS3: Кабель HDMI Artplays 2 м (ver. 1.4) блистер   \n",
       "3                      2  PS3: Контроллер игровой беспроводной прозрачны...   \n",
       "4                      2  PS3: Контроллер игровой беспроводной серый мет...   \n",
       "...                  ...                                                ...   \n",
       "214195                79               Прием денежных средств для 1С-Онлайн   \n",
       "214196                83                  Элемент питания DURACELL LR03-BC2   \n",
       "214197                83                  Элемент питания DURACELL LR06-BC2   \n",
       "214198                83          Элемент питания DURACELL TURBO LR 03 2*BL   \n",
       "214199                83            Элемент питания DURACELL TURBO LR6 2*BL   \n",
       "\n",
       "        item_id      ID  \n",
       "0          5441   23914  \n",
       "1          5572   24116  \n",
       "2          5621   25398  \n",
       "3          5634   21533  \n",
       "4          5637   25197  \n",
       "...         ...     ...  \n",
       "214195    17717  148174  \n",
       "214196    22087  148487  \n",
       "214197    22088  148488  \n",
       "214198    22091  148489  \n",
       "214199    22092  149233  \n",
       "\n",
       "[214200 rows x 7 columns]"
      ]
     },
     "execution_count": 62,
     "metadata": {},
     "output_type": "execute_result"
    }
   ],
   "source": [
    "test1=pd.merge(items, testset)\n",
    "test2=pd.merge(item_cat, test1)\n",
    "test = pd.merge(shops,test2)\n",
    "test"
   ]
  },
  {
   "cell_type": "code",
   "execution_count": 63,
   "id": "8300bc01",
   "metadata": {
    "execution": {
     "iopub.execute_input": "2021-11-20T17:46:25.844082Z",
     "iopub.status.busy": "2021-11-20T17:46:25.843310Z",
     "iopub.status.idle": "2021-11-20T17:46:25.861298Z",
     "shell.execute_reply": "2021-11-20T17:46:25.861767Z",
     "shell.execute_reply.started": "2021-11-20T17:38:55.380598Z"
    },
    "papermill": {
     "duration": 0.103759,
     "end_time": "2021-11-20T17:46:25.861952",
     "exception": false,
     "start_time": "2021-11-20T17:46:25.758193",
     "status": "completed"
    },
    "tags": []
   },
   "outputs": [],
   "source": [
    "test=test.drop(\"ID\",1)"
   ]
  },
  {
   "cell_type": "code",
   "execution_count": 64,
   "id": "878b6924",
   "metadata": {
    "execution": {
     "iopub.execute_input": "2021-11-20T17:46:26.025067Z",
     "iopub.status.busy": "2021-11-20T17:46:26.024148Z",
     "iopub.status.idle": "2021-11-20T17:46:26.027979Z",
     "shell.execute_reply": "2021-11-20T17:46:26.028403Z",
     "shell.execute_reply.started": "2021-11-20T17:39:03.356325Z"
    },
    "papermill": {
     "duration": 0.087729,
     "end_time": "2021-11-20T17:46:26.028588",
     "exception": false,
     "start_time": "2021-11-20T17:46:25.940859",
     "status": "completed"
    },
    "tags": []
   },
   "outputs": [
    {
     "data": {
      "text/plain": [
       "(214200, 6)"
      ]
     },
     "execution_count": 64,
     "metadata": {},
     "output_type": "execute_result"
    }
   ],
   "source": [
    "test.shape"
   ]
  },
  {
   "cell_type": "code",
   "execution_count": 65,
   "id": "45f08c50",
   "metadata": {
    "execution": {
     "iopub.execute_input": "2021-11-20T17:46:26.190837Z",
     "iopub.status.busy": "2021-11-20T17:46:26.190170Z",
     "iopub.status.idle": "2021-11-20T17:46:26.222285Z",
     "shell.execute_reply": "2021-11-20T17:46:26.223016Z",
     "shell.execute_reply.started": "2021-11-20T17:39:12.965615Z"
    },
    "papermill": {
     "duration": 0.114989,
     "end_time": "2021-11-20T17:46:26.223258",
     "exception": false,
     "start_time": "2021-11-20T17:46:26.108269",
     "status": "completed"
    },
    "tags": []
   },
   "outputs": [
    {
     "name": "stdout",
     "output_type": "stream",
     "text": [
      "Total unique item_ids in train_set dataset:  21806\n",
      "Total unique item_ids in test dataset:  5100\n",
      "Total unique shop_ids train_set dataset:  60\n",
      "Total unique shop_ids in test dataset:  42\n"
     ]
    }
   ],
   "source": [
    "train_set_u = train_set['item_id'].nunique()\n",
    "test_u = test['item_id'].nunique()\n",
    "train_set_s = train_set['shop_id'].nunique()\n",
    "test_s = test['shop_id'].nunique()\n",
    "print(\"Total unique item_ids in train_set dataset: \", train_set_u)\n",
    "print(\"Total unique item_ids in test dataset: \", test_u )\n",
    "\n",
    "print(\"Total unique shop_ids train_set dataset: \", train_set_s)\n",
    "print(\"Total unique shop_ids in test dataset: \", test_s)"
   ]
  },
  {
   "cell_type": "code",
   "execution_count": 66,
   "id": "d1770a50",
   "metadata": {
    "execution": {
     "iopub.execute_input": "2021-11-20T17:46:26.387630Z",
     "iopub.status.busy": "2021-11-20T17:46:26.387028Z",
     "iopub.status.idle": "2021-11-20T17:46:26.498685Z",
     "shell.execute_reply": "2021-11-20T17:46:26.498125Z",
     "shell.execute_reply.started": "2021-11-20T17:39:21.485686Z"
    },
    "papermill": {
     "duration": 0.193817,
     "end_time": "2021-11-20T17:46:26.498829",
     "exception": false,
     "start_time": "2021-11-20T17:46:26.305012",
     "status": "completed"
    },
    "tags": []
   },
   "outputs": [],
   "source": [
    "train_set = train_set[train_set['shop_id'].isin(test['shop_id'].unique())]\n",
    "train_set = train_set[train_set['item_id'].isin(test['item_id'].unique())]"
   ]
  },
  {
   "cell_type": "code",
   "execution_count": 67,
   "id": "37a055f6",
   "metadata": {
    "execution": {
     "iopub.execute_input": "2021-11-20T17:46:26.663739Z",
     "iopub.status.busy": "2021-11-20T17:46:26.663137Z",
     "iopub.status.idle": "2021-11-20T17:46:26.678360Z",
     "shell.execute_reply": "2021-11-20T17:46:26.679070Z",
     "shell.execute_reply.started": "2021-11-20T17:39:30.253947Z"
    },
    "papermill": {
     "duration": 0.10059,
     "end_time": "2021-11-20T17:46:26.679290",
     "exception": false,
     "start_time": "2021-11-20T17:46:26.578700",
     "status": "completed"
    },
    "tags": []
   },
   "outputs": [
    {
     "name": "stdout",
     "output_type": "stream",
     "text": [
      "Total unique item_ids in train_set dataset:  4716\n",
      "Total unique item_ids in test dataset:  5100\n",
      "Total unique shop_ids train_set dataset:  42\n",
      "Total unique shop_ids in test dataset:  42\n"
     ]
    }
   ],
   "source": [
    "train_set_u = train_set['item_id'].nunique()\n",
    "test_u = test['item_id'].nunique()\n",
    "train_set_s = train_set['shop_id'].nunique()\n",
    "test_s = test['shop_id'].nunique()\n",
    "print(\"Total unique item_ids in train_set dataset: \", train_set_u)\n",
    "print(\"Total unique item_ids in test dataset: \", test_u )\n",
    "\n",
    "print(\"Total unique shop_ids train_set dataset: \", train_set_s)\n",
    "print(\"Total unique shop_ids in test dataset: \", test_s)"
   ]
  },
  {
   "cell_type": "code",
   "execution_count": 68,
   "id": "458bc162",
   "metadata": {
    "execution": {
     "iopub.execute_input": "2021-11-20T17:46:26.844363Z",
     "iopub.status.busy": "2021-11-20T17:46:26.843519Z",
     "iopub.status.idle": "2021-11-20T17:46:26.846550Z",
     "shell.execute_reply": "2021-11-20T17:46:26.847096Z",
     "shell.execute_reply.started": "2021-11-20T17:39:53.004372Z"
    },
    "papermill": {
     "duration": 0.087668,
     "end_time": "2021-11-20T17:46:26.847257",
     "exception": false,
     "start_time": "2021-11-20T17:46:26.759589",
     "status": "completed"
    },
    "tags": []
   },
   "outputs": [
    {
     "data": {
      "text/plain": [
       "(214200, 6)"
      ]
     },
     "execution_count": 68,
     "metadata": {},
     "output_type": "execute_result"
    }
   ],
   "source": [
    "test.shape"
   ]
  },
  {
   "cell_type": "code",
   "execution_count": 69,
   "id": "8161c4dd",
   "metadata": {
    "execution": {
     "iopub.execute_input": "2021-11-20T17:46:27.012000Z",
     "iopub.status.busy": "2021-11-20T17:46:27.010442Z",
     "iopub.status.idle": "2021-11-20T17:46:27.014807Z",
     "shell.execute_reply": "2021-11-20T17:46:27.014257Z",
     "shell.execute_reply.started": "2021-11-20T17:39:56.854262Z"
    },
    "papermill": {
     "duration": 0.088364,
     "end_time": "2021-11-20T17:46:27.014952",
     "exception": false,
     "start_time": "2021-11-20T17:46:26.926588",
     "status": "completed"
    },
    "tags": []
   },
   "outputs": [],
   "source": [
    "test[\"item_cnt_month\"]=\" \""
   ]
  },
  {
   "cell_type": "code",
   "execution_count": 70,
   "id": "394f9204",
   "metadata": {
    "execution": {
     "iopub.execute_input": "2021-11-20T17:46:27.210961Z",
     "iopub.status.busy": "2021-11-20T17:46:27.210271Z",
     "iopub.status.idle": "2021-11-20T17:46:27.242733Z",
     "shell.execute_reply": "2021-11-20T17:46:27.242149Z",
     "shell.execute_reply.started": "2021-11-20T17:40:12.860031Z"
    },
    "papermill": {
     "duration": 0.148241,
     "end_time": "2021-11-20T17:46:27.242867",
     "exception": false,
     "start_time": "2021-11-20T17:46:27.094626",
     "status": "completed"
    },
    "tags": []
   },
   "outputs": [
    {
     "name": "stdout",
     "output_type": "stream",
     "text": [
      "<class 'pandas.core.frame.DataFrame'>\n",
      "Int64Index: 214200 entries, 0 to 214199\n",
      "Data columns (total 7 columns):\n",
      " #   Column              Non-Null Count   Dtype \n",
      "---  ------              --------------   ----- \n",
      " 0   shop_name           214200 non-null  object\n",
      " 1   shop_id             214200 non-null  int64 \n",
      " 2   item_category_name  214200 non-null  object\n",
      " 3   item_category_id    214200 non-null  int64 \n",
      " 4   item_name           214200 non-null  object\n",
      " 5   item_id             214200 non-null  int64 \n",
      " 6   item_cnt_month      214200 non-null  object\n",
      "dtypes: int64(3), object(4)\n",
      "memory usage: 13.1+ MB\n",
      "<class 'pandas.core.frame.DataFrame'>\n",
      "Int64Index: 600158 entries, 3921 to 1609121\n",
      "Data columns (total 5 columns):\n",
      " #   Column          Non-Null Count   Dtype  \n",
      "---  ------          --------------   -----  \n",
      " 0   date_block_num  600158 non-null  int64  \n",
      " 1   shop_id         600158 non-null  int64  \n",
      " 2   item_id         600158 non-null  int64  \n",
      " 3   item_cnt_month  600158 non-null  float64\n",
      " 4   Sales           600158 non-null  float64\n",
      "dtypes: float64(2), int64(3)\n",
      "memory usage: 27.5 MB\n"
     ]
    }
   ],
   "source": [
    "test.info()\n",
    "train_set.info()"
   ]
  },
  {
   "cell_type": "code",
   "execution_count": 71,
   "id": "8c8c0b8d",
   "metadata": {
    "execution": {
     "iopub.execute_input": "2021-11-20T17:46:27.408652Z",
     "iopub.status.busy": "2021-11-20T17:46:27.408028Z",
     "iopub.status.idle": "2021-11-20T17:46:27.455091Z",
     "shell.execute_reply": "2021-11-20T17:46:27.455810Z",
     "shell.execute_reply.started": "2021-11-20T17:40:23.937883Z"
    },
    "papermill": {
     "duration": 0.132025,
     "end_time": "2021-11-20T17:46:27.455999",
     "exception": false,
     "start_time": "2021-11-20T17:46:27.323974",
     "status": "completed"
    },
    "tags": []
   },
   "outputs": [],
   "source": [
    "train_set=train_set.drop(\"Sales\", 1)\n",
    "train_set=train_set.drop(\"date_block_num\", 1)\n",
    "test= test.drop(\"item_category_id\", 1)\n",
    "test= test.drop(\"item_category_name\", 1)\n",
    "test= test.drop(\"item_name\", 1)\n",
    "test= test.drop(\"shop_name\", 1)"
   ]
  },
  {
   "cell_type": "code",
   "execution_count": 72,
   "id": "ab131e8c",
   "metadata": {
    "execution": {
     "iopub.execute_input": "2021-11-20T17:46:27.619218Z",
     "iopub.status.busy": "2021-11-20T17:46:27.618621Z",
     "iopub.status.idle": "2021-11-20T17:46:28.720458Z",
     "shell.execute_reply": "2021-11-20T17:46:28.720967Z",
     "shell.execute_reply.started": "2021-11-20T17:40:34.665933Z"
    },
    "papermill": {
     "duration": 1.185517,
     "end_time": "2021-11-20T17:46:28.721139",
     "exception": false,
     "start_time": "2021-11-20T17:46:27.535622",
     "status": "completed"
    },
    "tags": []
   },
   "outputs": [
    {
     "data": {
      "text/plain": [
       "LGBMRegressor(colsample_bytree=0.9, learning_rate=0.03, max_depth=6,\n",
       "              min_child_weight=1, min_split_gain=0.0222415, num_leaves=32,\n",
       "              reg_alpha=0.04, reg_lambda=0.073, subsample=0.9)"
      ]
     },
     "execution_count": 72,
     "metadata": {},
     "output_type": "execute_result"
    }
   ],
   "source": [
    "train_x = train_set.drop(['item_cnt_month'], axis=1)\n",
    "train_y = train_set['item_cnt_month']\n",
    "test_x = test.drop(['item_cnt_month'], axis=1)\n",
    "model_lgb = LGBMRegressor(colsample_bytree=0.9, learning_rate=0.03, max_depth=6,\n",
    "              min_child_weight=1, min_split_gain=0.0222415, n_estimators=100,\n",
    "              num_leaves=32, reg_alpha=0.04, reg_lambda=0.073,\n",
    "              subsample=0.9)\n",
    "model_lgb.fit(train_x, train_y)"
   ]
  },
  {
   "cell_type": "code",
   "execution_count": 73,
   "id": "45e52658",
   "metadata": {
    "execution": {
     "iopub.execute_input": "2021-11-20T17:46:28.886970Z",
     "iopub.status.busy": "2021-11-20T17:46:28.886338Z",
     "iopub.status.idle": "2021-11-20T17:46:29.185709Z",
     "shell.execute_reply": "2021-11-20T17:46:29.186373Z",
     "shell.execute_reply.started": "2021-11-20T17:41:17.449705Z"
    },
    "papermill": {
     "duration": 0.384829,
     "end_time": "2021-11-20T17:46:29.186569",
     "exception": false,
     "start_time": "2021-11-20T17:46:28.801740",
     "status": "completed"
    },
    "tags": []
   },
   "outputs": [
    {
     "data": {
      "text/plain": [
       "array([2.15259636, 2.15259636, 2.15259636, ..., 3.50020661, 3.4086322 ,\n",
       "       3.4086322 ])"
      ]
     },
     "execution_count": 73,
     "metadata": {},
     "output_type": "execute_result"
    }
   ],
   "source": [
    "sales_prediction = model_lgb.predict(test_x)\n",
    "sales_prediction"
   ]
  },
  {
   "cell_type": "code",
   "execution_count": 74,
   "id": "81e9d6f5",
   "metadata": {
    "execution": {
     "iopub.execute_input": "2021-11-20T17:46:29.358620Z",
     "iopub.status.busy": "2021-11-20T17:46:29.357959Z",
     "iopub.status.idle": "2021-11-20T17:46:29.366944Z",
     "shell.execute_reply": "2021-11-20T17:46:29.367443Z",
     "shell.execute_reply.started": "2021-11-20T17:41:55.230490Z"
    },
    "papermill": {
     "duration": 0.098477,
     "end_time": "2021-11-20T17:46:29.367612",
     "exception": false,
     "start_time": "2021-11-20T17:46:29.269135",
     "status": "completed"
    },
    "tags": []
   },
   "outputs": [
    {
     "data": {
      "text/html": [
       "<div>\n",
       "<style scoped>\n",
       "    .dataframe tbody tr th:only-of-type {\n",
       "        vertical-align: middle;\n",
       "    }\n",
       "\n",
       "    .dataframe tbody tr th {\n",
       "        vertical-align: top;\n",
       "    }\n",
       "\n",
       "    .dataframe thead th {\n",
       "        text-align: right;\n",
       "    }\n",
       "</style>\n",
       "<table border=\"1\" class=\"dataframe\">\n",
       "  <thead>\n",
       "    <tr style=\"text-align: right;\">\n",
       "      <th></th>\n",
       "      <th>ID</th>\n",
       "      <th>item_cnt_month</th>\n",
       "    </tr>\n",
       "  </thead>\n",
       "  <tbody>\n",
       "    <tr>\n",
       "      <th>0</th>\n",
       "      <td>0</td>\n",
       "      <td>2.152596</td>\n",
       "    </tr>\n",
       "    <tr>\n",
       "      <th>1</th>\n",
       "      <td>1</td>\n",
       "      <td>2.152596</td>\n",
       "    </tr>\n",
       "    <tr>\n",
       "      <th>2</th>\n",
       "      <td>2</td>\n",
       "      <td>2.152596</td>\n",
       "    </tr>\n",
       "    <tr>\n",
       "      <th>3</th>\n",
       "      <td>3</td>\n",
       "      <td>2.152596</td>\n",
       "    </tr>\n",
       "    <tr>\n",
       "      <th>4</th>\n",
       "      <td>4</td>\n",
       "      <td>2.152596</td>\n",
       "    </tr>\n",
       "    <tr>\n",
       "      <th>...</th>\n",
       "      <td>...</td>\n",
       "      <td>...</td>\n",
       "    </tr>\n",
       "    <tr>\n",
       "      <th>214195</th>\n",
       "      <td>214195</td>\n",
       "      <td>5.101422</td>\n",
       "    </tr>\n",
       "    <tr>\n",
       "      <th>214196</th>\n",
       "      <td>214196</td>\n",
       "      <td>3.500207</td>\n",
       "    </tr>\n",
       "    <tr>\n",
       "      <th>214197</th>\n",
       "      <td>214197</td>\n",
       "      <td>3.500207</td>\n",
       "    </tr>\n",
       "    <tr>\n",
       "      <th>214198</th>\n",
       "      <td>214198</td>\n",
       "      <td>3.408632</td>\n",
       "    </tr>\n",
       "    <tr>\n",
       "      <th>214199</th>\n",
       "      <td>214199</td>\n",
       "      <td>3.408632</td>\n",
       "    </tr>\n",
       "  </tbody>\n",
       "</table>\n",
       "<p>214200 rows × 2 columns</p>\n",
       "</div>"
      ],
      "text/plain": [
       "            ID  item_cnt_month\n",
       "0            0        2.152596\n",
       "1            1        2.152596\n",
       "2            2        2.152596\n",
       "3            3        2.152596\n",
       "4            4        2.152596\n",
       "...        ...             ...\n",
       "214195  214195        5.101422\n",
       "214196  214196        3.500207\n",
       "214197  214197        3.500207\n",
       "214198  214198        3.408632\n",
       "214199  214199        3.408632\n",
       "\n",
       "[214200 rows x 2 columns]"
      ]
     },
     "execution_count": 74,
     "metadata": {},
     "output_type": "execute_result"
    }
   ],
   "source": [
    "sales_predict_submission = pd.DataFrame({'ID':test_x.index,'item_cnt_month':sales_prediction})\n",
    "\n",
    "sales_predict_submission"
   ]
  },
  {
   "cell_type": "code",
   "execution_count": 75,
   "id": "4cf9a2f3",
   "metadata": {
    "execution": {
     "iopub.execute_input": "2021-11-20T17:46:29.533937Z",
     "iopub.status.busy": "2021-11-20T17:46:29.533230Z",
     "iopub.status.idle": "2021-11-20T17:46:30.017236Z",
     "shell.execute_reply": "2021-11-20T17:46:30.017772Z",
     "shell.execute_reply.started": "2021-11-20T17:43:03.053653Z"
    },
    "papermill": {
     "duration": 0.568465,
     "end_time": "2021-11-20T17:46:30.017973",
     "exception": false,
     "start_time": "2021-11-20T17:46:29.449508",
     "status": "completed"
    },
    "tags": []
   },
   "outputs": [],
   "source": [
    "sales_predict_submission.to_csv('./submission.csv', index= False, header= 1)"
   ]
  },
  {
   "cell_type": "code",
   "execution_count": null,
   "id": "0b855c47",
   "metadata": {
    "papermill": {
     "duration": 0.084646,
     "end_time": "2021-11-20T17:46:30.184197",
     "exception": false,
     "start_time": "2021-11-20T17:46:30.099551",
     "status": "completed"
    },
    "tags": []
   },
   "outputs": [],
   "source": []
  }
 ],
 "metadata": {
  "kernelspec": {
   "display_name": "Python 3",
   "language": "python",
   "name": "python3"
  },
  "language_info": {
   "codemirror_mode": {
    "name": "ipython",
    "version": 3
   },
   "file_extension": ".py",
   "mimetype": "text/x-python",
   "name": "python",
   "nbconvert_exporter": "python",
   "pygments_lexer": "ipython3",
   "version": "3.7.10"
  },
  "papermill": {
   "default_parameters": {},
   "duration": 141.308144,
   "end_time": "2021-11-20T17:46:31.277433",
   "environment_variables": {},
   "exception": null,
   "input_path": "__notebook__.ipynb",
   "output_path": "__notebook__.ipynb",
   "parameters": {},
   "start_time": "2021-11-20T17:44:09.969289",
   "version": "2.3.3"
  }
 },
 "nbformat": 4,
 "nbformat_minor": 5
}